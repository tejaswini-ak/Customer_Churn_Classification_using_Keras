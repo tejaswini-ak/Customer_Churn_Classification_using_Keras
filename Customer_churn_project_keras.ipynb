{
  "nbformat": 4,
  "nbformat_minor": 0,
  "metadata": {
    "colab": {
      "provenance": []
    },
    "kernelspec": {
      "name": "python3",
      "display_name": "Python 3"
    },
    "language_info": {
      "name": "python"
    }
  },
  "cells": [
    {
      "cell_type": "markdown",
      "source": [
        "## **Importing Libraries**"
      ],
      "metadata": {
        "id": "dO2ngFL9McFc"
      }
    },
    {
      "cell_type": "code",
      "source": [
        "import pandas as pd\n",
        "import numpy as np\n",
        "import matplotlib.pyplot as plt"
      ],
      "metadata": {
        "id": "CB_YskbWKs0I"
      },
      "execution_count": 1,
      "outputs": []
    },
    {
      "cell_type": "markdown",
      "source": [
        "## **Customer_churn Dataset**"
      ],
      "metadata": {
        "id": "Ip0rI346MSPn"
      }
    },
    {
      "cell_type": "code",
      "execution_count": 2,
      "metadata": {
        "id": "Jcb5TXqsJX9Y"
      },
      "outputs": [],
      "source": [
        "!mkdir -p ~/.kaggle\n",
        "!cp kaggle.json ~/.kaggle/"
      ]
    },
    {
      "cell_type": "code",
      "source": [
        "!kaggle datasets download -d blastchar/telco-customer-churn"
      ],
      "metadata": {
        "colab": {
          "base_uri": "https://localhost:8080/"
        },
        "id": "FBjPCLdlJpfT",
        "outputId": "e823f3c1-dea6-44d0-d980-54a1164ba137"
      },
      "execution_count": 3,
      "outputs": [
        {
          "output_type": "stream",
          "name": "stdout",
          "text": [
            "Warning: Your Kaggle API key is readable by other users on this system! To fix this, you can run 'chmod 600 /root/.kaggle/kaggle.json'\n",
            "Dataset URL: https://www.kaggle.com/datasets/blastchar/telco-customer-churn\n",
            "License(s): copyright-authors\n",
            "Downloading telco-customer-churn.zip to /content\n",
            "100% 172k/172k [00:00<00:00, 684kB/s]\n",
            "100% 172k/172k [00:00<00:00, 684kB/s]\n"
          ]
        }
      ]
    },
    {
      "cell_type": "code",
      "source": [
        "import zipfile\n",
        "zip_ref = zipfile.ZipFile('/content/telco-customer-churn.zip', 'r')\n",
        "zip_ref.extractall('/content')\n",
        "zip_ref.close()"
      ],
      "metadata": {
        "id": "aYrjOGkWJ4iE"
      },
      "execution_count": 4,
      "outputs": []
    },
    {
      "cell_type": "code",
      "source": [
        "df1= pd.read_csv(\"/content/WA_Fn-UseC_-Telco-Customer-Churn.csv\")\n",
        "df1.head()"
      ],
      "metadata": {
        "colab": {
          "base_uri": "https://localhost:8080/",
          "height": 342
        },
        "id": "la5J96xjKD7i",
        "outputId": "566cc287-c75b-44c4-8c7d-de82a7032a11"
      },
      "execution_count": 5,
      "outputs": [
        {
          "output_type": "execute_result",
          "data": {
            "text/plain": [
              "   customerID  gender  SeniorCitizen Partner Dependents  tenure PhoneService  \\\n",
              "0  7590-VHVEG  Female              0     Yes         No       1           No   \n",
              "1  5575-GNVDE    Male              0      No         No      34          Yes   \n",
              "2  3668-QPYBK    Male              0      No         No       2          Yes   \n",
              "3  7795-CFOCW    Male              0      No         No      45           No   \n",
              "4  9237-HQITU  Female              0      No         No       2          Yes   \n",
              "\n",
              "      MultipleLines InternetService OnlineSecurity  ... DeviceProtection  \\\n",
              "0  No phone service             DSL             No  ...               No   \n",
              "1                No             DSL            Yes  ...              Yes   \n",
              "2                No             DSL            Yes  ...               No   \n",
              "3  No phone service             DSL            Yes  ...              Yes   \n",
              "4                No     Fiber optic             No  ...               No   \n",
              "\n",
              "  TechSupport StreamingTV StreamingMovies        Contract PaperlessBilling  \\\n",
              "0          No          No              No  Month-to-month              Yes   \n",
              "1          No          No              No        One year               No   \n",
              "2          No          No              No  Month-to-month              Yes   \n",
              "3         Yes          No              No        One year               No   \n",
              "4          No          No              No  Month-to-month              Yes   \n",
              "\n",
              "               PaymentMethod MonthlyCharges  TotalCharges Churn  \n",
              "0           Electronic check          29.85         29.85    No  \n",
              "1               Mailed check          56.95        1889.5    No  \n",
              "2               Mailed check          53.85        108.15   Yes  \n",
              "3  Bank transfer (automatic)          42.30       1840.75    No  \n",
              "4           Electronic check          70.70        151.65   Yes  \n",
              "\n",
              "[5 rows x 21 columns]"
            ],
            "text/html": [
              "\n",
              "  <div id=\"df-3c8ac6e9-80f8-4fbc-b946-416e4d4d3cb0\" class=\"colab-df-container\">\n",
              "    <div>\n",
              "<style scoped>\n",
              "    .dataframe tbody tr th:only-of-type {\n",
              "        vertical-align: middle;\n",
              "    }\n",
              "\n",
              "    .dataframe tbody tr th {\n",
              "        vertical-align: top;\n",
              "    }\n",
              "\n",
              "    .dataframe thead th {\n",
              "        text-align: right;\n",
              "    }\n",
              "</style>\n",
              "<table border=\"1\" class=\"dataframe\">\n",
              "  <thead>\n",
              "    <tr style=\"text-align: right;\">\n",
              "      <th></th>\n",
              "      <th>customerID</th>\n",
              "      <th>gender</th>\n",
              "      <th>SeniorCitizen</th>\n",
              "      <th>Partner</th>\n",
              "      <th>Dependents</th>\n",
              "      <th>tenure</th>\n",
              "      <th>PhoneService</th>\n",
              "      <th>MultipleLines</th>\n",
              "      <th>InternetService</th>\n",
              "      <th>OnlineSecurity</th>\n",
              "      <th>...</th>\n",
              "      <th>DeviceProtection</th>\n",
              "      <th>TechSupport</th>\n",
              "      <th>StreamingTV</th>\n",
              "      <th>StreamingMovies</th>\n",
              "      <th>Contract</th>\n",
              "      <th>PaperlessBilling</th>\n",
              "      <th>PaymentMethod</th>\n",
              "      <th>MonthlyCharges</th>\n",
              "      <th>TotalCharges</th>\n",
              "      <th>Churn</th>\n",
              "    </tr>\n",
              "  </thead>\n",
              "  <tbody>\n",
              "    <tr>\n",
              "      <th>0</th>\n",
              "      <td>7590-VHVEG</td>\n",
              "      <td>Female</td>\n",
              "      <td>0</td>\n",
              "      <td>Yes</td>\n",
              "      <td>No</td>\n",
              "      <td>1</td>\n",
              "      <td>No</td>\n",
              "      <td>No phone service</td>\n",
              "      <td>DSL</td>\n",
              "      <td>No</td>\n",
              "      <td>...</td>\n",
              "      <td>No</td>\n",
              "      <td>No</td>\n",
              "      <td>No</td>\n",
              "      <td>No</td>\n",
              "      <td>Month-to-month</td>\n",
              "      <td>Yes</td>\n",
              "      <td>Electronic check</td>\n",
              "      <td>29.85</td>\n",
              "      <td>29.85</td>\n",
              "      <td>No</td>\n",
              "    </tr>\n",
              "    <tr>\n",
              "      <th>1</th>\n",
              "      <td>5575-GNVDE</td>\n",
              "      <td>Male</td>\n",
              "      <td>0</td>\n",
              "      <td>No</td>\n",
              "      <td>No</td>\n",
              "      <td>34</td>\n",
              "      <td>Yes</td>\n",
              "      <td>No</td>\n",
              "      <td>DSL</td>\n",
              "      <td>Yes</td>\n",
              "      <td>...</td>\n",
              "      <td>Yes</td>\n",
              "      <td>No</td>\n",
              "      <td>No</td>\n",
              "      <td>No</td>\n",
              "      <td>One year</td>\n",
              "      <td>No</td>\n",
              "      <td>Mailed check</td>\n",
              "      <td>56.95</td>\n",
              "      <td>1889.5</td>\n",
              "      <td>No</td>\n",
              "    </tr>\n",
              "    <tr>\n",
              "      <th>2</th>\n",
              "      <td>3668-QPYBK</td>\n",
              "      <td>Male</td>\n",
              "      <td>0</td>\n",
              "      <td>No</td>\n",
              "      <td>No</td>\n",
              "      <td>2</td>\n",
              "      <td>Yes</td>\n",
              "      <td>No</td>\n",
              "      <td>DSL</td>\n",
              "      <td>Yes</td>\n",
              "      <td>...</td>\n",
              "      <td>No</td>\n",
              "      <td>No</td>\n",
              "      <td>No</td>\n",
              "      <td>No</td>\n",
              "      <td>Month-to-month</td>\n",
              "      <td>Yes</td>\n",
              "      <td>Mailed check</td>\n",
              "      <td>53.85</td>\n",
              "      <td>108.15</td>\n",
              "      <td>Yes</td>\n",
              "    </tr>\n",
              "    <tr>\n",
              "      <th>3</th>\n",
              "      <td>7795-CFOCW</td>\n",
              "      <td>Male</td>\n",
              "      <td>0</td>\n",
              "      <td>No</td>\n",
              "      <td>No</td>\n",
              "      <td>45</td>\n",
              "      <td>No</td>\n",
              "      <td>No phone service</td>\n",
              "      <td>DSL</td>\n",
              "      <td>Yes</td>\n",
              "      <td>...</td>\n",
              "      <td>Yes</td>\n",
              "      <td>Yes</td>\n",
              "      <td>No</td>\n",
              "      <td>No</td>\n",
              "      <td>One year</td>\n",
              "      <td>No</td>\n",
              "      <td>Bank transfer (automatic)</td>\n",
              "      <td>42.30</td>\n",
              "      <td>1840.75</td>\n",
              "      <td>No</td>\n",
              "    </tr>\n",
              "    <tr>\n",
              "      <th>4</th>\n",
              "      <td>9237-HQITU</td>\n",
              "      <td>Female</td>\n",
              "      <td>0</td>\n",
              "      <td>No</td>\n",
              "      <td>No</td>\n",
              "      <td>2</td>\n",
              "      <td>Yes</td>\n",
              "      <td>No</td>\n",
              "      <td>Fiber optic</td>\n",
              "      <td>No</td>\n",
              "      <td>...</td>\n",
              "      <td>No</td>\n",
              "      <td>No</td>\n",
              "      <td>No</td>\n",
              "      <td>No</td>\n",
              "      <td>Month-to-month</td>\n",
              "      <td>Yes</td>\n",
              "      <td>Electronic check</td>\n",
              "      <td>70.70</td>\n",
              "      <td>151.65</td>\n",
              "      <td>Yes</td>\n",
              "    </tr>\n",
              "  </tbody>\n",
              "</table>\n",
              "<p>5 rows × 21 columns</p>\n",
              "</div>\n",
              "    <div class=\"colab-df-buttons\">\n",
              "\n",
              "  <div class=\"colab-df-container\">\n",
              "    <button class=\"colab-df-convert\" onclick=\"convertToInteractive('df-3c8ac6e9-80f8-4fbc-b946-416e4d4d3cb0')\"\n",
              "            title=\"Convert this dataframe to an interactive table.\"\n",
              "            style=\"display:none;\">\n",
              "\n",
              "  <svg xmlns=\"http://www.w3.org/2000/svg\" height=\"24px\" viewBox=\"0 -960 960 960\">\n",
              "    <path d=\"M120-120v-720h720v720H120Zm60-500h600v-160H180v160Zm220 220h160v-160H400v160Zm0 220h160v-160H400v160ZM180-400h160v-160H180v160Zm440 0h160v-160H620v160ZM180-180h160v-160H180v160Zm440 0h160v-160H620v160Z\"/>\n",
              "  </svg>\n",
              "    </button>\n",
              "\n",
              "  <style>\n",
              "    .colab-df-container {\n",
              "      display:flex;\n",
              "      gap: 12px;\n",
              "    }\n",
              "\n",
              "    .colab-df-convert {\n",
              "      background-color: #E8F0FE;\n",
              "      border: none;\n",
              "      border-radius: 50%;\n",
              "      cursor: pointer;\n",
              "      display: none;\n",
              "      fill: #1967D2;\n",
              "      height: 32px;\n",
              "      padding: 0 0 0 0;\n",
              "      width: 32px;\n",
              "    }\n",
              "\n",
              "    .colab-df-convert:hover {\n",
              "      background-color: #E2EBFA;\n",
              "      box-shadow: 0px 1px 2px rgba(60, 64, 67, 0.3), 0px 1px 3px 1px rgba(60, 64, 67, 0.15);\n",
              "      fill: #174EA6;\n",
              "    }\n",
              "\n",
              "    .colab-df-buttons div {\n",
              "      margin-bottom: 4px;\n",
              "    }\n",
              "\n",
              "    [theme=dark] .colab-df-convert {\n",
              "      background-color: #3B4455;\n",
              "      fill: #D2E3FC;\n",
              "    }\n",
              "\n",
              "    [theme=dark] .colab-df-convert:hover {\n",
              "      background-color: #434B5C;\n",
              "      box-shadow: 0px 1px 3px 1px rgba(0, 0, 0, 0.15);\n",
              "      filter: drop-shadow(0px 1px 2px rgba(0, 0, 0, 0.3));\n",
              "      fill: #FFFFFF;\n",
              "    }\n",
              "  </style>\n",
              "\n",
              "    <script>\n",
              "      const buttonEl =\n",
              "        document.querySelector('#df-3c8ac6e9-80f8-4fbc-b946-416e4d4d3cb0 button.colab-df-convert');\n",
              "      buttonEl.style.display =\n",
              "        google.colab.kernel.accessAllowed ? 'block' : 'none';\n",
              "\n",
              "      async function convertToInteractive(key) {\n",
              "        const element = document.querySelector('#df-3c8ac6e9-80f8-4fbc-b946-416e4d4d3cb0');\n",
              "        const dataTable =\n",
              "          await google.colab.kernel.invokeFunction('convertToInteractive',\n",
              "                                                    [key], {});\n",
              "        if (!dataTable) return;\n",
              "\n",
              "        const docLinkHtml = 'Like what you see? Visit the ' +\n",
              "          '<a target=\"_blank\" href=https://colab.research.google.com/notebooks/data_table.ipynb>data table notebook</a>'\n",
              "          + ' to learn more about interactive tables.';\n",
              "        element.innerHTML = '';\n",
              "        dataTable['output_type'] = 'display_data';\n",
              "        await google.colab.output.renderOutput(dataTable, element);\n",
              "        const docLink = document.createElement('div');\n",
              "        docLink.innerHTML = docLinkHtml;\n",
              "        element.appendChild(docLink);\n",
              "      }\n",
              "    </script>\n",
              "  </div>\n",
              "\n",
              "\n",
              "<div id=\"df-e5136c90-504f-4d9d-b2d5-4a9e38ff9dcf\">\n",
              "  <button class=\"colab-df-quickchart\" onclick=\"quickchart('df-e5136c90-504f-4d9d-b2d5-4a9e38ff9dcf')\"\n",
              "            title=\"Suggest charts\"\n",
              "            style=\"display:none;\">\n",
              "\n",
              "<svg xmlns=\"http://www.w3.org/2000/svg\" height=\"24px\"viewBox=\"0 0 24 24\"\n",
              "     width=\"24px\">\n",
              "    <g>\n",
              "        <path d=\"M19 3H5c-1.1 0-2 .9-2 2v14c0 1.1.9 2 2 2h14c1.1 0 2-.9 2-2V5c0-1.1-.9-2-2-2zM9 17H7v-7h2v7zm4 0h-2V7h2v10zm4 0h-2v-4h2v4z\"/>\n",
              "    </g>\n",
              "</svg>\n",
              "  </button>\n",
              "\n",
              "<style>\n",
              "  .colab-df-quickchart {\n",
              "      --bg-color: #E8F0FE;\n",
              "      --fill-color: #1967D2;\n",
              "      --hover-bg-color: #E2EBFA;\n",
              "      --hover-fill-color: #174EA6;\n",
              "      --disabled-fill-color: #AAA;\n",
              "      --disabled-bg-color: #DDD;\n",
              "  }\n",
              "\n",
              "  [theme=dark] .colab-df-quickchart {\n",
              "      --bg-color: #3B4455;\n",
              "      --fill-color: #D2E3FC;\n",
              "      --hover-bg-color: #434B5C;\n",
              "      --hover-fill-color: #FFFFFF;\n",
              "      --disabled-bg-color: #3B4455;\n",
              "      --disabled-fill-color: #666;\n",
              "  }\n",
              "\n",
              "  .colab-df-quickchart {\n",
              "    background-color: var(--bg-color);\n",
              "    border: none;\n",
              "    border-radius: 50%;\n",
              "    cursor: pointer;\n",
              "    display: none;\n",
              "    fill: var(--fill-color);\n",
              "    height: 32px;\n",
              "    padding: 0;\n",
              "    width: 32px;\n",
              "  }\n",
              "\n",
              "  .colab-df-quickchart:hover {\n",
              "    background-color: var(--hover-bg-color);\n",
              "    box-shadow: 0 1px 2px rgba(60, 64, 67, 0.3), 0 1px 3px 1px rgba(60, 64, 67, 0.15);\n",
              "    fill: var(--button-hover-fill-color);\n",
              "  }\n",
              "\n",
              "  .colab-df-quickchart-complete:disabled,\n",
              "  .colab-df-quickchart-complete:disabled:hover {\n",
              "    background-color: var(--disabled-bg-color);\n",
              "    fill: var(--disabled-fill-color);\n",
              "    box-shadow: none;\n",
              "  }\n",
              "\n",
              "  .colab-df-spinner {\n",
              "    border: 2px solid var(--fill-color);\n",
              "    border-color: transparent;\n",
              "    border-bottom-color: var(--fill-color);\n",
              "    animation:\n",
              "      spin 1s steps(1) infinite;\n",
              "  }\n",
              "\n",
              "  @keyframes spin {\n",
              "    0% {\n",
              "      border-color: transparent;\n",
              "      border-bottom-color: var(--fill-color);\n",
              "      border-left-color: var(--fill-color);\n",
              "    }\n",
              "    20% {\n",
              "      border-color: transparent;\n",
              "      border-left-color: var(--fill-color);\n",
              "      border-top-color: var(--fill-color);\n",
              "    }\n",
              "    30% {\n",
              "      border-color: transparent;\n",
              "      border-left-color: var(--fill-color);\n",
              "      border-top-color: var(--fill-color);\n",
              "      border-right-color: var(--fill-color);\n",
              "    }\n",
              "    40% {\n",
              "      border-color: transparent;\n",
              "      border-right-color: var(--fill-color);\n",
              "      border-top-color: var(--fill-color);\n",
              "    }\n",
              "    60% {\n",
              "      border-color: transparent;\n",
              "      border-right-color: var(--fill-color);\n",
              "    }\n",
              "    80% {\n",
              "      border-color: transparent;\n",
              "      border-right-color: var(--fill-color);\n",
              "      border-bottom-color: var(--fill-color);\n",
              "    }\n",
              "    90% {\n",
              "      border-color: transparent;\n",
              "      border-bottom-color: var(--fill-color);\n",
              "    }\n",
              "  }\n",
              "</style>\n",
              "\n",
              "  <script>\n",
              "    async function quickchart(key) {\n",
              "      const quickchartButtonEl =\n",
              "        document.querySelector('#' + key + ' button');\n",
              "      quickchartButtonEl.disabled = true;  // To prevent multiple clicks.\n",
              "      quickchartButtonEl.classList.add('colab-df-spinner');\n",
              "      try {\n",
              "        const charts = await google.colab.kernel.invokeFunction(\n",
              "            'suggestCharts', [key], {});\n",
              "      } catch (error) {\n",
              "        console.error('Error during call to suggestCharts:', error);\n",
              "      }\n",
              "      quickchartButtonEl.classList.remove('colab-df-spinner');\n",
              "      quickchartButtonEl.classList.add('colab-df-quickchart-complete');\n",
              "    }\n",
              "    (() => {\n",
              "      let quickchartButtonEl =\n",
              "        document.querySelector('#df-e5136c90-504f-4d9d-b2d5-4a9e38ff9dcf button');\n",
              "      quickchartButtonEl.style.display =\n",
              "        google.colab.kernel.accessAllowed ? 'block' : 'none';\n",
              "    })();\n",
              "  </script>\n",
              "</div>\n",
              "\n",
              "    </div>\n",
              "  </div>\n"
            ],
            "application/vnd.google.colaboratory.intrinsic+json": {
              "type": "dataframe",
              "variable_name": "df1"
            }
          },
          "metadata": {},
          "execution_count": 5
        }
      ]
    },
    {
      "cell_type": "markdown",
      "source": [
        "### **A) Data Manipulation**"
      ],
      "metadata": {
        "id": "qbzvzNfHNHmd"
      }
    },
    {
      "cell_type": "code",
      "source": [
        "df1.info()"
      ],
      "metadata": {
        "colab": {
          "base_uri": "https://localhost:8080/"
        },
        "id": "dDpdjQXVKj6b",
        "outputId": "3dad636f-ad19-4126-fc59-39e3f4dfc4c0"
      },
      "execution_count": 6,
      "outputs": [
        {
          "output_type": "stream",
          "name": "stdout",
          "text": [
            "<class 'pandas.core.frame.DataFrame'>\n",
            "RangeIndex: 7043 entries, 0 to 7042\n",
            "Data columns (total 21 columns):\n",
            " #   Column            Non-Null Count  Dtype  \n",
            "---  ------            --------------  -----  \n",
            " 0   customerID        7043 non-null   object \n",
            " 1   gender            7043 non-null   object \n",
            " 2   SeniorCitizen     7043 non-null   int64  \n",
            " 3   Partner           7043 non-null   object \n",
            " 4   Dependents        7043 non-null   object \n",
            " 5   tenure            7043 non-null   int64  \n",
            " 6   PhoneService      7043 non-null   object \n",
            " 7   MultipleLines     7043 non-null   object \n",
            " 8   InternetService   7043 non-null   object \n",
            " 9   OnlineSecurity    7043 non-null   object \n",
            " 10  OnlineBackup      7043 non-null   object \n",
            " 11  DeviceProtection  7043 non-null   object \n",
            " 12  TechSupport       7043 non-null   object \n",
            " 13  StreamingTV       7043 non-null   object \n",
            " 14  StreamingMovies   7043 non-null   object \n",
            " 15  Contract          7043 non-null   object \n",
            " 16  PaperlessBilling  7043 non-null   object \n",
            " 17  PaymentMethod     7043 non-null   object \n",
            " 18  MonthlyCharges    7043 non-null   float64\n",
            " 19  TotalCharges      7043 non-null   object \n",
            " 20  Churn             7043 non-null   object \n",
            "dtypes: float64(1), int64(2), object(18)\n",
            "memory usage: 1.1+ MB\n"
          ]
        }
      ]
    },
    {
      "cell_type": "markdown",
      "source": [
        "**TotalCharges should be float but it is an object.Lets convert it to numbers**"
      ],
      "metadata": {
        "id": "x9bwvIRlh9e8"
      }
    },
    {
      "cell_type": "code",
      "source": [
        "df1.TotalCharges.values"
      ],
      "metadata": {
        "colab": {
          "base_uri": "https://localhost:8080/"
        },
        "id": "kNML8K6uiI5x",
        "outputId": "2d52ccdc-6dfc-4368-eee9-d5ff5498e7a3"
      },
      "execution_count": 7,
      "outputs": [
        {
          "output_type": "execute_result",
          "data": {
            "text/plain": [
              "array(['29.85', '1889.5', '108.15', ..., '346.45', '306.6', '6844.5'],\n",
              "      dtype=object)"
            ]
          },
          "metadata": {},
          "execution_count": 7
        }
      ]
    },
    {
      "cell_type": "code",
      "source": [
        "pd.to_numeric(df1.TotalCharges)"
      ],
      "metadata": {
        "colab": {
          "base_uri": "https://localhost:8080/",
          "height": 269
        },
        "id": "n6AUIoIMiKm1",
        "outputId": "b5d7ea03-61ab-445b-dbd4-8eb0987b3cfa"
      },
      "execution_count": 8,
      "outputs": [
        {
          "output_type": "error",
          "ename": "ValueError",
          "evalue": "Unable to parse string \" \" at position 488",
          "traceback": [
            "\u001b[0;31m---------------------------------------------------------------------------\u001b[0m",
            "\u001b[0;31mValueError\u001b[0m                                Traceback (most recent call last)",
            "\u001b[0;32m/usr/local/lib/python3.10/dist-packages/pandas/_libs/lib.pyx\u001b[0m in \u001b[0;36mpandas._libs.lib.maybe_convert_numeric\u001b[0;34m()\u001b[0m\n",
            "\u001b[0;31mValueError\u001b[0m: Unable to parse string \" \"",
            "\nDuring handling of the above exception, another exception occurred:\n",
            "\u001b[0;31mValueError\u001b[0m                                Traceback (most recent call last)",
            "\u001b[0;32m<ipython-input-8-87674a065dfc>\u001b[0m in \u001b[0;36m<cell line: 1>\u001b[0;34m()\u001b[0m\n\u001b[0;32m----> 1\u001b[0;31m \u001b[0mpd\u001b[0m\u001b[0;34m.\u001b[0m\u001b[0mto_numeric\u001b[0m\u001b[0;34m(\u001b[0m\u001b[0mdf1\u001b[0m\u001b[0;34m.\u001b[0m\u001b[0mTotalCharges\u001b[0m\u001b[0;34m)\u001b[0m\u001b[0;34m\u001b[0m\u001b[0;34m\u001b[0m\u001b[0m\n\u001b[0m",
            "\u001b[0;32m/usr/local/lib/python3.10/dist-packages/pandas/core/tools/numeric.py\u001b[0m in \u001b[0;36mto_numeric\u001b[0;34m(arg, errors, downcast, dtype_backend)\u001b[0m\n\u001b[1;32m    215\u001b[0m         \u001b[0mcoerce_numeric\u001b[0m \u001b[0;34m=\u001b[0m \u001b[0merrors\u001b[0m \u001b[0;32mnot\u001b[0m \u001b[0;32min\u001b[0m \u001b[0;34m(\u001b[0m\u001b[0;34m\"ignore\"\u001b[0m\u001b[0;34m,\u001b[0m \u001b[0;34m\"raise\"\u001b[0m\u001b[0;34m)\u001b[0m\u001b[0;34m\u001b[0m\u001b[0;34m\u001b[0m\u001b[0m\n\u001b[1;32m    216\u001b[0m         \u001b[0;32mtry\u001b[0m\u001b[0;34m:\u001b[0m\u001b[0;34m\u001b[0m\u001b[0;34m\u001b[0m\u001b[0m\n\u001b[0;32m--> 217\u001b[0;31m             values, new_mask = lib.maybe_convert_numeric(  # type: ignore[call-overload]  # noqa\n\u001b[0m\u001b[1;32m    218\u001b[0m                 \u001b[0mvalues\u001b[0m\u001b[0;34m,\u001b[0m\u001b[0;34m\u001b[0m\u001b[0;34m\u001b[0m\u001b[0m\n\u001b[1;32m    219\u001b[0m                 \u001b[0mset\u001b[0m\u001b[0;34m(\u001b[0m\u001b[0;34m)\u001b[0m\u001b[0;34m,\u001b[0m\u001b[0;34m\u001b[0m\u001b[0;34m\u001b[0m\u001b[0m\n",
            "\u001b[0;32m/usr/local/lib/python3.10/dist-packages/pandas/_libs/lib.pyx\u001b[0m in \u001b[0;36mpandas._libs.lib.maybe_convert_numeric\u001b[0;34m()\u001b[0m\n",
            "\u001b[0;31mValueError\u001b[0m: Unable to parse string \" \" at position 488"
          ]
        }
      ]
    },
    {
      "cell_type": "markdown",
      "source": [
        "**some values seems to be not numbers but blank string. Let's find out such rows**"
      ],
      "metadata": {
        "id": "JJ3TFhQYiY3T"
      }
    },
    {
      "cell_type": "code",
      "source": [
        "df1[pd.to_numeric(df1.TotalCharges,errors='coerce').isnull()]"
      ],
      "metadata": {
        "colab": {
          "base_uri": "https://localhost:8080/",
          "height": 635
        },
        "id": "NmufWvFYiYL4",
        "outputId": "19a16f5b-976b-4261-e032-bf6318ad54f9"
      },
      "execution_count": 9,
      "outputs": [
        {
          "output_type": "execute_result",
          "data": {
            "text/plain": [
              "      customerID  gender  SeniorCitizen Partner Dependents  tenure  \\\n",
              "488   4472-LVYGI  Female              0     Yes        Yes       0   \n",
              "753   3115-CZMZD    Male              0      No        Yes       0   \n",
              "936   5709-LVOEQ  Female              0     Yes        Yes       0   \n",
              "1082  4367-NUYAO    Male              0     Yes        Yes       0   \n",
              "1340  1371-DWPAZ  Female              0     Yes        Yes       0   \n",
              "3331  7644-OMVMY    Male              0     Yes        Yes       0   \n",
              "3826  3213-VVOLG    Male              0     Yes        Yes       0   \n",
              "4380  2520-SGTTA  Female              0     Yes        Yes       0   \n",
              "5218  2923-ARZLG    Male              0     Yes        Yes       0   \n",
              "6670  4075-WKNIU  Female              0     Yes        Yes       0   \n",
              "6754  2775-SEFEE    Male              0      No        Yes       0   \n",
              "\n",
              "     PhoneService     MultipleLines InternetService       OnlineSecurity  ...  \\\n",
              "488            No  No phone service             DSL                  Yes  ...   \n",
              "753           Yes                No              No  No internet service  ...   \n",
              "936           Yes                No             DSL                  Yes  ...   \n",
              "1082          Yes               Yes              No  No internet service  ...   \n",
              "1340           No  No phone service             DSL                  Yes  ...   \n",
              "3331          Yes                No              No  No internet service  ...   \n",
              "3826          Yes               Yes              No  No internet service  ...   \n",
              "4380          Yes                No              No  No internet service  ...   \n",
              "5218          Yes                No              No  No internet service  ...   \n",
              "6670          Yes               Yes             DSL                   No  ...   \n",
              "6754          Yes               Yes             DSL                  Yes  ...   \n",
              "\n",
              "         DeviceProtection          TechSupport          StreamingTV  \\\n",
              "488                   Yes                  Yes                  Yes   \n",
              "753   No internet service  No internet service  No internet service   \n",
              "936                   Yes                   No                  Yes   \n",
              "1082  No internet service  No internet service  No internet service   \n",
              "1340                  Yes                  Yes                  Yes   \n",
              "3331  No internet service  No internet service  No internet service   \n",
              "3826  No internet service  No internet service  No internet service   \n",
              "4380  No internet service  No internet service  No internet service   \n",
              "5218  No internet service  No internet service  No internet service   \n",
              "6670                  Yes                  Yes                  Yes   \n",
              "6754                   No                  Yes                   No   \n",
              "\n",
              "          StreamingMovies  Contract PaperlessBilling  \\\n",
              "488                    No  Two year              Yes   \n",
              "753   No internet service  Two year               No   \n",
              "936                   Yes  Two year               No   \n",
              "1082  No internet service  Two year               No   \n",
              "1340                   No  Two year               No   \n",
              "3331  No internet service  Two year               No   \n",
              "3826  No internet service  Two year               No   \n",
              "4380  No internet service  Two year               No   \n",
              "5218  No internet service  One year              Yes   \n",
              "6670                   No  Two year               No   \n",
              "6754                   No  Two year              Yes   \n",
              "\n",
              "                  PaymentMethod MonthlyCharges  TotalCharges Churn  \n",
              "488   Bank transfer (automatic)          52.55                  No  \n",
              "753                Mailed check          20.25                  No  \n",
              "936                Mailed check          80.85                  No  \n",
              "1082               Mailed check          25.75                  No  \n",
              "1340    Credit card (automatic)          56.05                  No  \n",
              "3331               Mailed check          19.85                  No  \n",
              "3826               Mailed check          25.35                  No  \n",
              "4380               Mailed check          20.00                  No  \n",
              "5218               Mailed check          19.70                  No  \n",
              "6670               Mailed check          73.35                  No  \n",
              "6754  Bank transfer (automatic)          61.90                  No  \n",
              "\n",
              "[11 rows x 21 columns]"
            ],
            "text/html": [
              "\n",
              "  <div id=\"df-60fa3471-61e3-46f5-ae4a-5bb59f05a689\" class=\"colab-df-container\">\n",
              "    <div>\n",
              "<style scoped>\n",
              "    .dataframe tbody tr th:only-of-type {\n",
              "        vertical-align: middle;\n",
              "    }\n",
              "\n",
              "    .dataframe tbody tr th {\n",
              "        vertical-align: top;\n",
              "    }\n",
              "\n",
              "    .dataframe thead th {\n",
              "        text-align: right;\n",
              "    }\n",
              "</style>\n",
              "<table border=\"1\" class=\"dataframe\">\n",
              "  <thead>\n",
              "    <tr style=\"text-align: right;\">\n",
              "      <th></th>\n",
              "      <th>customerID</th>\n",
              "      <th>gender</th>\n",
              "      <th>SeniorCitizen</th>\n",
              "      <th>Partner</th>\n",
              "      <th>Dependents</th>\n",
              "      <th>tenure</th>\n",
              "      <th>PhoneService</th>\n",
              "      <th>MultipleLines</th>\n",
              "      <th>InternetService</th>\n",
              "      <th>OnlineSecurity</th>\n",
              "      <th>...</th>\n",
              "      <th>DeviceProtection</th>\n",
              "      <th>TechSupport</th>\n",
              "      <th>StreamingTV</th>\n",
              "      <th>StreamingMovies</th>\n",
              "      <th>Contract</th>\n",
              "      <th>PaperlessBilling</th>\n",
              "      <th>PaymentMethod</th>\n",
              "      <th>MonthlyCharges</th>\n",
              "      <th>TotalCharges</th>\n",
              "      <th>Churn</th>\n",
              "    </tr>\n",
              "  </thead>\n",
              "  <tbody>\n",
              "    <tr>\n",
              "      <th>488</th>\n",
              "      <td>4472-LVYGI</td>\n",
              "      <td>Female</td>\n",
              "      <td>0</td>\n",
              "      <td>Yes</td>\n",
              "      <td>Yes</td>\n",
              "      <td>0</td>\n",
              "      <td>No</td>\n",
              "      <td>No phone service</td>\n",
              "      <td>DSL</td>\n",
              "      <td>Yes</td>\n",
              "      <td>...</td>\n",
              "      <td>Yes</td>\n",
              "      <td>Yes</td>\n",
              "      <td>Yes</td>\n",
              "      <td>No</td>\n",
              "      <td>Two year</td>\n",
              "      <td>Yes</td>\n",
              "      <td>Bank transfer (automatic)</td>\n",
              "      <td>52.55</td>\n",
              "      <td></td>\n",
              "      <td>No</td>\n",
              "    </tr>\n",
              "    <tr>\n",
              "      <th>753</th>\n",
              "      <td>3115-CZMZD</td>\n",
              "      <td>Male</td>\n",
              "      <td>0</td>\n",
              "      <td>No</td>\n",
              "      <td>Yes</td>\n",
              "      <td>0</td>\n",
              "      <td>Yes</td>\n",
              "      <td>No</td>\n",
              "      <td>No</td>\n",
              "      <td>No internet service</td>\n",
              "      <td>...</td>\n",
              "      <td>No internet service</td>\n",
              "      <td>No internet service</td>\n",
              "      <td>No internet service</td>\n",
              "      <td>No internet service</td>\n",
              "      <td>Two year</td>\n",
              "      <td>No</td>\n",
              "      <td>Mailed check</td>\n",
              "      <td>20.25</td>\n",
              "      <td></td>\n",
              "      <td>No</td>\n",
              "    </tr>\n",
              "    <tr>\n",
              "      <th>936</th>\n",
              "      <td>5709-LVOEQ</td>\n",
              "      <td>Female</td>\n",
              "      <td>0</td>\n",
              "      <td>Yes</td>\n",
              "      <td>Yes</td>\n",
              "      <td>0</td>\n",
              "      <td>Yes</td>\n",
              "      <td>No</td>\n",
              "      <td>DSL</td>\n",
              "      <td>Yes</td>\n",
              "      <td>...</td>\n",
              "      <td>Yes</td>\n",
              "      <td>No</td>\n",
              "      <td>Yes</td>\n",
              "      <td>Yes</td>\n",
              "      <td>Two year</td>\n",
              "      <td>No</td>\n",
              "      <td>Mailed check</td>\n",
              "      <td>80.85</td>\n",
              "      <td></td>\n",
              "      <td>No</td>\n",
              "    </tr>\n",
              "    <tr>\n",
              "      <th>1082</th>\n",
              "      <td>4367-NUYAO</td>\n",
              "      <td>Male</td>\n",
              "      <td>0</td>\n",
              "      <td>Yes</td>\n",
              "      <td>Yes</td>\n",
              "      <td>0</td>\n",
              "      <td>Yes</td>\n",
              "      <td>Yes</td>\n",
              "      <td>No</td>\n",
              "      <td>No internet service</td>\n",
              "      <td>...</td>\n",
              "      <td>No internet service</td>\n",
              "      <td>No internet service</td>\n",
              "      <td>No internet service</td>\n",
              "      <td>No internet service</td>\n",
              "      <td>Two year</td>\n",
              "      <td>No</td>\n",
              "      <td>Mailed check</td>\n",
              "      <td>25.75</td>\n",
              "      <td></td>\n",
              "      <td>No</td>\n",
              "    </tr>\n",
              "    <tr>\n",
              "      <th>1340</th>\n",
              "      <td>1371-DWPAZ</td>\n",
              "      <td>Female</td>\n",
              "      <td>0</td>\n",
              "      <td>Yes</td>\n",
              "      <td>Yes</td>\n",
              "      <td>0</td>\n",
              "      <td>No</td>\n",
              "      <td>No phone service</td>\n",
              "      <td>DSL</td>\n",
              "      <td>Yes</td>\n",
              "      <td>...</td>\n",
              "      <td>Yes</td>\n",
              "      <td>Yes</td>\n",
              "      <td>Yes</td>\n",
              "      <td>No</td>\n",
              "      <td>Two year</td>\n",
              "      <td>No</td>\n",
              "      <td>Credit card (automatic)</td>\n",
              "      <td>56.05</td>\n",
              "      <td></td>\n",
              "      <td>No</td>\n",
              "    </tr>\n",
              "    <tr>\n",
              "      <th>3331</th>\n",
              "      <td>7644-OMVMY</td>\n",
              "      <td>Male</td>\n",
              "      <td>0</td>\n",
              "      <td>Yes</td>\n",
              "      <td>Yes</td>\n",
              "      <td>0</td>\n",
              "      <td>Yes</td>\n",
              "      <td>No</td>\n",
              "      <td>No</td>\n",
              "      <td>No internet service</td>\n",
              "      <td>...</td>\n",
              "      <td>No internet service</td>\n",
              "      <td>No internet service</td>\n",
              "      <td>No internet service</td>\n",
              "      <td>No internet service</td>\n",
              "      <td>Two year</td>\n",
              "      <td>No</td>\n",
              "      <td>Mailed check</td>\n",
              "      <td>19.85</td>\n",
              "      <td></td>\n",
              "      <td>No</td>\n",
              "    </tr>\n",
              "    <tr>\n",
              "      <th>3826</th>\n",
              "      <td>3213-VVOLG</td>\n",
              "      <td>Male</td>\n",
              "      <td>0</td>\n",
              "      <td>Yes</td>\n",
              "      <td>Yes</td>\n",
              "      <td>0</td>\n",
              "      <td>Yes</td>\n",
              "      <td>Yes</td>\n",
              "      <td>No</td>\n",
              "      <td>No internet service</td>\n",
              "      <td>...</td>\n",
              "      <td>No internet service</td>\n",
              "      <td>No internet service</td>\n",
              "      <td>No internet service</td>\n",
              "      <td>No internet service</td>\n",
              "      <td>Two year</td>\n",
              "      <td>No</td>\n",
              "      <td>Mailed check</td>\n",
              "      <td>25.35</td>\n",
              "      <td></td>\n",
              "      <td>No</td>\n",
              "    </tr>\n",
              "    <tr>\n",
              "      <th>4380</th>\n",
              "      <td>2520-SGTTA</td>\n",
              "      <td>Female</td>\n",
              "      <td>0</td>\n",
              "      <td>Yes</td>\n",
              "      <td>Yes</td>\n",
              "      <td>0</td>\n",
              "      <td>Yes</td>\n",
              "      <td>No</td>\n",
              "      <td>No</td>\n",
              "      <td>No internet service</td>\n",
              "      <td>...</td>\n",
              "      <td>No internet service</td>\n",
              "      <td>No internet service</td>\n",
              "      <td>No internet service</td>\n",
              "      <td>No internet service</td>\n",
              "      <td>Two year</td>\n",
              "      <td>No</td>\n",
              "      <td>Mailed check</td>\n",
              "      <td>20.00</td>\n",
              "      <td></td>\n",
              "      <td>No</td>\n",
              "    </tr>\n",
              "    <tr>\n",
              "      <th>5218</th>\n",
              "      <td>2923-ARZLG</td>\n",
              "      <td>Male</td>\n",
              "      <td>0</td>\n",
              "      <td>Yes</td>\n",
              "      <td>Yes</td>\n",
              "      <td>0</td>\n",
              "      <td>Yes</td>\n",
              "      <td>No</td>\n",
              "      <td>No</td>\n",
              "      <td>No internet service</td>\n",
              "      <td>...</td>\n",
              "      <td>No internet service</td>\n",
              "      <td>No internet service</td>\n",
              "      <td>No internet service</td>\n",
              "      <td>No internet service</td>\n",
              "      <td>One year</td>\n",
              "      <td>Yes</td>\n",
              "      <td>Mailed check</td>\n",
              "      <td>19.70</td>\n",
              "      <td></td>\n",
              "      <td>No</td>\n",
              "    </tr>\n",
              "    <tr>\n",
              "      <th>6670</th>\n",
              "      <td>4075-WKNIU</td>\n",
              "      <td>Female</td>\n",
              "      <td>0</td>\n",
              "      <td>Yes</td>\n",
              "      <td>Yes</td>\n",
              "      <td>0</td>\n",
              "      <td>Yes</td>\n",
              "      <td>Yes</td>\n",
              "      <td>DSL</td>\n",
              "      <td>No</td>\n",
              "      <td>...</td>\n",
              "      <td>Yes</td>\n",
              "      <td>Yes</td>\n",
              "      <td>Yes</td>\n",
              "      <td>No</td>\n",
              "      <td>Two year</td>\n",
              "      <td>No</td>\n",
              "      <td>Mailed check</td>\n",
              "      <td>73.35</td>\n",
              "      <td></td>\n",
              "      <td>No</td>\n",
              "    </tr>\n",
              "    <tr>\n",
              "      <th>6754</th>\n",
              "      <td>2775-SEFEE</td>\n",
              "      <td>Male</td>\n",
              "      <td>0</td>\n",
              "      <td>No</td>\n",
              "      <td>Yes</td>\n",
              "      <td>0</td>\n",
              "      <td>Yes</td>\n",
              "      <td>Yes</td>\n",
              "      <td>DSL</td>\n",
              "      <td>Yes</td>\n",
              "      <td>...</td>\n",
              "      <td>No</td>\n",
              "      <td>Yes</td>\n",
              "      <td>No</td>\n",
              "      <td>No</td>\n",
              "      <td>Two year</td>\n",
              "      <td>Yes</td>\n",
              "      <td>Bank transfer (automatic)</td>\n",
              "      <td>61.90</td>\n",
              "      <td></td>\n",
              "      <td>No</td>\n",
              "    </tr>\n",
              "  </tbody>\n",
              "</table>\n",
              "<p>11 rows × 21 columns</p>\n",
              "</div>\n",
              "    <div class=\"colab-df-buttons\">\n",
              "\n",
              "  <div class=\"colab-df-container\">\n",
              "    <button class=\"colab-df-convert\" onclick=\"convertToInteractive('df-60fa3471-61e3-46f5-ae4a-5bb59f05a689')\"\n",
              "            title=\"Convert this dataframe to an interactive table.\"\n",
              "            style=\"display:none;\">\n",
              "\n",
              "  <svg xmlns=\"http://www.w3.org/2000/svg\" height=\"24px\" viewBox=\"0 -960 960 960\">\n",
              "    <path d=\"M120-120v-720h720v720H120Zm60-500h600v-160H180v160Zm220 220h160v-160H400v160Zm0 220h160v-160H400v160ZM180-400h160v-160H180v160Zm440 0h160v-160H620v160ZM180-180h160v-160H180v160Zm440 0h160v-160H620v160Z\"/>\n",
              "  </svg>\n",
              "    </button>\n",
              "\n",
              "  <style>\n",
              "    .colab-df-container {\n",
              "      display:flex;\n",
              "      gap: 12px;\n",
              "    }\n",
              "\n",
              "    .colab-df-convert {\n",
              "      background-color: #E8F0FE;\n",
              "      border: none;\n",
              "      border-radius: 50%;\n",
              "      cursor: pointer;\n",
              "      display: none;\n",
              "      fill: #1967D2;\n",
              "      height: 32px;\n",
              "      padding: 0 0 0 0;\n",
              "      width: 32px;\n",
              "    }\n",
              "\n",
              "    .colab-df-convert:hover {\n",
              "      background-color: #E2EBFA;\n",
              "      box-shadow: 0px 1px 2px rgba(60, 64, 67, 0.3), 0px 1px 3px 1px rgba(60, 64, 67, 0.15);\n",
              "      fill: #174EA6;\n",
              "    }\n",
              "\n",
              "    .colab-df-buttons div {\n",
              "      margin-bottom: 4px;\n",
              "    }\n",
              "\n",
              "    [theme=dark] .colab-df-convert {\n",
              "      background-color: #3B4455;\n",
              "      fill: #D2E3FC;\n",
              "    }\n",
              "\n",
              "    [theme=dark] .colab-df-convert:hover {\n",
              "      background-color: #434B5C;\n",
              "      box-shadow: 0px 1px 3px 1px rgba(0, 0, 0, 0.15);\n",
              "      filter: drop-shadow(0px 1px 2px rgba(0, 0, 0, 0.3));\n",
              "      fill: #FFFFFF;\n",
              "    }\n",
              "  </style>\n",
              "\n",
              "    <script>\n",
              "      const buttonEl =\n",
              "        document.querySelector('#df-60fa3471-61e3-46f5-ae4a-5bb59f05a689 button.colab-df-convert');\n",
              "      buttonEl.style.display =\n",
              "        google.colab.kernel.accessAllowed ? 'block' : 'none';\n",
              "\n",
              "      async function convertToInteractive(key) {\n",
              "        const element = document.querySelector('#df-60fa3471-61e3-46f5-ae4a-5bb59f05a689');\n",
              "        const dataTable =\n",
              "          await google.colab.kernel.invokeFunction('convertToInteractive',\n",
              "                                                    [key], {});\n",
              "        if (!dataTable) return;\n",
              "\n",
              "        const docLinkHtml = 'Like what you see? Visit the ' +\n",
              "          '<a target=\"_blank\" href=https://colab.research.google.com/notebooks/data_table.ipynb>data table notebook</a>'\n",
              "          + ' to learn more about interactive tables.';\n",
              "        element.innerHTML = '';\n",
              "        dataTable['output_type'] = 'display_data';\n",
              "        await google.colab.output.renderOutput(dataTable, element);\n",
              "        const docLink = document.createElement('div');\n",
              "        docLink.innerHTML = docLinkHtml;\n",
              "        element.appendChild(docLink);\n",
              "      }\n",
              "    </script>\n",
              "  </div>\n",
              "\n",
              "\n",
              "<div id=\"df-b997f334-5497-4d8d-99f0-8d2e2597b7ce\">\n",
              "  <button class=\"colab-df-quickchart\" onclick=\"quickchart('df-b997f334-5497-4d8d-99f0-8d2e2597b7ce')\"\n",
              "            title=\"Suggest charts\"\n",
              "            style=\"display:none;\">\n",
              "\n",
              "<svg xmlns=\"http://www.w3.org/2000/svg\" height=\"24px\"viewBox=\"0 0 24 24\"\n",
              "     width=\"24px\">\n",
              "    <g>\n",
              "        <path d=\"M19 3H5c-1.1 0-2 .9-2 2v14c0 1.1.9 2 2 2h14c1.1 0 2-.9 2-2V5c0-1.1-.9-2-2-2zM9 17H7v-7h2v7zm4 0h-2V7h2v10zm4 0h-2v-4h2v4z\"/>\n",
              "    </g>\n",
              "</svg>\n",
              "  </button>\n",
              "\n",
              "<style>\n",
              "  .colab-df-quickchart {\n",
              "      --bg-color: #E8F0FE;\n",
              "      --fill-color: #1967D2;\n",
              "      --hover-bg-color: #E2EBFA;\n",
              "      --hover-fill-color: #174EA6;\n",
              "      --disabled-fill-color: #AAA;\n",
              "      --disabled-bg-color: #DDD;\n",
              "  }\n",
              "\n",
              "  [theme=dark] .colab-df-quickchart {\n",
              "      --bg-color: #3B4455;\n",
              "      --fill-color: #D2E3FC;\n",
              "      --hover-bg-color: #434B5C;\n",
              "      --hover-fill-color: #FFFFFF;\n",
              "      --disabled-bg-color: #3B4455;\n",
              "      --disabled-fill-color: #666;\n",
              "  }\n",
              "\n",
              "  .colab-df-quickchart {\n",
              "    background-color: var(--bg-color);\n",
              "    border: none;\n",
              "    border-radius: 50%;\n",
              "    cursor: pointer;\n",
              "    display: none;\n",
              "    fill: var(--fill-color);\n",
              "    height: 32px;\n",
              "    padding: 0;\n",
              "    width: 32px;\n",
              "  }\n",
              "\n",
              "  .colab-df-quickchart:hover {\n",
              "    background-color: var(--hover-bg-color);\n",
              "    box-shadow: 0 1px 2px rgba(60, 64, 67, 0.3), 0 1px 3px 1px rgba(60, 64, 67, 0.15);\n",
              "    fill: var(--button-hover-fill-color);\n",
              "  }\n",
              "\n",
              "  .colab-df-quickchart-complete:disabled,\n",
              "  .colab-df-quickchart-complete:disabled:hover {\n",
              "    background-color: var(--disabled-bg-color);\n",
              "    fill: var(--disabled-fill-color);\n",
              "    box-shadow: none;\n",
              "  }\n",
              "\n",
              "  .colab-df-spinner {\n",
              "    border: 2px solid var(--fill-color);\n",
              "    border-color: transparent;\n",
              "    border-bottom-color: var(--fill-color);\n",
              "    animation:\n",
              "      spin 1s steps(1) infinite;\n",
              "  }\n",
              "\n",
              "  @keyframes spin {\n",
              "    0% {\n",
              "      border-color: transparent;\n",
              "      border-bottom-color: var(--fill-color);\n",
              "      border-left-color: var(--fill-color);\n",
              "    }\n",
              "    20% {\n",
              "      border-color: transparent;\n",
              "      border-left-color: var(--fill-color);\n",
              "      border-top-color: var(--fill-color);\n",
              "    }\n",
              "    30% {\n",
              "      border-color: transparent;\n",
              "      border-left-color: var(--fill-color);\n",
              "      border-top-color: var(--fill-color);\n",
              "      border-right-color: var(--fill-color);\n",
              "    }\n",
              "    40% {\n",
              "      border-color: transparent;\n",
              "      border-right-color: var(--fill-color);\n",
              "      border-top-color: var(--fill-color);\n",
              "    }\n",
              "    60% {\n",
              "      border-color: transparent;\n",
              "      border-right-color: var(--fill-color);\n",
              "    }\n",
              "    80% {\n",
              "      border-color: transparent;\n",
              "      border-right-color: var(--fill-color);\n",
              "      border-bottom-color: var(--fill-color);\n",
              "    }\n",
              "    90% {\n",
              "      border-color: transparent;\n",
              "      border-bottom-color: var(--fill-color);\n",
              "    }\n",
              "  }\n",
              "</style>\n",
              "\n",
              "  <script>\n",
              "    async function quickchart(key) {\n",
              "      const quickchartButtonEl =\n",
              "        document.querySelector('#' + key + ' button');\n",
              "      quickchartButtonEl.disabled = true;  // To prevent multiple clicks.\n",
              "      quickchartButtonEl.classList.add('colab-df-spinner');\n",
              "      try {\n",
              "        const charts = await google.colab.kernel.invokeFunction(\n",
              "            'suggestCharts', [key], {});\n",
              "      } catch (error) {\n",
              "        console.error('Error during call to suggestCharts:', error);\n",
              "      }\n",
              "      quickchartButtonEl.classList.remove('colab-df-spinner');\n",
              "      quickchartButtonEl.classList.add('colab-df-quickchart-complete');\n",
              "    }\n",
              "    (() => {\n",
              "      let quickchartButtonEl =\n",
              "        document.querySelector('#df-b997f334-5497-4d8d-99f0-8d2e2597b7ce button');\n",
              "      quickchartButtonEl.style.display =\n",
              "        google.colab.kernel.accessAllowed ? 'block' : 'none';\n",
              "    })();\n",
              "  </script>\n",
              "</div>\n",
              "\n",
              "    </div>\n",
              "  </div>\n"
            ],
            "application/vnd.google.colaboratory.intrinsic+json": {
              "type": "dataframe"
            }
          },
          "metadata": {},
          "execution_count": 9
        }
      ]
    },
    {
      "cell_type": "code",
      "source": [
        "df1.shape"
      ],
      "metadata": {
        "colab": {
          "base_uri": "https://localhost:8080/"
        },
        "id": "lcRONDQrPi7B",
        "outputId": "dc07c051-a120-44dc-8406-081740b5bcd0"
      },
      "execution_count": 10,
      "outputs": [
        {
          "output_type": "execute_result",
          "data": {
            "text/plain": [
              "(7043, 21)"
            ]
          },
          "metadata": {},
          "execution_count": 10
        }
      ]
    },
    {
      "cell_type": "markdown",
      "source": [
        "**Remove rows with space in TotalCharges**"
      ],
      "metadata": {
        "id": "4h56FnuhjggV"
      }
    },
    {
      "cell_type": "code",
      "source": [
        "df = df1[df1.TotalCharges!=' ']\n",
        "df.shape"
      ],
      "metadata": {
        "colab": {
          "base_uri": "https://localhost:8080/"
        },
        "id": "GMupatrmiis4",
        "outputId": "65c7ea34-cabc-4fc6-b1c9-75cbdcf199f4"
      },
      "execution_count": 11,
      "outputs": [
        {
          "output_type": "execute_result",
          "data": {
            "text/plain": [
              "(7032, 21)"
            ]
          },
          "metadata": {},
          "execution_count": 11
        }
      ]
    },
    {
      "cell_type": "code",
      "source": [
        "df.dtypes"
      ],
      "metadata": {
        "colab": {
          "base_uri": "https://localhost:8080/"
        },
        "id": "nESH9XhQkGFN",
        "outputId": "3bd5f28e-a3c4-4c05-b67c-ac0f7ccdcb58"
      },
      "execution_count": 12,
      "outputs": [
        {
          "output_type": "execute_result",
          "data": {
            "text/plain": [
              "customerID           object\n",
              "gender               object\n",
              "SeniorCitizen         int64\n",
              "Partner              object\n",
              "Dependents           object\n",
              "tenure                int64\n",
              "PhoneService         object\n",
              "MultipleLines        object\n",
              "InternetService      object\n",
              "OnlineSecurity       object\n",
              "OnlineBackup         object\n",
              "DeviceProtection     object\n",
              "TechSupport          object\n",
              "StreamingTV          object\n",
              "StreamingMovies      object\n",
              "Contract             object\n",
              "PaperlessBilling     object\n",
              "PaymentMethod        object\n",
              "MonthlyCharges      float64\n",
              "TotalCharges         object\n",
              "Churn                object\n",
              "dtype: object"
            ]
          },
          "metadata": {},
          "execution_count": 12
        }
      ]
    },
    {
      "cell_type": "code",
      "source": [
        "df.TotalCharges = pd.to_numeric(df.TotalCharges)"
      ],
      "metadata": {
        "colab": {
          "base_uri": "https://localhost:8080/"
        },
        "id": "rOKWv_UekUW9",
        "outputId": "da58a9c9-d0f0-40ce-db05-8ac69da56398"
      },
      "execution_count": 13,
      "outputs": [
        {
          "output_type": "stream",
          "name": "stderr",
          "text": [
            "<ipython-input-13-e4980e5e83ff>:1: SettingWithCopyWarning: \n",
            "A value is trying to be set on a copy of a slice from a DataFrame.\n",
            "Try using .loc[row_indexer,col_indexer] = value instead\n",
            "\n",
            "See the caveats in the documentation: https://pandas.pydata.org/pandas-docs/stable/user_guide/indexing.html#returning-a-view-versus-a-copy\n",
            "  df.TotalCharges = pd.to_numeric(df.TotalCharges)\n"
          ]
        }
      ]
    },
    {
      "cell_type": "code",
      "source": [
        "df.TotalCharges.values"
      ],
      "metadata": {
        "colab": {
          "base_uri": "https://localhost:8080/"
        },
        "id": "_qbuwY6kkf17",
        "outputId": "55de05f9-0d28-4c0c-c19e-2cf10c0f9092"
      },
      "execution_count": 14,
      "outputs": [
        {
          "output_type": "execute_result",
          "data": {
            "text/plain": [
              "array([  29.85, 1889.5 ,  108.15, ...,  346.45,  306.6 , 6844.5 ])"
            ]
          },
          "metadata": {},
          "execution_count": 14
        }
      ]
    },
    {
      "cell_type": "code",
      "source": [
        "df.dtypes"
      ],
      "metadata": {
        "colab": {
          "base_uri": "https://localhost:8080/"
        },
        "id": "ATN6jPlQkl88",
        "outputId": "c9d7e2cd-da2b-458f-cf30-24e49b3eecd7"
      },
      "execution_count": 15,
      "outputs": [
        {
          "output_type": "execute_result",
          "data": {
            "text/plain": [
              "customerID           object\n",
              "gender               object\n",
              "SeniorCitizen         int64\n",
              "Partner              object\n",
              "Dependents           object\n",
              "tenure                int64\n",
              "PhoneService         object\n",
              "MultipleLines        object\n",
              "InternetService      object\n",
              "OnlineSecurity       object\n",
              "OnlineBackup         object\n",
              "DeviceProtection     object\n",
              "TechSupport          object\n",
              "StreamingTV          object\n",
              "StreamingMovies      object\n",
              "Contract             object\n",
              "PaperlessBilling     object\n",
              "PaymentMethod        object\n",
              "MonthlyCharges      float64\n",
              "TotalCharges        float64\n",
              "Churn                object\n",
              "dtype: object"
            ]
          },
          "metadata": {},
          "execution_count": 15
        }
      ]
    },
    {
      "cell_type": "code",
      "source": [
        "df.isnull().sum()"
      ],
      "metadata": {
        "colab": {
          "base_uri": "https://localhost:8080/"
        },
        "id": "wnOFXWewL-ZS",
        "outputId": "a77039df-c564-4c00-946c-78ec033a07b7"
      },
      "execution_count": 16,
      "outputs": [
        {
          "output_type": "execute_result",
          "data": {
            "text/plain": [
              "customerID          0\n",
              "gender              0\n",
              "SeniorCitizen       0\n",
              "Partner             0\n",
              "Dependents          0\n",
              "tenure              0\n",
              "PhoneService        0\n",
              "MultipleLines       0\n",
              "InternetService     0\n",
              "OnlineSecurity      0\n",
              "OnlineBackup        0\n",
              "DeviceProtection    0\n",
              "TechSupport         0\n",
              "StreamingTV         0\n",
              "StreamingMovies     0\n",
              "Contract            0\n",
              "PaperlessBilling    0\n",
              "PaymentMethod       0\n",
              "MonthlyCharges      0\n",
              "TotalCharges        0\n",
              "Churn               0\n",
              "dtype: int64"
            ]
          },
          "metadata": {},
          "execution_count": 16
        }
      ]
    },
    {
      "cell_type": "code",
      "source": [
        "df.duplicated().sum()"
      ],
      "metadata": {
        "colab": {
          "base_uri": "https://localhost:8080/"
        },
        "id": "soHf76EDMEbO",
        "outputId": "c0fdd82c-9157-4a69-fb94-b7f67c11f961"
      },
      "execution_count": 17,
      "outputs": [
        {
          "output_type": "execute_result",
          "data": {
            "text/plain": [
              "0"
            ]
          },
          "metadata": {},
          "execution_count": 17
        }
      ]
    },
    {
      "cell_type": "code",
      "source": [
        "df.head()"
      ],
      "metadata": {
        "colab": {
          "base_uri": "https://localhost:8080/",
          "height": 342
        },
        "id": "YujK3khAT5Hf",
        "outputId": "26e0712f-886d-4bcf-ecc7-a2f968290108"
      },
      "execution_count": 18,
      "outputs": [
        {
          "output_type": "execute_result",
          "data": {
            "text/plain": [
              "   customerID  gender  SeniorCitizen Partner Dependents  tenure PhoneService  \\\n",
              "0  7590-VHVEG  Female              0     Yes         No       1           No   \n",
              "1  5575-GNVDE    Male              0      No         No      34          Yes   \n",
              "2  3668-QPYBK    Male              0      No         No       2          Yes   \n",
              "3  7795-CFOCW    Male              0      No         No      45           No   \n",
              "4  9237-HQITU  Female              0      No         No       2          Yes   \n",
              "\n",
              "      MultipleLines InternetService OnlineSecurity  ... DeviceProtection  \\\n",
              "0  No phone service             DSL             No  ...               No   \n",
              "1                No             DSL            Yes  ...              Yes   \n",
              "2                No             DSL            Yes  ...               No   \n",
              "3  No phone service             DSL            Yes  ...              Yes   \n",
              "4                No     Fiber optic             No  ...               No   \n",
              "\n",
              "  TechSupport StreamingTV StreamingMovies        Contract PaperlessBilling  \\\n",
              "0          No          No              No  Month-to-month              Yes   \n",
              "1          No          No              No        One year               No   \n",
              "2          No          No              No  Month-to-month              Yes   \n",
              "3         Yes          No              No        One year               No   \n",
              "4          No          No              No  Month-to-month              Yes   \n",
              "\n",
              "               PaymentMethod MonthlyCharges  TotalCharges  Churn  \n",
              "0           Electronic check          29.85         29.85     No  \n",
              "1               Mailed check          56.95       1889.50     No  \n",
              "2               Mailed check          53.85        108.15    Yes  \n",
              "3  Bank transfer (automatic)          42.30       1840.75     No  \n",
              "4           Electronic check          70.70        151.65    Yes  \n",
              "\n",
              "[5 rows x 21 columns]"
            ],
            "text/html": [
              "\n",
              "  <div id=\"df-a99f0f8b-0299-4288-86a8-f0d470c304f0\" class=\"colab-df-container\">\n",
              "    <div>\n",
              "<style scoped>\n",
              "    .dataframe tbody tr th:only-of-type {\n",
              "        vertical-align: middle;\n",
              "    }\n",
              "\n",
              "    .dataframe tbody tr th {\n",
              "        vertical-align: top;\n",
              "    }\n",
              "\n",
              "    .dataframe thead th {\n",
              "        text-align: right;\n",
              "    }\n",
              "</style>\n",
              "<table border=\"1\" class=\"dataframe\">\n",
              "  <thead>\n",
              "    <tr style=\"text-align: right;\">\n",
              "      <th></th>\n",
              "      <th>customerID</th>\n",
              "      <th>gender</th>\n",
              "      <th>SeniorCitizen</th>\n",
              "      <th>Partner</th>\n",
              "      <th>Dependents</th>\n",
              "      <th>tenure</th>\n",
              "      <th>PhoneService</th>\n",
              "      <th>MultipleLines</th>\n",
              "      <th>InternetService</th>\n",
              "      <th>OnlineSecurity</th>\n",
              "      <th>...</th>\n",
              "      <th>DeviceProtection</th>\n",
              "      <th>TechSupport</th>\n",
              "      <th>StreamingTV</th>\n",
              "      <th>StreamingMovies</th>\n",
              "      <th>Contract</th>\n",
              "      <th>PaperlessBilling</th>\n",
              "      <th>PaymentMethod</th>\n",
              "      <th>MonthlyCharges</th>\n",
              "      <th>TotalCharges</th>\n",
              "      <th>Churn</th>\n",
              "    </tr>\n",
              "  </thead>\n",
              "  <tbody>\n",
              "    <tr>\n",
              "      <th>0</th>\n",
              "      <td>7590-VHVEG</td>\n",
              "      <td>Female</td>\n",
              "      <td>0</td>\n",
              "      <td>Yes</td>\n",
              "      <td>No</td>\n",
              "      <td>1</td>\n",
              "      <td>No</td>\n",
              "      <td>No phone service</td>\n",
              "      <td>DSL</td>\n",
              "      <td>No</td>\n",
              "      <td>...</td>\n",
              "      <td>No</td>\n",
              "      <td>No</td>\n",
              "      <td>No</td>\n",
              "      <td>No</td>\n",
              "      <td>Month-to-month</td>\n",
              "      <td>Yes</td>\n",
              "      <td>Electronic check</td>\n",
              "      <td>29.85</td>\n",
              "      <td>29.85</td>\n",
              "      <td>No</td>\n",
              "    </tr>\n",
              "    <tr>\n",
              "      <th>1</th>\n",
              "      <td>5575-GNVDE</td>\n",
              "      <td>Male</td>\n",
              "      <td>0</td>\n",
              "      <td>No</td>\n",
              "      <td>No</td>\n",
              "      <td>34</td>\n",
              "      <td>Yes</td>\n",
              "      <td>No</td>\n",
              "      <td>DSL</td>\n",
              "      <td>Yes</td>\n",
              "      <td>...</td>\n",
              "      <td>Yes</td>\n",
              "      <td>No</td>\n",
              "      <td>No</td>\n",
              "      <td>No</td>\n",
              "      <td>One year</td>\n",
              "      <td>No</td>\n",
              "      <td>Mailed check</td>\n",
              "      <td>56.95</td>\n",
              "      <td>1889.50</td>\n",
              "      <td>No</td>\n",
              "    </tr>\n",
              "    <tr>\n",
              "      <th>2</th>\n",
              "      <td>3668-QPYBK</td>\n",
              "      <td>Male</td>\n",
              "      <td>0</td>\n",
              "      <td>No</td>\n",
              "      <td>No</td>\n",
              "      <td>2</td>\n",
              "      <td>Yes</td>\n",
              "      <td>No</td>\n",
              "      <td>DSL</td>\n",
              "      <td>Yes</td>\n",
              "      <td>...</td>\n",
              "      <td>No</td>\n",
              "      <td>No</td>\n",
              "      <td>No</td>\n",
              "      <td>No</td>\n",
              "      <td>Month-to-month</td>\n",
              "      <td>Yes</td>\n",
              "      <td>Mailed check</td>\n",
              "      <td>53.85</td>\n",
              "      <td>108.15</td>\n",
              "      <td>Yes</td>\n",
              "    </tr>\n",
              "    <tr>\n",
              "      <th>3</th>\n",
              "      <td>7795-CFOCW</td>\n",
              "      <td>Male</td>\n",
              "      <td>0</td>\n",
              "      <td>No</td>\n",
              "      <td>No</td>\n",
              "      <td>45</td>\n",
              "      <td>No</td>\n",
              "      <td>No phone service</td>\n",
              "      <td>DSL</td>\n",
              "      <td>Yes</td>\n",
              "      <td>...</td>\n",
              "      <td>Yes</td>\n",
              "      <td>Yes</td>\n",
              "      <td>No</td>\n",
              "      <td>No</td>\n",
              "      <td>One year</td>\n",
              "      <td>No</td>\n",
              "      <td>Bank transfer (automatic)</td>\n",
              "      <td>42.30</td>\n",
              "      <td>1840.75</td>\n",
              "      <td>No</td>\n",
              "    </tr>\n",
              "    <tr>\n",
              "      <th>4</th>\n",
              "      <td>9237-HQITU</td>\n",
              "      <td>Female</td>\n",
              "      <td>0</td>\n",
              "      <td>No</td>\n",
              "      <td>No</td>\n",
              "      <td>2</td>\n",
              "      <td>Yes</td>\n",
              "      <td>No</td>\n",
              "      <td>Fiber optic</td>\n",
              "      <td>No</td>\n",
              "      <td>...</td>\n",
              "      <td>No</td>\n",
              "      <td>No</td>\n",
              "      <td>No</td>\n",
              "      <td>No</td>\n",
              "      <td>Month-to-month</td>\n",
              "      <td>Yes</td>\n",
              "      <td>Electronic check</td>\n",
              "      <td>70.70</td>\n",
              "      <td>151.65</td>\n",
              "      <td>Yes</td>\n",
              "    </tr>\n",
              "  </tbody>\n",
              "</table>\n",
              "<p>5 rows × 21 columns</p>\n",
              "</div>\n",
              "    <div class=\"colab-df-buttons\">\n",
              "\n",
              "  <div class=\"colab-df-container\">\n",
              "    <button class=\"colab-df-convert\" onclick=\"convertToInteractive('df-a99f0f8b-0299-4288-86a8-f0d470c304f0')\"\n",
              "            title=\"Convert this dataframe to an interactive table.\"\n",
              "            style=\"display:none;\">\n",
              "\n",
              "  <svg xmlns=\"http://www.w3.org/2000/svg\" height=\"24px\" viewBox=\"0 -960 960 960\">\n",
              "    <path d=\"M120-120v-720h720v720H120Zm60-500h600v-160H180v160Zm220 220h160v-160H400v160Zm0 220h160v-160H400v160ZM180-400h160v-160H180v160Zm440 0h160v-160H620v160ZM180-180h160v-160H180v160Zm440 0h160v-160H620v160Z\"/>\n",
              "  </svg>\n",
              "    </button>\n",
              "\n",
              "  <style>\n",
              "    .colab-df-container {\n",
              "      display:flex;\n",
              "      gap: 12px;\n",
              "    }\n",
              "\n",
              "    .colab-df-convert {\n",
              "      background-color: #E8F0FE;\n",
              "      border: none;\n",
              "      border-radius: 50%;\n",
              "      cursor: pointer;\n",
              "      display: none;\n",
              "      fill: #1967D2;\n",
              "      height: 32px;\n",
              "      padding: 0 0 0 0;\n",
              "      width: 32px;\n",
              "    }\n",
              "\n",
              "    .colab-df-convert:hover {\n",
              "      background-color: #E2EBFA;\n",
              "      box-shadow: 0px 1px 2px rgba(60, 64, 67, 0.3), 0px 1px 3px 1px rgba(60, 64, 67, 0.15);\n",
              "      fill: #174EA6;\n",
              "    }\n",
              "\n",
              "    .colab-df-buttons div {\n",
              "      margin-bottom: 4px;\n",
              "    }\n",
              "\n",
              "    [theme=dark] .colab-df-convert {\n",
              "      background-color: #3B4455;\n",
              "      fill: #D2E3FC;\n",
              "    }\n",
              "\n",
              "    [theme=dark] .colab-df-convert:hover {\n",
              "      background-color: #434B5C;\n",
              "      box-shadow: 0px 1px 3px 1px rgba(0, 0, 0, 0.15);\n",
              "      filter: drop-shadow(0px 1px 2px rgba(0, 0, 0, 0.3));\n",
              "      fill: #FFFFFF;\n",
              "    }\n",
              "  </style>\n",
              "\n",
              "    <script>\n",
              "      const buttonEl =\n",
              "        document.querySelector('#df-a99f0f8b-0299-4288-86a8-f0d470c304f0 button.colab-df-convert');\n",
              "      buttonEl.style.display =\n",
              "        google.colab.kernel.accessAllowed ? 'block' : 'none';\n",
              "\n",
              "      async function convertToInteractive(key) {\n",
              "        const element = document.querySelector('#df-a99f0f8b-0299-4288-86a8-f0d470c304f0');\n",
              "        const dataTable =\n",
              "          await google.colab.kernel.invokeFunction('convertToInteractive',\n",
              "                                                    [key], {});\n",
              "        if (!dataTable) return;\n",
              "\n",
              "        const docLinkHtml = 'Like what you see? Visit the ' +\n",
              "          '<a target=\"_blank\" href=https://colab.research.google.com/notebooks/data_table.ipynb>data table notebook</a>'\n",
              "          + ' to learn more about interactive tables.';\n",
              "        element.innerHTML = '';\n",
              "        dataTable['output_type'] = 'display_data';\n",
              "        await google.colab.output.renderOutput(dataTable, element);\n",
              "        const docLink = document.createElement('div');\n",
              "        docLink.innerHTML = docLinkHtml;\n",
              "        element.appendChild(docLink);\n",
              "      }\n",
              "    </script>\n",
              "  </div>\n",
              "\n",
              "\n",
              "<div id=\"df-67731750-ce03-4404-aef3-8939535588d8\">\n",
              "  <button class=\"colab-df-quickchart\" onclick=\"quickchart('df-67731750-ce03-4404-aef3-8939535588d8')\"\n",
              "            title=\"Suggest charts\"\n",
              "            style=\"display:none;\">\n",
              "\n",
              "<svg xmlns=\"http://www.w3.org/2000/svg\" height=\"24px\"viewBox=\"0 0 24 24\"\n",
              "     width=\"24px\">\n",
              "    <g>\n",
              "        <path d=\"M19 3H5c-1.1 0-2 .9-2 2v14c0 1.1.9 2 2 2h14c1.1 0 2-.9 2-2V5c0-1.1-.9-2-2-2zM9 17H7v-7h2v7zm4 0h-2V7h2v10zm4 0h-2v-4h2v4z\"/>\n",
              "    </g>\n",
              "</svg>\n",
              "  </button>\n",
              "\n",
              "<style>\n",
              "  .colab-df-quickchart {\n",
              "      --bg-color: #E8F0FE;\n",
              "      --fill-color: #1967D2;\n",
              "      --hover-bg-color: #E2EBFA;\n",
              "      --hover-fill-color: #174EA6;\n",
              "      --disabled-fill-color: #AAA;\n",
              "      --disabled-bg-color: #DDD;\n",
              "  }\n",
              "\n",
              "  [theme=dark] .colab-df-quickchart {\n",
              "      --bg-color: #3B4455;\n",
              "      --fill-color: #D2E3FC;\n",
              "      --hover-bg-color: #434B5C;\n",
              "      --hover-fill-color: #FFFFFF;\n",
              "      --disabled-bg-color: #3B4455;\n",
              "      --disabled-fill-color: #666;\n",
              "  }\n",
              "\n",
              "  .colab-df-quickchart {\n",
              "    background-color: var(--bg-color);\n",
              "    border: none;\n",
              "    border-radius: 50%;\n",
              "    cursor: pointer;\n",
              "    display: none;\n",
              "    fill: var(--fill-color);\n",
              "    height: 32px;\n",
              "    padding: 0;\n",
              "    width: 32px;\n",
              "  }\n",
              "\n",
              "  .colab-df-quickchart:hover {\n",
              "    background-color: var(--hover-bg-color);\n",
              "    box-shadow: 0 1px 2px rgba(60, 64, 67, 0.3), 0 1px 3px 1px rgba(60, 64, 67, 0.15);\n",
              "    fill: var(--button-hover-fill-color);\n",
              "  }\n",
              "\n",
              "  .colab-df-quickchart-complete:disabled,\n",
              "  .colab-df-quickchart-complete:disabled:hover {\n",
              "    background-color: var(--disabled-bg-color);\n",
              "    fill: var(--disabled-fill-color);\n",
              "    box-shadow: none;\n",
              "  }\n",
              "\n",
              "  .colab-df-spinner {\n",
              "    border: 2px solid var(--fill-color);\n",
              "    border-color: transparent;\n",
              "    border-bottom-color: var(--fill-color);\n",
              "    animation:\n",
              "      spin 1s steps(1) infinite;\n",
              "  }\n",
              "\n",
              "  @keyframes spin {\n",
              "    0% {\n",
              "      border-color: transparent;\n",
              "      border-bottom-color: var(--fill-color);\n",
              "      border-left-color: var(--fill-color);\n",
              "    }\n",
              "    20% {\n",
              "      border-color: transparent;\n",
              "      border-left-color: var(--fill-color);\n",
              "      border-top-color: var(--fill-color);\n",
              "    }\n",
              "    30% {\n",
              "      border-color: transparent;\n",
              "      border-left-color: var(--fill-color);\n",
              "      border-top-color: var(--fill-color);\n",
              "      border-right-color: var(--fill-color);\n",
              "    }\n",
              "    40% {\n",
              "      border-color: transparent;\n",
              "      border-right-color: var(--fill-color);\n",
              "      border-top-color: var(--fill-color);\n",
              "    }\n",
              "    60% {\n",
              "      border-color: transparent;\n",
              "      border-right-color: var(--fill-color);\n",
              "    }\n",
              "    80% {\n",
              "      border-color: transparent;\n",
              "      border-right-color: var(--fill-color);\n",
              "      border-bottom-color: var(--fill-color);\n",
              "    }\n",
              "    90% {\n",
              "      border-color: transparent;\n",
              "      border-bottom-color: var(--fill-color);\n",
              "    }\n",
              "  }\n",
              "</style>\n",
              "\n",
              "  <script>\n",
              "    async function quickchart(key) {\n",
              "      const quickchartButtonEl =\n",
              "        document.querySelector('#' + key + ' button');\n",
              "      quickchartButtonEl.disabled = true;  // To prevent multiple clicks.\n",
              "      quickchartButtonEl.classList.add('colab-df-spinner');\n",
              "      try {\n",
              "        const charts = await google.colab.kernel.invokeFunction(\n",
              "            'suggestCharts', [key], {});\n",
              "      } catch (error) {\n",
              "        console.error('Error during call to suggestCharts:', error);\n",
              "      }\n",
              "      quickchartButtonEl.classList.remove('colab-df-spinner');\n",
              "      quickchartButtonEl.classList.add('colab-df-quickchart-complete');\n",
              "    }\n",
              "    (() => {\n",
              "      let quickchartButtonEl =\n",
              "        document.querySelector('#df-67731750-ce03-4404-aef3-8939535588d8 button');\n",
              "      quickchartButtonEl.style.display =\n",
              "        google.colab.kernel.accessAllowed ? 'block' : 'none';\n",
              "    })();\n",
              "  </script>\n",
              "</div>\n",
              "\n",
              "    </div>\n",
              "  </div>\n"
            ],
            "application/vnd.google.colaboratory.intrinsic+json": {
              "type": "dataframe",
              "variable_name": "df"
            }
          },
          "metadata": {},
          "execution_count": 18
        }
      ]
    },
    {
      "cell_type": "markdown",
      "source": [
        "**Many of the columns are yes, no etc. Let's print unique values in object columns to see data values**"
      ],
      "metadata": {
        "id": "_IiH3C944oAq"
      }
    },
    {
      "cell_type": "code",
      "source": [
        "def print_unique_col_values(df):\n",
        "       for column in df:\n",
        "            if df[column].dtypes=='object':\n",
        "                print(f'{column}: {df[column].unique()}')"
      ],
      "metadata": {
        "id": "dVQckR244t-e"
      },
      "execution_count": 19,
      "outputs": []
    },
    {
      "cell_type": "code",
      "source": [
        "print_unique_col_values(df)"
      ],
      "metadata": {
        "colab": {
          "base_uri": "https://localhost:8080/"
        },
        "id": "CcpqnyoI40Pn",
        "outputId": "0257674a-d487-4448-e6f9-cb478cad2ec3"
      },
      "execution_count": 20,
      "outputs": [
        {
          "output_type": "stream",
          "name": "stdout",
          "text": [
            "customerID: ['7590-VHVEG' '5575-GNVDE' '3668-QPYBK' ... '4801-JZAZL' '8361-LTMKD'\n",
            " '3186-AJIEK']\n",
            "gender: ['Female' 'Male']\n",
            "Partner: ['Yes' 'No']\n",
            "Dependents: ['No' 'Yes']\n",
            "PhoneService: ['No' 'Yes']\n",
            "MultipleLines: ['No phone service' 'No' 'Yes']\n",
            "InternetService: ['DSL' 'Fiber optic' 'No']\n",
            "OnlineSecurity: ['No' 'Yes' 'No internet service']\n",
            "OnlineBackup: ['Yes' 'No' 'No internet service']\n",
            "DeviceProtection: ['No' 'Yes' 'No internet service']\n",
            "TechSupport: ['No' 'Yes' 'No internet service']\n",
            "StreamingTV: ['No' 'Yes' 'No internet service']\n",
            "StreamingMovies: ['No' 'Yes' 'No internet service']\n",
            "Contract: ['Month-to-month' 'One year' 'Two year']\n",
            "PaperlessBilling: ['Yes' 'No']\n",
            "PaymentMethod: ['Electronic check' 'Mailed check' 'Bank transfer (automatic)'\n",
            " 'Credit card (automatic)']\n",
            "Churn: ['No' 'Yes']\n"
          ]
        }
      ]
    },
    {
      "cell_type": "markdown",
      "source": [
        "**Some of the columns have no internet service or no phone service, that can be replaced with a simple No**"
      ],
      "metadata": {
        "id": "KP8voai85NmN"
      }
    },
    {
      "cell_type": "code",
      "source": [
        "df.replace('No internet service','No',inplace=True)\n",
        "df.replace('No phone service','No',inplace=True)"
      ],
      "metadata": {
        "colab": {
          "base_uri": "https://localhost:8080/"
        },
        "id": "LycRILsH5Q_L",
        "outputId": "a15bad6b-c36e-4a45-b476-33470f939c17"
      },
      "execution_count": 21,
      "outputs": [
        {
          "output_type": "stream",
          "name": "stderr",
          "text": [
            "<ipython-input-21-1fed3bd488c1>:1: SettingWithCopyWarning: \n",
            "A value is trying to be set on a copy of a slice from a DataFrame\n",
            "\n",
            "See the caveats in the documentation: https://pandas.pydata.org/pandas-docs/stable/user_guide/indexing.html#returning-a-view-versus-a-copy\n",
            "  df.replace('No internet service','No',inplace=True)\n",
            "<ipython-input-21-1fed3bd488c1>:2: SettingWithCopyWarning: \n",
            "A value is trying to be set on a copy of a slice from a DataFrame\n",
            "\n",
            "See the caveats in the documentation: https://pandas.pydata.org/pandas-docs/stable/user_guide/indexing.html#returning-a-view-versus-a-copy\n",
            "  df.replace('No phone service','No',inplace=True)\n"
          ]
        }
      ]
    },
    {
      "cell_type": "code",
      "source": [
        "print_unique_col_values(df)"
      ],
      "metadata": {
        "colab": {
          "base_uri": "https://localhost:8080/"
        },
        "id": "KuIrWtKH5ZZv",
        "outputId": "4e6ed26d-f8f1-43bb-9504-261a82d1992c"
      },
      "execution_count": 22,
      "outputs": [
        {
          "output_type": "stream",
          "name": "stdout",
          "text": [
            "customerID: ['7590-VHVEG' '5575-GNVDE' '3668-QPYBK' ... '4801-JZAZL' '8361-LTMKD'\n",
            " '3186-AJIEK']\n",
            "gender: ['Female' 'Male']\n",
            "Partner: ['Yes' 'No']\n",
            "Dependents: ['No' 'Yes']\n",
            "PhoneService: ['No' 'Yes']\n",
            "MultipleLines: ['No' 'Yes']\n",
            "InternetService: ['DSL' 'Fiber optic' 'No']\n",
            "OnlineSecurity: ['No' 'Yes']\n",
            "OnlineBackup: ['Yes' 'No']\n",
            "DeviceProtection: ['No' 'Yes']\n",
            "TechSupport: ['No' 'Yes']\n",
            "StreamingTV: ['No' 'Yes']\n",
            "StreamingMovies: ['No' 'Yes']\n",
            "Contract: ['Month-to-month' 'One year' 'Two year']\n",
            "PaperlessBilling: ['Yes' 'No']\n",
            "PaymentMethod: ['Electronic check' 'Mailed check' 'Bank transfer (automatic)'\n",
            " 'Credit card (automatic)']\n",
            "Churn: ['No' 'Yes']\n"
          ]
        }
      ]
    },
    {
      "cell_type": "markdown",
      "source": [
        "**Let's Convert Yes and No to 1 or 0**"
      ],
      "metadata": {
        "id": "km4u8aaD5f1U"
      }
    },
    {
      "cell_type": "code",
      "source": [
        "yes_no_columns = ['Partner','Dependents','PhoneService','MultipleLines','OnlineSecurity','OnlineBackup',\n",
        "                  'DeviceProtection','TechSupport','StreamingTV','StreamingMovies','PaperlessBilling','Churn']\n",
        "for col in yes_no_columns:\n",
        "    df[col].replace({'Yes': 1,'No': 0},inplace=True)"
      ],
      "metadata": {
        "colab": {
          "base_uri": "https://localhost:8080/"
        },
        "id": "BX7XRmMM5jp3",
        "outputId": "8a21ddd0-20e0-43fd-8f8d-f38ac5eb23ea"
      },
      "execution_count": 23,
      "outputs": [
        {
          "output_type": "stream",
          "name": "stderr",
          "text": [
            "<ipython-input-23-479965e89572>:4: SettingWithCopyWarning: \n",
            "A value is trying to be set on a copy of a slice from a DataFrame\n",
            "\n",
            "See the caveats in the documentation: https://pandas.pydata.org/pandas-docs/stable/user_guide/indexing.html#returning-a-view-versus-a-copy\n",
            "  df[col].replace({'Yes': 1,'No': 0},inplace=True)\n"
          ]
        }
      ]
    },
    {
      "cell_type": "code",
      "source": [
        "for col in df:\n",
        "    print(f'{col}: {df[col].unique()}')"
      ],
      "metadata": {
        "colab": {
          "base_uri": "https://localhost:8080/"
        },
        "id": "OI-2xuiM5o3Y",
        "outputId": "887fbf02-a0e4-4e86-e599-398775c886c7"
      },
      "execution_count": 24,
      "outputs": [
        {
          "output_type": "stream",
          "name": "stdout",
          "text": [
            "customerID: ['7590-VHVEG' '5575-GNVDE' '3668-QPYBK' ... '4801-JZAZL' '8361-LTMKD'\n",
            " '3186-AJIEK']\n",
            "gender: ['Female' 'Male']\n",
            "SeniorCitizen: [0 1]\n",
            "Partner: [1 0]\n",
            "Dependents: [0 1]\n",
            "tenure: [ 1 34  2 45  8 22 10 28 62 13 16 58 49 25 69 52 71 21 12 30 47 72 17 27\n",
            "  5 46 11 70 63 43 15 60 18 66  9  3 31 50 64 56  7 42 35 48 29 65 38 68\n",
            " 32 55 37 36 41  6  4 33 67 23 57 61 14 20 53 40 59 24 44 19 54 51 26 39]\n",
            "PhoneService: [0 1]\n",
            "MultipleLines: [0 1]\n",
            "InternetService: ['DSL' 'Fiber optic' 'No']\n",
            "OnlineSecurity: [0 1]\n",
            "OnlineBackup: [1 0]\n",
            "DeviceProtection: [0 1]\n",
            "TechSupport: [0 1]\n",
            "StreamingTV: [0 1]\n",
            "StreamingMovies: [0 1]\n",
            "Contract: ['Month-to-month' 'One year' 'Two year']\n",
            "PaperlessBilling: [1 0]\n",
            "PaymentMethod: ['Electronic check' 'Mailed check' 'Bank transfer (automatic)'\n",
            " 'Credit card (automatic)']\n",
            "MonthlyCharges: [29.85 56.95 53.85 ... 63.1  44.2  78.7 ]\n",
            "TotalCharges: [  29.85 1889.5   108.15 ...  346.45  306.6  6844.5 ]\n",
            "Churn: [0 1]\n"
          ]
        }
      ]
    },
    {
      "cell_type": "code",
      "source": [
        "df['gender'].replace({'Female':1,'Male':0},inplace=True)"
      ],
      "metadata": {
        "colab": {
          "base_uri": "https://localhost:8080/"
        },
        "id": "P0VVZivG5xBA",
        "outputId": "3b8765e7-0f7c-4d79-a128-86829054a871"
      },
      "execution_count": 25,
      "outputs": [
        {
          "output_type": "stream",
          "name": "stderr",
          "text": [
            "<ipython-input-25-7f2ac4c24de4>:1: SettingWithCopyWarning: \n",
            "A value is trying to be set on a copy of a slice from a DataFrame\n",
            "\n",
            "See the caveats in the documentation: https://pandas.pydata.org/pandas-docs/stable/user_guide/indexing.html#returning-a-view-versus-a-copy\n",
            "  df['gender'].replace({'Female':1,'Male':0},inplace=True)\n"
          ]
        }
      ]
    },
    {
      "cell_type": "code",
      "source": [
        "df.gender.unique()"
      ],
      "metadata": {
        "colab": {
          "base_uri": "https://localhost:8080/"
        },
        "id": "2n0T528n5x1_",
        "outputId": "c44f508a-817f-4e34-9304-3d73d6675521"
      },
      "execution_count": 26,
      "outputs": [
        {
          "output_type": "execute_result",
          "data": {
            "text/plain": [
              "array([1, 0])"
            ]
          },
          "metadata": {},
          "execution_count": 26
        }
      ]
    },
    {
      "cell_type": "markdown",
      "source": [
        "**One hot encoding for categorical columns**"
      ],
      "metadata": {
        "id": "I_9l0Bjn56Go"
      }
    },
    {
      "cell_type": "code",
      "source": [
        "df2 = pd.get_dummies(data=df, columns=['InternetService','Contract','PaymentMethod'])\n",
        "df2.columns"
      ],
      "metadata": {
        "colab": {
          "base_uri": "https://localhost:8080/"
        },
        "id": "J-dExpub50e8",
        "outputId": "7885b9ce-32e1-4ced-fc23-3b56f1cd8711"
      },
      "execution_count": 27,
      "outputs": [
        {
          "output_type": "execute_result",
          "data": {
            "text/plain": [
              "Index(['customerID', 'gender', 'SeniorCitizen', 'Partner', 'Dependents',\n",
              "       'tenure', 'PhoneService', 'MultipleLines', 'OnlineSecurity',\n",
              "       'OnlineBackup', 'DeviceProtection', 'TechSupport', 'StreamingTV',\n",
              "       'StreamingMovies', 'PaperlessBilling', 'MonthlyCharges', 'TotalCharges',\n",
              "       'Churn', 'InternetService_DSL', 'InternetService_Fiber optic',\n",
              "       'InternetService_No', 'Contract_Month-to-month', 'Contract_One year',\n",
              "       'Contract_Two year', 'PaymentMethod_Bank transfer (automatic)',\n",
              "       'PaymentMethod_Credit card (automatic)',\n",
              "       'PaymentMethod_Electronic check', 'PaymentMethod_Mailed check'],\n",
              "      dtype='object')"
            ]
          },
          "metadata": {},
          "execution_count": 27
        }
      ]
    },
    {
      "cell_type": "code",
      "source": [
        "df2.sample(5)"
      ],
      "metadata": {
        "colab": {
          "base_uri": "https://localhost:8080/",
          "height": 377
        },
        "id": "vvoqLiOG6GoB",
        "outputId": "33815bac-2bd9-4e85-b70e-855e5223627c"
      },
      "execution_count": 28,
      "outputs": [
        {
          "output_type": "execute_result",
          "data": {
            "text/plain": [
              "      customerID  gender  SeniorCitizen  Partner  Dependents  tenure  \\\n",
              "5420  7929-SKFGK       0              0        1           0      70   \n",
              "2128  1163-ONYEY       0              0        1           1      41   \n",
              "6926  1450-SKCVI       1              0        0           0      56   \n",
              "3728  6352-GIGGQ       0              0        0           0      67   \n",
              "3750  4415-WNGVR       1              1        1           0      12   \n",
              "\n",
              "      PhoneService  MultipleLines  OnlineSecurity  OnlineBackup  ...  \\\n",
              "5420             1              1               1             1  ...   \n",
              "2128             1              1               1             1  ...   \n",
              "6926             1              0               0             1  ...   \n",
              "3728             1              1               1             1  ...   \n",
              "3750             1              0               1             0  ...   \n",
              "\n",
              "      InternetService_DSL  InternetService_Fiber optic  InternetService_No  \\\n",
              "5420                False                         True               False   \n",
              "2128                 True                        False               False   \n",
              "6926                False                         True               False   \n",
              "3728                 True                        False               False   \n",
              "3750                 True                        False               False   \n",
              "\n",
              "      Contract_Month-to-month  Contract_One year  Contract_Two year  \\\n",
              "5420                    False              False               True   \n",
              "2128                     True              False              False   \n",
              "6926                     True              False              False   \n",
              "3728                    False               True              False   \n",
              "3750                    False               True              False   \n",
              "\n",
              "      PaymentMethod_Bank transfer (automatic)  \\\n",
              "5420                                    False   \n",
              "2128                                    False   \n",
              "6926                                    False   \n",
              "3728                                     True   \n",
              "3750                                    False   \n",
              "\n",
              "      PaymentMethod_Credit card (automatic)  PaymentMethod_Electronic check  \\\n",
              "5420                                   True                           False   \n",
              "2128                                   True                           False   \n",
              "6926                                  False                            True   \n",
              "3728                                  False                           False   \n",
              "3750                                  False                            True   \n",
              "\n",
              "      PaymentMethod_Mailed check  \n",
              "5420                       False  \n",
              "2128                       False  \n",
              "6926                       False  \n",
              "3728                       False  \n",
              "3750                       False  \n",
              "\n",
              "[5 rows x 28 columns]"
            ],
            "text/html": [
              "\n",
              "  <div id=\"df-600da646-46dc-4f8d-ba3c-12a81f12a0f2\" class=\"colab-df-container\">\n",
              "    <div>\n",
              "<style scoped>\n",
              "    .dataframe tbody tr th:only-of-type {\n",
              "        vertical-align: middle;\n",
              "    }\n",
              "\n",
              "    .dataframe tbody tr th {\n",
              "        vertical-align: top;\n",
              "    }\n",
              "\n",
              "    .dataframe thead th {\n",
              "        text-align: right;\n",
              "    }\n",
              "</style>\n",
              "<table border=\"1\" class=\"dataframe\">\n",
              "  <thead>\n",
              "    <tr style=\"text-align: right;\">\n",
              "      <th></th>\n",
              "      <th>customerID</th>\n",
              "      <th>gender</th>\n",
              "      <th>SeniorCitizen</th>\n",
              "      <th>Partner</th>\n",
              "      <th>Dependents</th>\n",
              "      <th>tenure</th>\n",
              "      <th>PhoneService</th>\n",
              "      <th>MultipleLines</th>\n",
              "      <th>OnlineSecurity</th>\n",
              "      <th>OnlineBackup</th>\n",
              "      <th>...</th>\n",
              "      <th>InternetService_DSL</th>\n",
              "      <th>InternetService_Fiber optic</th>\n",
              "      <th>InternetService_No</th>\n",
              "      <th>Contract_Month-to-month</th>\n",
              "      <th>Contract_One year</th>\n",
              "      <th>Contract_Two year</th>\n",
              "      <th>PaymentMethod_Bank transfer (automatic)</th>\n",
              "      <th>PaymentMethod_Credit card (automatic)</th>\n",
              "      <th>PaymentMethod_Electronic check</th>\n",
              "      <th>PaymentMethod_Mailed check</th>\n",
              "    </tr>\n",
              "  </thead>\n",
              "  <tbody>\n",
              "    <tr>\n",
              "      <th>5420</th>\n",
              "      <td>7929-SKFGK</td>\n",
              "      <td>0</td>\n",
              "      <td>0</td>\n",
              "      <td>1</td>\n",
              "      <td>0</td>\n",
              "      <td>70</td>\n",
              "      <td>1</td>\n",
              "      <td>1</td>\n",
              "      <td>1</td>\n",
              "      <td>1</td>\n",
              "      <td>...</td>\n",
              "      <td>False</td>\n",
              "      <td>True</td>\n",
              "      <td>False</td>\n",
              "      <td>False</td>\n",
              "      <td>False</td>\n",
              "      <td>True</td>\n",
              "      <td>False</td>\n",
              "      <td>True</td>\n",
              "      <td>False</td>\n",
              "      <td>False</td>\n",
              "    </tr>\n",
              "    <tr>\n",
              "      <th>2128</th>\n",
              "      <td>1163-ONYEY</td>\n",
              "      <td>0</td>\n",
              "      <td>0</td>\n",
              "      <td>1</td>\n",
              "      <td>1</td>\n",
              "      <td>41</td>\n",
              "      <td>1</td>\n",
              "      <td>1</td>\n",
              "      <td>1</td>\n",
              "      <td>1</td>\n",
              "      <td>...</td>\n",
              "      <td>True</td>\n",
              "      <td>False</td>\n",
              "      <td>False</td>\n",
              "      <td>True</td>\n",
              "      <td>False</td>\n",
              "      <td>False</td>\n",
              "      <td>False</td>\n",
              "      <td>True</td>\n",
              "      <td>False</td>\n",
              "      <td>False</td>\n",
              "    </tr>\n",
              "    <tr>\n",
              "      <th>6926</th>\n",
              "      <td>1450-SKCVI</td>\n",
              "      <td>1</td>\n",
              "      <td>0</td>\n",
              "      <td>0</td>\n",
              "      <td>0</td>\n",
              "      <td>56</td>\n",
              "      <td>1</td>\n",
              "      <td>0</td>\n",
              "      <td>0</td>\n",
              "      <td>1</td>\n",
              "      <td>...</td>\n",
              "      <td>False</td>\n",
              "      <td>True</td>\n",
              "      <td>False</td>\n",
              "      <td>True</td>\n",
              "      <td>False</td>\n",
              "      <td>False</td>\n",
              "      <td>False</td>\n",
              "      <td>False</td>\n",
              "      <td>True</td>\n",
              "      <td>False</td>\n",
              "    </tr>\n",
              "    <tr>\n",
              "      <th>3728</th>\n",
              "      <td>6352-GIGGQ</td>\n",
              "      <td>0</td>\n",
              "      <td>0</td>\n",
              "      <td>0</td>\n",
              "      <td>0</td>\n",
              "      <td>67</td>\n",
              "      <td>1</td>\n",
              "      <td>1</td>\n",
              "      <td>1</td>\n",
              "      <td>1</td>\n",
              "      <td>...</td>\n",
              "      <td>True</td>\n",
              "      <td>False</td>\n",
              "      <td>False</td>\n",
              "      <td>False</td>\n",
              "      <td>True</td>\n",
              "      <td>False</td>\n",
              "      <td>True</td>\n",
              "      <td>False</td>\n",
              "      <td>False</td>\n",
              "      <td>False</td>\n",
              "    </tr>\n",
              "    <tr>\n",
              "      <th>3750</th>\n",
              "      <td>4415-WNGVR</td>\n",
              "      <td>1</td>\n",
              "      <td>1</td>\n",
              "      <td>1</td>\n",
              "      <td>0</td>\n",
              "      <td>12</td>\n",
              "      <td>1</td>\n",
              "      <td>0</td>\n",
              "      <td>1</td>\n",
              "      <td>0</td>\n",
              "      <td>...</td>\n",
              "      <td>True</td>\n",
              "      <td>False</td>\n",
              "      <td>False</td>\n",
              "      <td>False</td>\n",
              "      <td>True</td>\n",
              "      <td>False</td>\n",
              "      <td>False</td>\n",
              "      <td>False</td>\n",
              "      <td>True</td>\n",
              "      <td>False</td>\n",
              "    </tr>\n",
              "  </tbody>\n",
              "</table>\n",
              "<p>5 rows × 28 columns</p>\n",
              "</div>\n",
              "    <div class=\"colab-df-buttons\">\n",
              "\n",
              "  <div class=\"colab-df-container\">\n",
              "    <button class=\"colab-df-convert\" onclick=\"convertToInteractive('df-600da646-46dc-4f8d-ba3c-12a81f12a0f2')\"\n",
              "            title=\"Convert this dataframe to an interactive table.\"\n",
              "            style=\"display:none;\">\n",
              "\n",
              "  <svg xmlns=\"http://www.w3.org/2000/svg\" height=\"24px\" viewBox=\"0 -960 960 960\">\n",
              "    <path d=\"M120-120v-720h720v720H120Zm60-500h600v-160H180v160Zm220 220h160v-160H400v160Zm0 220h160v-160H400v160ZM180-400h160v-160H180v160Zm440 0h160v-160H620v160ZM180-180h160v-160H180v160Zm440 0h160v-160H620v160Z\"/>\n",
              "  </svg>\n",
              "    </button>\n",
              "\n",
              "  <style>\n",
              "    .colab-df-container {\n",
              "      display:flex;\n",
              "      gap: 12px;\n",
              "    }\n",
              "\n",
              "    .colab-df-convert {\n",
              "      background-color: #E8F0FE;\n",
              "      border: none;\n",
              "      border-radius: 50%;\n",
              "      cursor: pointer;\n",
              "      display: none;\n",
              "      fill: #1967D2;\n",
              "      height: 32px;\n",
              "      padding: 0 0 0 0;\n",
              "      width: 32px;\n",
              "    }\n",
              "\n",
              "    .colab-df-convert:hover {\n",
              "      background-color: #E2EBFA;\n",
              "      box-shadow: 0px 1px 2px rgba(60, 64, 67, 0.3), 0px 1px 3px 1px rgba(60, 64, 67, 0.15);\n",
              "      fill: #174EA6;\n",
              "    }\n",
              "\n",
              "    .colab-df-buttons div {\n",
              "      margin-bottom: 4px;\n",
              "    }\n",
              "\n",
              "    [theme=dark] .colab-df-convert {\n",
              "      background-color: #3B4455;\n",
              "      fill: #D2E3FC;\n",
              "    }\n",
              "\n",
              "    [theme=dark] .colab-df-convert:hover {\n",
              "      background-color: #434B5C;\n",
              "      box-shadow: 0px 1px 3px 1px rgba(0, 0, 0, 0.15);\n",
              "      filter: drop-shadow(0px 1px 2px rgba(0, 0, 0, 0.3));\n",
              "      fill: #FFFFFF;\n",
              "    }\n",
              "  </style>\n",
              "\n",
              "    <script>\n",
              "      const buttonEl =\n",
              "        document.querySelector('#df-600da646-46dc-4f8d-ba3c-12a81f12a0f2 button.colab-df-convert');\n",
              "      buttonEl.style.display =\n",
              "        google.colab.kernel.accessAllowed ? 'block' : 'none';\n",
              "\n",
              "      async function convertToInteractive(key) {\n",
              "        const element = document.querySelector('#df-600da646-46dc-4f8d-ba3c-12a81f12a0f2');\n",
              "        const dataTable =\n",
              "          await google.colab.kernel.invokeFunction('convertToInteractive',\n",
              "                                                    [key], {});\n",
              "        if (!dataTable) return;\n",
              "\n",
              "        const docLinkHtml = 'Like what you see? Visit the ' +\n",
              "          '<a target=\"_blank\" href=https://colab.research.google.com/notebooks/data_table.ipynb>data table notebook</a>'\n",
              "          + ' to learn more about interactive tables.';\n",
              "        element.innerHTML = '';\n",
              "        dataTable['output_type'] = 'display_data';\n",
              "        await google.colab.output.renderOutput(dataTable, element);\n",
              "        const docLink = document.createElement('div');\n",
              "        docLink.innerHTML = docLinkHtml;\n",
              "        element.appendChild(docLink);\n",
              "      }\n",
              "    </script>\n",
              "  </div>\n",
              "\n",
              "\n",
              "<div id=\"df-6250945c-70b0-4bf4-adbb-4d4d2dd28cc3\">\n",
              "  <button class=\"colab-df-quickchart\" onclick=\"quickchart('df-6250945c-70b0-4bf4-adbb-4d4d2dd28cc3')\"\n",
              "            title=\"Suggest charts\"\n",
              "            style=\"display:none;\">\n",
              "\n",
              "<svg xmlns=\"http://www.w3.org/2000/svg\" height=\"24px\"viewBox=\"0 0 24 24\"\n",
              "     width=\"24px\">\n",
              "    <g>\n",
              "        <path d=\"M19 3H5c-1.1 0-2 .9-2 2v14c0 1.1.9 2 2 2h14c1.1 0 2-.9 2-2V5c0-1.1-.9-2-2-2zM9 17H7v-7h2v7zm4 0h-2V7h2v10zm4 0h-2v-4h2v4z\"/>\n",
              "    </g>\n",
              "</svg>\n",
              "  </button>\n",
              "\n",
              "<style>\n",
              "  .colab-df-quickchart {\n",
              "      --bg-color: #E8F0FE;\n",
              "      --fill-color: #1967D2;\n",
              "      --hover-bg-color: #E2EBFA;\n",
              "      --hover-fill-color: #174EA6;\n",
              "      --disabled-fill-color: #AAA;\n",
              "      --disabled-bg-color: #DDD;\n",
              "  }\n",
              "\n",
              "  [theme=dark] .colab-df-quickchart {\n",
              "      --bg-color: #3B4455;\n",
              "      --fill-color: #D2E3FC;\n",
              "      --hover-bg-color: #434B5C;\n",
              "      --hover-fill-color: #FFFFFF;\n",
              "      --disabled-bg-color: #3B4455;\n",
              "      --disabled-fill-color: #666;\n",
              "  }\n",
              "\n",
              "  .colab-df-quickchart {\n",
              "    background-color: var(--bg-color);\n",
              "    border: none;\n",
              "    border-radius: 50%;\n",
              "    cursor: pointer;\n",
              "    display: none;\n",
              "    fill: var(--fill-color);\n",
              "    height: 32px;\n",
              "    padding: 0;\n",
              "    width: 32px;\n",
              "  }\n",
              "\n",
              "  .colab-df-quickchart:hover {\n",
              "    background-color: var(--hover-bg-color);\n",
              "    box-shadow: 0 1px 2px rgba(60, 64, 67, 0.3), 0 1px 3px 1px rgba(60, 64, 67, 0.15);\n",
              "    fill: var(--button-hover-fill-color);\n",
              "  }\n",
              "\n",
              "  .colab-df-quickchart-complete:disabled,\n",
              "  .colab-df-quickchart-complete:disabled:hover {\n",
              "    background-color: var(--disabled-bg-color);\n",
              "    fill: var(--disabled-fill-color);\n",
              "    box-shadow: none;\n",
              "  }\n",
              "\n",
              "  .colab-df-spinner {\n",
              "    border: 2px solid var(--fill-color);\n",
              "    border-color: transparent;\n",
              "    border-bottom-color: var(--fill-color);\n",
              "    animation:\n",
              "      spin 1s steps(1) infinite;\n",
              "  }\n",
              "\n",
              "  @keyframes spin {\n",
              "    0% {\n",
              "      border-color: transparent;\n",
              "      border-bottom-color: var(--fill-color);\n",
              "      border-left-color: var(--fill-color);\n",
              "    }\n",
              "    20% {\n",
              "      border-color: transparent;\n",
              "      border-left-color: var(--fill-color);\n",
              "      border-top-color: var(--fill-color);\n",
              "    }\n",
              "    30% {\n",
              "      border-color: transparent;\n",
              "      border-left-color: var(--fill-color);\n",
              "      border-top-color: var(--fill-color);\n",
              "      border-right-color: var(--fill-color);\n",
              "    }\n",
              "    40% {\n",
              "      border-color: transparent;\n",
              "      border-right-color: var(--fill-color);\n",
              "      border-top-color: var(--fill-color);\n",
              "    }\n",
              "    60% {\n",
              "      border-color: transparent;\n",
              "      border-right-color: var(--fill-color);\n",
              "    }\n",
              "    80% {\n",
              "      border-color: transparent;\n",
              "      border-right-color: var(--fill-color);\n",
              "      border-bottom-color: var(--fill-color);\n",
              "    }\n",
              "    90% {\n",
              "      border-color: transparent;\n",
              "      border-bottom-color: var(--fill-color);\n",
              "    }\n",
              "  }\n",
              "</style>\n",
              "\n",
              "  <script>\n",
              "    async function quickchart(key) {\n",
              "      const quickchartButtonEl =\n",
              "        document.querySelector('#' + key + ' button');\n",
              "      quickchartButtonEl.disabled = true;  // To prevent multiple clicks.\n",
              "      quickchartButtonEl.classList.add('colab-df-spinner');\n",
              "      try {\n",
              "        const charts = await google.colab.kernel.invokeFunction(\n",
              "            'suggestCharts', [key], {});\n",
              "      } catch (error) {\n",
              "        console.error('Error during call to suggestCharts:', error);\n",
              "      }\n",
              "      quickchartButtonEl.classList.remove('colab-df-spinner');\n",
              "      quickchartButtonEl.classList.add('colab-df-quickchart-complete');\n",
              "    }\n",
              "    (() => {\n",
              "      let quickchartButtonEl =\n",
              "        document.querySelector('#df-6250945c-70b0-4bf4-adbb-4d4d2dd28cc3 button');\n",
              "      quickchartButtonEl.style.display =\n",
              "        google.colab.kernel.accessAllowed ? 'block' : 'none';\n",
              "    })();\n",
              "  </script>\n",
              "</div>\n",
              "\n",
              "    </div>\n",
              "  </div>\n"
            ],
            "application/vnd.google.colaboratory.intrinsic+json": {
              "type": "dataframe"
            }
          },
          "metadata": {},
          "execution_count": 28
        }
      ]
    },
    {
      "cell_type": "code",
      "source": [
        "df2.drop('customerID',axis='columns',inplace=True)"
      ],
      "metadata": {
        "id": "CsLSOuG09rWq"
      },
      "execution_count": 29,
      "outputs": []
    },
    {
      "cell_type": "code",
      "source": [
        "df2.dtypes"
      ],
      "metadata": {
        "colab": {
          "base_uri": "https://localhost:8080/"
        },
        "id": "1hproeq_6iA9",
        "outputId": "28296ab9-1b2d-49d9-a988-1b5a925794bb"
      },
      "execution_count": 30,
      "outputs": [
        {
          "output_type": "execute_result",
          "data": {
            "text/plain": [
              "gender                                       int64\n",
              "SeniorCitizen                                int64\n",
              "Partner                                      int64\n",
              "Dependents                                   int64\n",
              "tenure                                       int64\n",
              "PhoneService                                 int64\n",
              "MultipleLines                                int64\n",
              "OnlineSecurity                               int64\n",
              "OnlineBackup                                 int64\n",
              "DeviceProtection                             int64\n",
              "TechSupport                                  int64\n",
              "StreamingTV                                  int64\n",
              "StreamingMovies                              int64\n",
              "PaperlessBilling                             int64\n",
              "MonthlyCharges                             float64\n",
              "TotalCharges                               float64\n",
              "Churn                                        int64\n",
              "InternetService_DSL                           bool\n",
              "InternetService_Fiber optic                   bool\n",
              "InternetService_No                            bool\n",
              "Contract_Month-to-month                       bool\n",
              "Contract_One year                             bool\n",
              "Contract_Two year                             bool\n",
              "PaymentMethod_Bank transfer (automatic)       bool\n",
              "PaymentMethod_Credit card (automatic)         bool\n",
              "PaymentMethod_Electronic check                bool\n",
              "PaymentMethod_Mailed check                    bool\n",
              "dtype: object"
            ]
          },
          "metadata": {},
          "execution_count": 30
        }
      ]
    },
    {
      "cell_type": "code",
      "source": [
        "cols_to_scale = ['tenure','MonthlyCharges','TotalCharges']\n",
        "\n",
        "from sklearn.preprocessing import MinMaxScaler\n",
        "scaler = MinMaxScaler()\n",
        "df2[cols_to_scale] = scaler.fit_transform(df2[cols_to_scale])"
      ],
      "metadata": {
        "id": "0yulUgs47Fl6"
      },
      "execution_count": 31,
      "outputs": []
    },
    {
      "cell_type": "code",
      "source": [
        "for col in df2:\n",
        "    print(f'{col}: {df2[col].unique()}')"
      ],
      "metadata": {
        "colab": {
          "base_uri": "https://localhost:8080/"
        },
        "id": "OvQfWpk-7Hl6",
        "outputId": "45fd398c-cce3-48f9-db53-44c3baa3e084"
      },
      "execution_count": 32,
      "outputs": [
        {
          "output_type": "stream",
          "name": "stdout",
          "text": [
            "gender: [1 0]\n",
            "SeniorCitizen: [0 1]\n",
            "Partner: [1 0]\n",
            "Dependents: [0 1]\n",
            "tenure: [0.         0.46478873 0.01408451 0.61971831 0.09859155 0.29577465\n",
            " 0.12676056 0.38028169 0.85915493 0.16901408 0.21126761 0.8028169\n",
            " 0.67605634 0.33802817 0.95774648 0.71830986 0.98591549 0.28169014\n",
            " 0.15492958 0.4084507  0.64788732 1.         0.22535211 0.36619718\n",
            " 0.05633803 0.63380282 0.14084507 0.97183099 0.87323944 0.5915493\n",
            " 0.1971831  0.83098592 0.23943662 0.91549296 0.11267606 0.02816901\n",
            " 0.42253521 0.69014085 0.88732394 0.77464789 0.08450704 0.57746479\n",
            " 0.47887324 0.66197183 0.3943662  0.90140845 0.52112676 0.94366197\n",
            " 0.43661972 0.76056338 0.50704225 0.49295775 0.56338028 0.07042254\n",
            " 0.04225352 0.45070423 0.92957746 0.30985915 0.78873239 0.84507042\n",
            " 0.18309859 0.26760563 0.73239437 0.54929577 0.81690141 0.32394366\n",
            " 0.6056338  0.25352113 0.74647887 0.70422535 0.35211268 0.53521127]\n",
            "PhoneService: [0 1]\n",
            "MultipleLines: [0 1]\n",
            "OnlineSecurity: [0 1]\n",
            "OnlineBackup: [1 0]\n",
            "DeviceProtection: [0 1]\n",
            "TechSupport: [0 1]\n",
            "StreamingTV: [0 1]\n",
            "StreamingMovies: [0 1]\n",
            "PaperlessBilling: [1 0]\n",
            "MonthlyCharges: [0.11542289 0.38507463 0.35422886 ... 0.44626866 0.25820896 0.60149254]\n",
            "TotalCharges: [0.0012751  0.21586661 0.01031041 ... 0.03780868 0.03321025 0.78764136]\n",
            "Churn: [0 1]\n",
            "InternetService_DSL: [ True False]\n",
            "InternetService_Fiber optic: [False  True]\n",
            "InternetService_No: [False  True]\n",
            "Contract_Month-to-month: [ True False]\n",
            "Contract_One year: [False  True]\n",
            "Contract_Two year: [False  True]\n",
            "PaymentMethod_Bank transfer (automatic): [False  True]\n",
            "PaymentMethod_Credit card (automatic): [False  True]\n",
            "PaymentMethod_Electronic check: [ True False]\n",
            "PaymentMethod_Mailed check: [False  True]\n"
          ]
        }
      ]
    },
    {
      "cell_type": "markdown",
      "source": [
        "<hr>\n",
        "\n",
        "**a. Find the total number of male customers**"
      ],
      "metadata": {
        "id": "lBBZqoGLZmnv"
      }
    },
    {
      "cell_type": "code",
      "source": [
        "sum(df1['gender']==\"Male\")"
      ],
      "metadata": {
        "colab": {
          "base_uri": "https://localhost:8080/"
        },
        "id": "l3-AGc4DaOoi",
        "outputId": "b048116f-ce74-425a-b584-f21aa7c1596a"
      },
      "execution_count": 33,
      "outputs": [
        {
          "output_type": "execute_result",
          "data": {
            "text/plain": [
              "3555"
            ]
          },
          "metadata": {},
          "execution_count": 33
        }
      ]
    },
    {
      "cell_type": "markdown",
      "source": [
        "<hr>\n",
        "\n",
        "**b. Find the total number of customers whose Internet Service is ‘DSL’**"
      ],
      "metadata": {
        "id": "fD_nNPhlZtsd"
      }
    },
    {
      "cell_type": "code",
      "source": [
        "sum(df1['InternetService']==\"DSL\")"
      ],
      "metadata": {
        "colab": {
          "base_uri": "https://localhost:8080/"
        },
        "id": "iCWfESGZXxIE",
        "outputId": "78f6fb19-2548-435d-a3c5-7f4891024309"
      },
      "execution_count": 34,
      "outputs": [
        {
          "output_type": "execute_result",
          "data": {
            "text/plain": [
              "2421"
            ]
          },
          "metadata": {},
          "execution_count": 34
        }
      ]
    },
    {
      "cell_type": "markdown",
      "source": [
        "<hr>\n",
        "\n",
        "**c. Extract all the Female senior citizens whose Payment Method is Mailed check & store the\n",
        "result in ‘new_customer’**"
      ],
      "metadata": {
        "id": "LzS8t098Z0ui"
      }
    },
    {
      "cell_type": "code",
      "source": [
        "new_customer=df1[(df1['gender']=='Female') & (df1['SeniorCitizen']==1) & (df1['PaymentMethod']=='Mailed check')]\n",
        "\n",
        "new_customer.head()"
      ],
      "metadata": {
        "colab": {
          "base_uri": "https://localhost:8080/",
          "height": 342
        },
        "id": "1yeQcxntZ7aB",
        "outputId": "eec18d69-6b62-47f4-e090-d7b2f808d031"
      },
      "execution_count": 35,
      "outputs": [
        {
          "output_type": "execute_result",
          "data": {
            "text/plain": [
              "     customerID  gender  SeniorCitizen Partner Dependents  tenure  \\\n",
              "139  0390-DCFDQ  Female              1     Yes         No       1   \n",
              "176  2656-FMOKZ  Female              1      No         No      15   \n",
              "267  3197-ARFOY  Female              1      No         No      19   \n",
              "451  5760-WRAHC  Female              1      No         No      22   \n",
              "470  4933-IKULF  Female              1      No         No      17   \n",
              "\n",
              "    PhoneService MultipleLines InternetService       OnlineSecurity  ...  \\\n",
              "139          Yes            No     Fiber optic                   No  ...   \n",
              "176          Yes           Yes     Fiber optic                   No  ...   \n",
              "267          Yes            No     Fiber optic                  Yes  ...   \n",
              "451          Yes            No             DSL                  Yes  ...   \n",
              "470          Yes            No              No  No internet service  ...   \n",
              "\n",
              "        DeviceProtection          TechSupport          StreamingTV  \\\n",
              "139                   No                   No                   No   \n",
              "176                   No                   No                   No   \n",
              "267                   No                  Yes                  Yes   \n",
              "451                  Yes                  Yes                   No   \n",
              "470  No internet service  No internet service  No internet service   \n",
              "\n",
              "         StreamingMovies        Contract PaperlessBilling PaymentMethod  \\\n",
              "139                   No  Month-to-month              Yes  Mailed check   \n",
              "176                   No  Month-to-month              Yes  Mailed check   \n",
              "267                  Yes  Month-to-month              Yes  Mailed check   \n",
              "451                  Yes  Month-to-month              Yes  Mailed check   \n",
              "470  No internet service        One year               No  Mailed check   \n",
              "\n",
              "    MonthlyCharges  TotalCharges Churn  \n",
              "139          70.45         70.45   Yes  \n",
              "176          74.45        1145.7   Yes  \n",
              "267         105.00       2007.25    No  \n",
              "451          69.75        1545.4    No  \n",
              "470          20.65         330.6    No  \n",
              "\n",
              "[5 rows x 21 columns]"
            ],
            "text/html": [
              "\n",
              "  <div id=\"df-4667d102-dc1d-48d1-9f6e-148e1fdcaa0c\" class=\"colab-df-container\">\n",
              "    <div>\n",
              "<style scoped>\n",
              "    .dataframe tbody tr th:only-of-type {\n",
              "        vertical-align: middle;\n",
              "    }\n",
              "\n",
              "    .dataframe tbody tr th {\n",
              "        vertical-align: top;\n",
              "    }\n",
              "\n",
              "    .dataframe thead th {\n",
              "        text-align: right;\n",
              "    }\n",
              "</style>\n",
              "<table border=\"1\" class=\"dataframe\">\n",
              "  <thead>\n",
              "    <tr style=\"text-align: right;\">\n",
              "      <th></th>\n",
              "      <th>customerID</th>\n",
              "      <th>gender</th>\n",
              "      <th>SeniorCitizen</th>\n",
              "      <th>Partner</th>\n",
              "      <th>Dependents</th>\n",
              "      <th>tenure</th>\n",
              "      <th>PhoneService</th>\n",
              "      <th>MultipleLines</th>\n",
              "      <th>InternetService</th>\n",
              "      <th>OnlineSecurity</th>\n",
              "      <th>...</th>\n",
              "      <th>DeviceProtection</th>\n",
              "      <th>TechSupport</th>\n",
              "      <th>StreamingTV</th>\n",
              "      <th>StreamingMovies</th>\n",
              "      <th>Contract</th>\n",
              "      <th>PaperlessBilling</th>\n",
              "      <th>PaymentMethod</th>\n",
              "      <th>MonthlyCharges</th>\n",
              "      <th>TotalCharges</th>\n",
              "      <th>Churn</th>\n",
              "    </tr>\n",
              "  </thead>\n",
              "  <tbody>\n",
              "    <tr>\n",
              "      <th>139</th>\n",
              "      <td>0390-DCFDQ</td>\n",
              "      <td>Female</td>\n",
              "      <td>1</td>\n",
              "      <td>Yes</td>\n",
              "      <td>No</td>\n",
              "      <td>1</td>\n",
              "      <td>Yes</td>\n",
              "      <td>No</td>\n",
              "      <td>Fiber optic</td>\n",
              "      <td>No</td>\n",
              "      <td>...</td>\n",
              "      <td>No</td>\n",
              "      <td>No</td>\n",
              "      <td>No</td>\n",
              "      <td>No</td>\n",
              "      <td>Month-to-month</td>\n",
              "      <td>Yes</td>\n",
              "      <td>Mailed check</td>\n",
              "      <td>70.45</td>\n",
              "      <td>70.45</td>\n",
              "      <td>Yes</td>\n",
              "    </tr>\n",
              "    <tr>\n",
              "      <th>176</th>\n",
              "      <td>2656-FMOKZ</td>\n",
              "      <td>Female</td>\n",
              "      <td>1</td>\n",
              "      <td>No</td>\n",
              "      <td>No</td>\n",
              "      <td>15</td>\n",
              "      <td>Yes</td>\n",
              "      <td>Yes</td>\n",
              "      <td>Fiber optic</td>\n",
              "      <td>No</td>\n",
              "      <td>...</td>\n",
              "      <td>No</td>\n",
              "      <td>No</td>\n",
              "      <td>No</td>\n",
              "      <td>No</td>\n",
              "      <td>Month-to-month</td>\n",
              "      <td>Yes</td>\n",
              "      <td>Mailed check</td>\n",
              "      <td>74.45</td>\n",
              "      <td>1145.7</td>\n",
              "      <td>Yes</td>\n",
              "    </tr>\n",
              "    <tr>\n",
              "      <th>267</th>\n",
              "      <td>3197-ARFOY</td>\n",
              "      <td>Female</td>\n",
              "      <td>1</td>\n",
              "      <td>No</td>\n",
              "      <td>No</td>\n",
              "      <td>19</td>\n",
              "      <td>Yes</td>\n",
              "      <td>No</td>\n",
              "      <td>Fiber optic</td>\n",
              "      <td>Yes</td>\n",
              "      <td>...</td>\n",
              "      <td>No</td>\n",
              "      <td>Yes</td>\n",
              "      <td>Yes</td>\n",
              "      <td>Yes</td>\n",
              "      <td>Month-to-month</td>\n",
              "      <td>Yes</td>\n",
              "      <td>Mailed check</td>\n",
              "      <td>105.00</td>\n",
              "      <td>2007.25</td>\n",
              "      <td>No</td>\n",
              "    </tr>\n",
              "    <tr>\n",
              "      <th>451</th>\n",
              "      <td>5760-WRAHC</td>\n",
              "      <td>Female</td>\n",
              "      <td>1</td>\n",
              "      <td>No</td>\n",
              "      <td>No</td>\n",
              "      <td>22</td>\n",
              "      <td>Yes</td>\n",
              "      <td>No</td>\n",
              "      <td>DSL</td>\n",
              "      <td>Yes</td>\n",
              "      <td>...</td>\n",
              "      <td>Yes</td>\n",
              "      <td>Yes</td>\n",
              "      <td>No</td>\n",
              "      <td>Yes</td>\n",
              "      <td>Month-to-month</td>\n",
              "      <td>Yes</td>\n",
              "      <td>Mailed check</td>\n",
              "      <td>69.75</td>\n",
              "      <td>1545.4</td>\n",
              "      <td>No</td>\n",
              "    </tr>\n",
              "    <tr>\n",
              "      <th>470</th>\n",
              "      <td>4933-IKULF</td>\n",
              "      <td>Female</td>\n",
              "      <td>1</td>\n",
              "      <td>No</td>\n",
              "      <td>No</td>\n",
              "      <td>17</td>\n",
              "      <td>Yes</td>\n",
              "      <td>No</td>\n",
              "      <td>No</td>\n",
              "      <td>No internet service</td>\n",
              "      <td>...</td>\n",
              "      <td>No internet service</td>\n",
              "      <td>No internet service</td>\n",
              "      <td>No internet service</td>\n",
              "      <td>No internet service</td>\n",
              "      <td>One year</td>\n",
              "      <td>No</td>\n",
              "      <td>Mailed check</td>\n",
              "      <td>20.65</td>\n",
              "      <td>330.6</td>\n",
              "      <td>No</td>\n",
              "    </tr>\n",
              "  </tbody>\n",
              "</table>\n",
              "<p>5 rows × 21 columns</p>\n",
              "</div>\n",
              "    <div class=\"colab-df-buttons\">\n",
              "\n",
              "  <div class=\"colab-df-container\">\n",
              "    <button class=\"colab-df-convert\" onclick=\"convertToInteractive('df-4667d102-dc1d-48d1-9f6e-148e1fdcaa0c')\"\n",
              "            title=\"Convert this dataframe to an interactive table.\"\n",
              "            style=\"display:none;\">\n",
              "\n",
              "  <svg xmlns=\"http://www.w3.org/2000/svg\" height=\"24px\" viewBox=\"0 -960 960 960\">\n",
              "    <path d=\"M120-120v-720h720v720H120Zm60-500h600v-160H180v160Zm220 220h160v-160H400v160Zm0 220h160v-160H400v160ZM180-400h160v-160H180v160Zm440 0h160v-160H620v160ZM180-180h160v-160H180v160Zm440 0h160v-160H620v160Z\"/>\n",
              "  </svg>\n",
              "    </button>\n",
              "\n",
              "  <style>\n",
              "    .colab-df-container {\n",
              "      display:flex;\n",
              "      gap: 12px;\n",
              "    }\n",
              "\n",
              "    .colab-df-convert {\n",
              "      background-color: #E8F0FE;\n",
              "      border: none;\n",
              "      border-radius: 50%;\n",
              "      cursor: pointer;\n",
              "      display: none;\n",
              "      fill: #1967D2;\n",
              "      height: 32px;\n",
              "      padding: 0 0 0 0;\n",
              "      width: 32px;\n",
              "    }\n",
              "\n",
              "    .colab-df-convert:hover {\n",
              "      background-color: #E2EBFA;\n",
              "      box-shadow: 0px 1px 2px rgba(60, 64, 67, 0.3), 0px 1px 3px 1px rgba(60, 64, 67, 0.15);\n",
              "      fill: #174EA6;\n",
              "    }\n",
              "\n",
              "    .colab-df-buttons div {\n",
              "      margin-bottom: 4px;\n",
              "    }\n",
              "\n",
              "    [theme=dark] .colab-df-convert {\n",
              "      background-color: #3B4455;\n",
              "      fill: #D2E3FC;\n",
              "    }\n",
              "\n",
              "    [theme=dark] .colab-df-convert:hover {\n",
              "      background-color: #434B5C;\n",
              "      box-shadow: 0px 1px 3px 1px rgba(0, 0, 0, 0.15);\n",
              "      filter: drop-shadow(0px 1px 2px rgba(0, 0, 0, 0.3));\n",
              "      fill: #FFFFFF;\n",
              "    }\n",
              "  </style>\n",
              "\n",
              "    <script>\n",
              "      const buttonEl =\n",
              "        document.querySelector('#df-4667d102-dc1d-48d1-9f6e-148e1fdcaa0c button.colab-df-convert');\n",
              "      buttonEl.style.display =\n",
              "        google.colab.kernel.accessAllowed ? 'block' : 'none';\n",
              "\n",
              "      async function convertToInteractive(key) {\n",
              "        const element = document.querySelector('#df-4667d102-dc1d-48d1-9f6e-148e1fdcaa0c');\n",
              "        const dataTable =\n",
              "          await google.colab.kernel.invokeFunction('convertToInteractive',\n",
              "                                                    [key], {});\n",
              "        if (!dataTable) return;\n",
              "\n",
              "        const docLinkHtml = 'Like what you see? Visit the ' +\n",
              "          '<a target=\"_blank\" href=https://colab.research.google.com/notebooks/data_table.ipynb>data table notebook</a>'\n",
              "          + ' to learn more about interactive tables.';\n",
              "        element.innerHTML = '';\n",
              "        dataTable['output_type'] = 'display_data';\n",
              "        await google.colab.output.renderOutput(dataTable, element);\n",
              "        const docLink = document.createElement('div');\n",
              "        docLink.innerHTML = docLinkHtml;\n",
              "        element.appendChild(docLink);\n",
              "      }\n",
              "    </script>\n",
              "  </div>\n",
              "\n",
              "\n",
              "<div id=\"df-ab1e6b95-ce0c-4426-8ad1-c1c576b86fa4\">\n",
              "  <button class=\"colab-df-quickchart\" onclick=\"quickchart('df-ab1e6b95-ce0c-4426-8ad1-c1c576b86fa4')\"\n",
              "            title=\"Suggest charts\"\n",
              "            style=\"display:none;\">\n",
              "\n",
              "<svg xmlns=\"http://www.w3.org/2000/svg\" height=\"24px\"viewBox=\"0 0 24 24\"\n",
              "     width=\"24px\">\n",
              "    <g>\n",
              "        <path d=\"M19 3H5c-1.1 0-2 .9-2 2v14c0 1.1.9 2 2 2h14c1.1 0 2-.9 2-2V5c0-1.1-.9-2-2-2zM9 17H7v-7h2v7zm4 0h-2V7h2v10zm4 0h-2v-4h2v4z\"/>\n",
              "    </g>\n",
              "</svg>\n",
              "  </button>\n",
              "\n",
              "<style>\n",
              "  .colab-df-quickchart {\n",
              "      --bg-color: #E8F0FE;\n",
              "      --fill-color: #1967D2;\n",
              "      --hover-bg-color: #E2EBFA;\n",
              "      --hover-fill-color: #174EA6;\n",
              "      --disabled-fill-color: #AAA;\n",
              "      --disabled-bg-color: #DDD;\n",
              "  }\n",
              "\n",
              "  [theme=dark] .colab-df-quickchart {\n",
              "      --bg-color: #3B4455;\n",
              "      --fill-color: #D2E3FC;\n",
              "      --hover-bg-color: #434B5C;\n",
              "      --hover-fill-color: #FFFFFF;\n",
              "      --disabled-bg-color: #3B4455;\n",
              "      --disabled-fill-color: #666;\n",
              "  }\n",
              "\n",
              "  .colab-df-quickchart {\n",
              "    background-color: var(--bg-color);\n",
              "    border: none;\n",
              "    border-radius: 50%;\n",
              "    cursor: pointer;\n",
              "    display: none;\n",
              "    fill: var(--fill-color);\n",
              "    height: 32px;\n",
              "    padding: 0;\n",
              "    width: 32px;\n",
              "  }\n",
              "\n",
              "  .colab-df-quickchart:hover {\n",
              "    background-color: var(--hover-bg-color);\n",
              "    box-shadow: 0 1px 2px rgba(60, 64, 67, 0.3), 0 1px 3px 1px rgba(60, 64, 67, 0.15);\n",
              "    fill: var(--button-hover-fill-color);\n",
              "  }\n",
              "\n",
              "  .colab-df-quickchart-complete:disabled,\n",
              "  .colab-df-quickchart-complete:disabled:hover {\n",
              "    background-color: var(--disabled-bg-color);\n",
              "    fill: var(--disabled-fill-color);\n",
              "    box-shadow: none;\n",
              "  }\n",
              "\n",
              "  .colab-df-spinner {\n",
              "    border: 2px solid var(--fill-color);\n",
              "    border-color: transparent;\n",
              "    border-bottom-color: var(--fill-color);\n",
              "    animation:\n",
              "      spin 1s steps(1) infinite;\n",
              "  }\n",
              "\n",
              "  @keyframes spin {\n",
              "    0% {\n",
              "      border-color: transparent;\n",
              "      border-bottom-color: var(--fill-color);\n",
              "      border-left-color: var(--fill-color);\n",
              "    }\n",
              "    20% {\n",
              "      border-color: transparent;\n",
              "      border-left-color: var(--fill-color);\n",
              "      border-top-color: var(--fill-color);\n",
              "    }\n",
              "    30% {\n",
              "      border-color: transparent;\n",
              "      border-left-color: var(--fill-color);\n",
              "      border-top-color: var(--fill-color);\n",
              "      border-right-color: var(--fill-color);\n",
              "    }\n",
              "    40% {\n",
              "      border-color: transparent;\n",
              "      border-right-color: var(--fill-color);\n",
              "      border-top-color: var(--fill-color);\n",
              "    }\n",
              "    60% {\n",
              "      border-color: transparent;\n",
              "      border-right-color: var(--fill-color);\n",
              "    }\n",
              "    80% {\n",
              "      border-color: transparent;\n",
              "      border-right-color: var(--fill-color);\n",
              "      border-bottom-color: var(--fill-color);\n",
              "    }\n",
              "    90% {\n",
              "      border-color: transparent;\n",
              "      border-bottom-color: var(--fill-color);\n",
              "    }\n",
              "  }\n",
              "</style>\n",
              "\n",
              "  <script>\n",
              "    async function quickchart(key) {\n",
              "      const quickchartButtonEl =\n",
              "        document.querySelector('#' + key + ' button');\n",
              "      quickchartButtonEl.disabled = true;  // To prevent multiple clicks.\n",
              "      quickchartButtonEl.classList.add('colab-df-spinner');\n",
              "      try {\n",
              "        const charts = await google.colab.kernel.invokeFunction(\n",
              "            'suggestCharts', [key], {});\n",
              "      } catch (error) {\n",
              "        console.error('Error during call to suggestCharts:', error);\n",
              "      }\n",
              "      quickchartButtonEl.classList.remove('colab-df-spinner');\n",
              "      quickchartButtonEl.classList.add('colab-df-quickchart-complete');\n",
              "    }\n",
              "    (() => {\n",
              "      let quickchartButtonEl =\n",
              "        document.querySelector('#df-ab1e6b95-ce0c-4426-8ad1-c1c576b86fa4 button');\n",
              "      quickchartButtonEl.style.display =\n",
              "        google.colab.kernel.accessAllowed ? 'block' : 'none';\n",
              "    })();\n",
              "  </script>\n",
              "</div>\n",
              "\n",
              "    </div>\n",
              "  </div>\n"
            ],
            "application/vnd.google.colaboratory.intrinsic+json": {
              "type": "dataframe",
              "variable_name": "new_customer"
            }
          },
          "metadata": {},
          "execution_count": 35
        }
      ]
    },
    {
      "cell_type": "markdown",
      "source": [
        "<hr>\n",
        "\n",
        "**d. Extract all those customers whose tenure is less than 10 months or their Total charges is less\n",
        "than 500$ & store the result in ‘new_customer’**"
      ],
      "metadata": {
        "id": "u7-NpRBdZ8V0"
      }
    },
    {
      "cell_type": "code",
      "source": [
        "new_customer=df[(df['tenure']<10) | (df['TotalCharges']<500)]\n",
        "\n",
        "new_customer.head()"
      ],
      "metadata": {
        "colab": {
          "base_uri": "https://localhost:8080/",
          "height": 342
        },
        "id": "nBBviZphaEZJ",
        "outputId": "9fd415f0-14e6-41ff-d552-6f61b0b89bfc"
      },
      "execution_count": 36,
      "outputs": [
        {
          "output_type": "execute_result",
          "data": {
            "text/plain": [
              "   customerID  gender  SeniorCitizen  Partner  Dependents  tenure  \\\n",
              "0  7590-VHVEG       1              0        1           0       1   \n",
              "2  3668-QPYBK       0              0        0           0       2   \n",
              "4  9237-HQITU       1              0        0           0       2   \n",
              "5  9305-CDSKC       1              0        0           0       8   \n",
              "7  6713-OKOMC       1              0        0           0      10   \n",
              "\n",
              "   PhoneService  MultipleLines InternetService  OnlineSecurity  ...  \\\n",
              "0             0              0             DSL               0  ...   \n",
              "2             1              0             DSL               1  ...   \n",
              "4             1              0     Fiber optic               0  ...   \n",
              "5             1              1     Fiber optic               0  ...   \n",
              "7             0              0             DSL               1  ...   \n",
              "\n",
              "   DeviceProtection  TechSupport  StreamingTV  StreamingMovies  \\\n",
              "0                 0            0            0                0   \n",
              "2                 0            0            0                0   \n",
              "4                 0            0            0                0   \n",
              "5                 1            0            1                1   \n",
              "7                 0            0            0                0   \n",
              "\n",
              "         Contract PaperlessBilling     PaymentMethod MonthlyCharges  \\\n",
              "0  Month-to-month                1  Electronic check          29.85   \n",
              "2  Month-to-month                1      Mailed check          53.85   \n",
              "4  Month-to-month                1  Electronic check          70.70   \n",
              "5  Month-to-month                1  Electronic check          99.65   \n",
              "7  Month-to-month                0      Mailed check          29.75   \n",
              "\n",
              "   TotalCharges  Churn  \n",
              "0         29.85      0  \n",
              "2        108.15      1  \n",
              "4        151.65      1  \n",
              "5        820.50      1  \n",
              "7        301.90      0  \n",
              "\n",
              "[5 rows x 21 columns]"
            ],
            "text/html": [
              "\n",
              "  <div id=\"df-dd2acd80-8cc0-4d18-ace8-c867092e9e9b\" class=\"colab-df-container\">\n",
              "    <div>\n",
              "<style scoped>\n",
              "    .dataframe tbody tr th:only-of-type {\n",
              "        vertical-align: middle;\n",
              "    }\n",
              "\n",
              "    .dataframe tbody tr th {\n",
              "        vertical-align: top;\n",
              "    }\n",
              "\n",
              "    .dataframe thead th {\n",
              "        text-align: right;\n",
              "    }\n",
              "</style>\n",
              "<table border=\"1\" class=\"dataframe\">\n",
              "  <thead>\n",
              "    <tr style=\"text-align: right;\">\n",
              "      <th></th>\n",
              "      <th>customerID</th>\n",
              "      <th>gender</th>\n",
              "      <th>SeniorCitizen</th>\n",
              "      <th>Partner</th>\n",
              "      <th>Dependents</th>\n",
              "      <th>tenure</th>\n",
              "      <th>PhoneService</th>\n",
              "      <th>MultipleLines</th>\n",
              "      <th>InternetService</th>\n",
              "      <th>OnlineSecurity</th>\n",
              "      <th>...</th>\n",
              "      <th>DeviceProtection</th>\n",
              "      <th>TechSupport</th>\n",
              "      <th>StreamingTV</th>\n",
              "      <th>StreamingMovies</th>\n",
              "      <th>Contract</th>\n",
              "      <th>PaperlessBilling</th>\n",
              "      <th>PaymentMethod</th>\n",
              "      <th>MonthlyCharges</th>\n",
              "      <th>TotalCharges</th>\n",
              "      <th>Churn</th>\n",
              "    </tr>\n",
              "  </thead>\n",
              "  <tbody>\n",
              "    <tr>\n",
              "      <th>0</th>\n",
              "      <td>7590-VHVEG</td>\n",
              "      <td>1</td>\n",
              "      <td>0</td>\n",
              "      <td>1</td>\n",
              "      <td>0</td>\n",
              "      <td>1</td>\n",
              "      <td>0</td>\n",
              "      <td>0</td>\n",
              "      <td>DSL</td>\n",
              "      <td>0</td>\n",
              "      <td>...</td>\n",
              "      <td>0</td>\n",
              "      <td>0</td>\n",
              "      <td>0</td>\n",
              "      <td>0</td>\n",
              "      <td>Month-to-month</td>\n",
              "      <td>1</td>\n",
              "      <td>Electronic check</td>\n",
              "      <td>29.85</td>\n",
              "      <td>29.85</td>\n",
              "      <td>0</td>\n",
              "    </tr>\n",
              "    <tr>\n",
              "      <th>2</th>\n",
              "      <td>3668-QPYBK</td>\n",
              "      <td>0</td>\n",
              "      <td>0</td>\n",
              "      <td>0</td>\n",
              "      <td>0</td>\n",
              "      <td>2</td>\n",
              "      <td>1</td>\n",
              "      <td>0</td>\n",
              "      <td>DSL</td>\n",
              "      <td>1</td>\n",
              "      <td>...</td>\n",
              "      <td>0</td>\n",
              "      <td>0</td>\n",
              "      <td>0</td>\n",
              "      <td>0</td>\n",
              "      <td>Month-to-month</td>\n",
              "      <td>1</td>\n",
              "      <td>Mailed check</td>\n",
              "      <td>53.85</td>\n",
              "      <td>108.15</td>\n",
              "      <td>1</td>\n",
              "    </tr>\n",
              "    <tr>\n",
              "      <th>4</th>\n",
              "      <td>9237-HQITU</td>\n",
              "      <td>1</td>\n",
              "      <td>0</td>\n",
              "      <td>0</td>\n",
              "      <td>0</td>\n",
              "      <td>2</td>\n",
              "      <td>1</td>\n",
              "      <td>0</td>\n",
              "      <td>Fiber optic</td>\n",
              "      <td>0</td>\n",
              "      <td>...</td>\n",
              "      <td>0</td>\n",
              "      <td>0</td>\n",
              "      <td>0</td>\n",
              "      <td>0</td>\n",
              "      <td>Month-to-month</td>\n",
              "      <td>1</td>\n",
              "      <td>Electronic check</td>\n",
              "      <td>70.70</td>\n",
              "      <td>151.65</td>\n",
              "      <td>1</td>\n",
              "    </tr>\n",
              "    <tr>\n",
              "      <th>5</th>\n",
              "      <td>9305-CDSKC</td>\n",
              "      <td>1</td>\n",
              "      <td>0</td>\n",
              "      <td>0</td>\n",
              "      <td>0</td>\n",
              "      <td>8</td>\n",
              "      <td>1</td>\n",
              "      <td>1</td>\n",
              "      <td>Fiber optic</td>\n",
              "      <td>0</td>\n",
              "      <td>...</td>\n",
              "      <td>1</td>\n",
              "      <td>0</td>\n",
              "      <td>1</td>\n",
              "      <td>1</td>\n",
              "      <td>Month-to-month</td>\n",
              "      <td>1</td>\n",
              "      <td>Electronic check</td>\n",
              "      <td>99.65</td>\n",
              "      <td>820.50</td>\n",
              "      <td>1</td>\n",
              "    </tr>\n",
              "    <tr>\n",
              "      <th>7</th>\n",
              "      <td>6713-OKOMC</td>\n",
              "      <td>1</td>\n",
              "      <td>0</td>\n",
              "      <td>0</td>\n",
              "      <td>0</td>\n",
              "      <td>10</td>\n",
              "      <td>0</td>\n",
              "      <td>0</td>\n",
              "      <td>DSL</td>\n",
              "      <td>1</td>\n",
              "      <td>...</td>\n",
              "      <td>0</td>\n",
              "      <td>0</td>\n",
              "      <td>0</td>\n",
              "      <td>0</td>\n",
              "      <td>Month-to-month</td>\n",
              "      <td>0</td>\n",
              "      <td>Mailed check</td>\n",
              "      <td>29.75</td>\n",
              "      <td>301.90</td>\n",
              "      <td>0</td>\n",
              "    </tr>\n",
              "  </tbody>\n",
              "</table>\n",
              "<p>5 rows × 21 columns</p>\n",
              "</div>\n",
              "    <div class=\"colab-df-buttons\">\n",
              "\n",
              "  <div class=\"colab-df-container\">\n",
              "    <button class=\"colab-df-convert\" onclick=\"convertToInteractive('df-dd2acd80-8cc0-4d18-ace8-c867092e9e9b')\"\n",
              "            title=\"Convert this dataframe to an interactive table.\"\n",
              "            style=\"display:none;\">\n",
              "\n",
              "  <svg xmlns=\"http://www.w3.org/2000/svg\" height=\"24px\" viewBox=\"0 -960 960 960\">\n",
              "    <path d=\"M120-120v-720h720v720H120Zm60-500h600v-160H180v160Zm220 220h160v-160H400v160Zm0 220h160v-160H400v160ZM180-400h160v-160H180v160Zm440 0h160v-160H620v160ZM180-180h160v-160H180v160Zm440 0h160v-160H620v160Z\"/>\n",
              "  </svg>\n",
              "    </button>\n",
              "\n",
              "  <style>\n",
              "    .colab-df-container {\n",
              "      display:flex;\n",
              "      gap: 12px;\n",
              "    }\n",
              "\n",
              "    .colab-df-convert {\n",
              "      background-color: #E8F0FE;\n",
              "      border: none;\n",
              "      border-radius: 50%;\n",
              "      cursor: pointer;\n",
              "      display: none;\n",
              "      fill: #1967D2;\n",
              "      height: 32px;\n",
              "      padding: 0 0 0 0;\n",
              "      width: 32px;\n",
              "    }\n",
              "\n",
              "    .colab-df-convert:hover {\n",
              "      background-color: #E2EBFA;\n",
              "      box-shadow: 0px 1px 2px rgba(60, 64, 67, 0.3), 0px 1px 3px 1px rgba(60, 64, 67, 0.15);\n",
              "      fill: #174EA6;\n",
              "    }\n",
              "\n",
              "    .colab-df-buttons div {\n",
              "      margin-bottom: 4px;\n",
              "    }\n",
              "\n",
              "    [theme=dark] .colab-df-convert {\n",
              "      background-color: #3B4455;\n",
              "      fill: #D2E3FC;\n",
              "    }\n",
              "\n",
              "    [theme=dark] .colab-df-convert:hover {\n",
              "      background-color: #434B5C;\n",
              "      box-shadow: 0px 1px 3px 1px rgba(0, 0, 0, 0.15);\n",
              "      filter: drop-shadow(0px 1px 2px rgba(0, 0, 0, 0.3));\n",
              "      fill: #FFFFFF;\n",
              "    }\n",
              "  </style>\n",
              "\n",
              "    <script>\n",
              "      const buttonEl =\n",
              "        document.querySelector('#df-dd2acd80-8cc0-4d18-ace8-c867092e9e9b button.colab-df-convert');\n",
              "      buttonEl.style.display =\n",
              "        google.colab.kernel.accessAllowed ? 'block' : 'none';\n",
              "\n",
              "      async function convertToInteractive(key) {\n",
              "        const element = document.querySelector('#df-dd2acd80-8cc0-4d18-ace8-c867092e9e9b');\n",
              "        const dataTable =\n",
              "          await google.colab.kernel.invokeFunction('convertToInteractive',\n",
              "                                                    [key], {});\n",
              "        if (!dataTable) return;\n",
              "\n",
              "        const docLinkHtml = 'Like what you see? Visit the ' +\n",
              "          '<a target=\"_blank\" href=https://colab.research.google.com/notebooks/data_table.ipynb>data table notebook</a>'\n",
              "          + ' to learn more about interactive tables.';\n",
              "        element.innerHTML = '';\n",
              "        dataTable['output_type'] = 'display_data';\n",
              "        await google.colab.output.renderOutput(dataTable, element);\n",
              "        const docLink = document.createElement('div');\n",
              "        docLink.innerHTML = docLinkHtml;\n",
              "        element.appendChild(docLink);\n",
              "      }\n",
              "    </script>\n",
              "  </div>\n",
              "\n",
              "\n",
              "<div id=\"df-9da63f23-300c-48ab-bc34-b4932aae7338\">\n",
              "  <button class=\"colab-df-quickchart\" onclick=\"quickchart('df-9da63f23-300c-48ab-bc34-b4932aae7338')\"\n",
              "            title=\"Suggest charts\"\n",
              "            style=\"display:none;\">\n",
              "\n",
              "<svg xmlns=\"http://www.w3.org/2000/svg\" height=\"24px\"viewBox=\"0 0 24 24\"\n",
              "     width=\"24px\">\n",
              "    <g>\n",
              "        <path d=\"M19 3H5c-1.1 0-2 .9-2 2v14c0 1.1.9 2 2 2h14c1.1 0 2-.9 2-2V5c0-1.1-.9-2-2-2zM9 17H7v-7h2v7zm4 0h-2V7h2v10zm4 0h-2v-4h2v4z\"/>\n",
              "    </g>\n",
              "</svg>\n",
              "  </button>\n",
              "\n",
              "<style>\n",
              "  .colab-df-quickchart {\n",
              "      --bg-color: #E8F0FE;\n",
              "      --fill-color: #1967D2;\n",
              "      --hover-bg-color: #E2EBFA;\n",
              "      --hover-fill-color: #174EA6;\n",
              "      --disabled-fill-color: #AAA;\n",
              "      --disabled-bg-color: #DDD;\n",
              "  }\n",
              "\n",
              "  [theme=dark] .colab-df-quickchart {\n",
              "      --bg-color: #3B4455;\n",
              "      --fill-color: #D2E3FC;\n",
              "      --hover-bg-color: #434B5C;\n",
              "      --hover-fill-color: #FFFFFF;\n",
              "      --disabled-bg-color: #3B4455;\n",
              "      --disabled-fill-color: #666;\n",
              "  }\n",
              "\n",
              "  .colab-df-quickchart {\n",
              "    background-color: var(--bg-color);\n",
              "    border: none;\n",
              "    border-radius: 50%;\n",
              "    cursor: pointer;\n",
              "    display: none;\n",
              "    fill: var(--fill-color);\n",
              "    height: 32px;\n",
              "    padding: 0;\n",
              "    width: 32px;\n",
              "  }\n",
              "\n",
              "  .colab-df-quickchart:hover {\n",
              "    background-color: var(--hover-bg-color);\n",
              "    box-shadow: 0 1px 2px rgba(60, 64, 67, 0.3), 0 1px 3px 1px rgba(60, 64, 67, 0.15);\n",
              "    fill: var(--button-hover-fill-color);\n",
              "  }\n",
              "\n",
              "  .colab-df-quickchart-complete:disabled,\n",
              "  .colab-df-quickchart-complete:disabled:hover {\n",
              "    background-color: var(--disabled-bg-color);\n",
              "    fill: var(--disabled-fill-color);\n",
              "    box-shadow: none;\n",
              "  }\n",
              "\n",
              "  .colab-df-spinner {\n",
              "    border: 2px solid var(--fill-color);\n",
              "    border-color: transparent;\n",
              "    border-bottom-color: var(--fill-color);\n",
              "    animation:\n",
              "      spin 1s steps(1) infinite;\n",
              "  }\n",
              "\n",
              "  @keyframes spin {\n",
              "    0% {\n",
              "      border-color: transparent;\n",
              "      border-bottom-color: var(--fill-color);\n",
              "      border-left-color: var(--fill-color);\n",
              "    }\n",
              "    20% {\n",
              "      border-color: transparent;\n",
              "      border-left-color: var(--fill-color);\n",
              "      border-top-color: var(--fill-color);\n",
              "    }\n",
              "    30% {\n",
              "      border-color: transparent;\n",
              "      border-left-color: var(--fill-color);\n",
              "      border-top-color: var(--fill-color);\n",
              "      border-right-color: var(--fill-color);\n",
              "    }\n",
              "    40% {\n",
              "      border-color: transparent;\n",
              "      border-right-color: var(--fill-color);\n",
              "      border-top-color: var(--fill-color);\n",
              "    }\n",
              "    60% {\n",
              "      border-color: transparent;\n",
              "      border-right-color: var(--fill-color);\n",
              "    }\n",
              "    80% {\n",
              "      border-color: transparent;\n",
              "      border-right-color: var(--fill-color);\n",
              "      border-bottom-color: var(--fill-color);\n",
              "    }\n",
              "    90% {\n",
              "      border-color: transparent;\n",
              "      border-bottom-color: var(--fill-color);\n",
              "    }\n",
              "  }\n",
              "</style>\n",
              "\n",
              "  <script>\n",
              "    async function quickchart(key) {\n",
              "      const quickchartButtonEl =\n",
              "        document.querySelector('#' + key + ' button');\n",
              "      quickchartButtonEl.disabled = true;  // To prevent multiple clicks.\n",
              "      quickchartButtonEl.classList.add('colab-df-spinner');\n",
              "      try {\n",
              "        const charts = await google.colab.kernel.invokeFunction(\n",
              "            'suggestCharts', [key], {});\n",
              "      } catch (error) {\n",
              "        console.error('Error during call to suggestCharts:', error);\n",
              "      }\n",
              "      quickchartButtonEl.classList.remove('colab-df-spinner');\n",
              "      quickchartButtonEl.classList.add('colab-df-quickchart-complete');\n",
              "    }\n",
              "    (() => {\n",
              "      let quickchartButtonEl =\n",
              "        document.querySelector('#df-9da63f23-300c-48ab-bc34-b4932aae7338 button');\n",
              "      quickchartButtonEl.style.display =\n",
              "        google.colab.kernel.accessAllowed ? 'block' : 'none';\n",
              "    })();\n",
              "  </script>\n",
              "</div>\n",
              "\n",
              "    </div>\n",
              "  </div>\n"
            ],
            "application/vnd.google.colaboratory.intrinsic+json": {
              "type": "dataframe",
              "variable_name": "new_customer"
            }
          },
          "metadata": {},
          "execution_count": 36
        }
      ]
    },
    {
      "cell_type": "markdown",
      "source": [
        "### **B) Data Visualization**"
      ],
      "metadata": {
        "id": "tPHxjc8-lJyf"
      }
    },
    {
      "cell_type": "markdown",
      "source": [
        "**a. Build a pie-chart to show the distribution of customers would be churning out**"
      ],
      "metadata": {
        "id": "rtYfD7SclcJH"
      }
    },
    {
      "cell_type": "code",
      "source": [
        "names = df2[\"Churn\"].value_counts().keys().tolist()\n",
        "sizes= df2[\"Churn\"].value_counts().tolist()"
      ],
      "metadata": {
        "id": "CYMH8sGbhOdK"
      },
      "execution_count": 37,
      "outputs": []
    },
    {
      "cell_type": "code",
      "source": [
        "plt.pie(sizes,labels=names,autopct=\"%0.1f%%\")\n",
        "plt.show()"
      ],
      "metadata": {
        "colab": {
          "base_uri": "https://localhost:8080/",
          "height": 406
        },
        "id": "qd-FXVd6mAC6",
        "outputId": "7d647676-2c63-4f9d-d242-f551f07fbb24"
      },
      "execution_count": null,
      "outputs": [
        {
          "output_type": "display_data",
          "data": {
            "text/plain": [
              "<Figure size 640x480 with 1 Axes>"
            ],
            "image/png": "[encoded data removed]"
          },
          "metadata": {}
        }
      ]
    },
    {
      "cell_type": "markdown",
      "source": [
        "**b. Build a bar-plot to show the distribution of ‘Internet Service’**"
      ],
      "metadata": {
        "id": "APa6tUzylffP"
      }
    },
    {
      "cell_type": "code",
      "source": [
        "plt.bar(df['InternetService'].value_counts().keys().tolist(),df['InternetService'].value_counts().tolist(),color='orange')\n",
        "#We are creating the bar-plot using plt.bar()\n",
        "plt.xlabel('Categories of Internet Service')\n",
        "plt.ylabel('Count of categories')\n",
        "plt.title('Distribution of Internet Service')\n",
        "plt.show()"
      ],
      "metadata": {
        "colab": {
          "base_uri": "https://localhost:8080/",
          "height": 472
        },
        "id": "gwpW09h8lljO",
        "outputId": "81e97d10-fc10-4c62-b405-126c1c181f27"
      },
      "execution_count": 38,
      "outputs": [
        {
          "output_type": "display_data",
          "data": {
            "text/plain": [
              "<Figure size 640x480 with 1 Axes>"
            ],
            "image/png": "[encoded data removed]"
          },
          "metadata": {}
        }
      ]
    },
    {
      "cell_type": "markdown",
      "source": [
        "### **C) Model Building**"
      ],
      "metadata": {
        "id": "-1x9ioQKmbMx"
      }
    },
    {
      "cell_type": "code",
      "source": [
        "# TensorFlow and tf.keras\n",
        "import tensorflow as tf\n",
        "from tensorflow import keras\n",
        "from tensorflow.keras import Sequential\n",
        "from tensorflow.keras.layers import Dense,Flatten,Dropout"
      ],
      "metadata": {
        "id": "_oXSuaZcmOUU"
      },
      "execution_count": 39,
      "outputs": []
    },
    {
      "cell_type": "markdown",
      "source": [
        "**a. Build a sequential model using Keras, to find out if the customerwouldchurn or not, using\n",
        "‘tenure’ as the feature and ‘Churn’ as the dependent/target column:**\n"
      ],
      "metadata": {
        "id": "ZZ0bnUIkmjiW"
      }
    },
    {
      "cell_type": "code",
      "source": [
        "x=df2[['tenure']]\n",
        "y=df2[['Churn']]"
      ],
      "metadata": {
        "id": "Nkuxk6duqveh"
      },
      "execution_count": 105,
      "outputs": []
    },
    {
      "cell_type": "code",
      "source": [
        "from sklearn.model_selection import train_test_split\n",
        "x_train,x_test,y_train,y_test = train_test_split(x,y,test_size=0.30,random_state=42)"
      ],
      "metadata": {
        "id": "RxoXHuIaqwyF"
      },
      "execution_count": 106,
      "outputs": []
    },
    {
      "cell_type": "markdown",
      "source": [
        "**i. The visible/input layer should have 12 nodes with ‘Relu’ as activation function.**"
      ],
      "metadata": {
        "id": "94UTgfljmqzh"
      }
    },
    {
      "cell_type": "markdown",
      "source": [
        "**ii. This model would have 1 hidden layer with 8 nodes and ‘Relu’ as activation function**"
      ],
      "metadata": {
        "id": "hO9c7o63tmSC"
      }
    },
    {
      "cell_type": "code",
      "source": [
        "model = Sequential()\n",
        "model.add(Dense(12, input_dim=1, activation='relu'))\n",
        "model.add(Dense(8, activation='relu'))\n",
        "model.add(Dense(1, activation='sigmoid'))"
      ],
      "metadata": {
        "id": "xht_wJFxqQ1D"
      },
      "execution_count": 42,
      "outputs": []
    },
    {
      "cell_type": "markdown",
      "source": [
        "**iii. Use ‘Adam’ as the optimization algorithm**"
      ],
      "metadata": {
        "id": "-8h1IEWntvUQ"
      }
    },
    {
      "cell_type": "code",
      "source": [
        "model.compile(loss='binary_crossentropy', optimizer='adam', metrics=['accuracy'])"
      ],
      "metadata": {
        "id": "XM0mHiIrr3oC"
      },
      "execution_count": 43,
      "outputs": []
    },
    {
      "cell_type": "markdown",
      "source": [
        "**iv. Fit the model on the train set, with number of epochs to be 150**"
      ],
      "metadata": {
        "id": "SLd4A-Bst3oN"
      }
    },
    {
      "cell_type": "code",
      "source": [
        "history = model.fit(x_train, y_train, epochs=150,validation_data=(x_test,y_test))"
      ],
      "metadata": {
        "colab": {
          "base_uri": "https://localhost:8080/"
        },
        "id": "_fd-0OKptbLR",
        "outputId": "1134d58d-0816-4639-9fb8-4c22bc5ba84e"
      },
      "execution_count": 44,
      "outputs": [
        {
          "output_type": "stream",
          "name": "stdout",
          "text": [
            "Epoch 1/150\n",
            "154/154 [==============================] - 3s 5ms/step - loss: 0.6326 - accuracy: 0.7343 - val_loss: 0.5857 - val_accuracy: 0.7341\n",
            "Epoch 2/150\n",
            "154/154 [==============================] - 1s 4ms/step - loss: 0.5589 - accuracy: 0.7343 - val_loss: 0.5447 - val_accuracy: 0.7341\n",
            "Epoch 3/150\n",
            "154/154 [==============================] - 1s 4ms/step - loss: 0.5381 - accuracy: 0.7343 - val_loss: 0.5355 - val_accuracy: 0.7341\n",
            "Epoch 4/150\n",
            "154/154 [==============================] - 1s 4ms/step - loss: 0.5297 - accuracy: 0.7343 - val_loss: 0.5283 - val_accuracy: 0.7341\n",
            "Epoch 5/150\n",
            "154/154 [==============================] - 1s 4ms/step - loss: 0.5224 - accuracy: 0.7343 - val_loss: 0.5222 - val_accuracy: 0.7341\n",
            "Epoch 6/150\n",
            "154/154 [==============================] - 1s 4ms/step - loss: 0.5167 - accuracy: 0.7343 - val_loss: 0.5179 - val_accuracy: 0.7341\n",
            "Epoch 7/150\n",
            "154/154 [==============================] - 1s 4ms/step - loss: 0.5132 - accuracy: 0.7343 - val_loss: 0.5154 - val_accuracy: 0.7341\n",
            "Epoch 8/150\n",
            "154/154 [==============================] - 1s 4ms/step - loss: 0.5112 - accuracy: 0.7343 - val_loss: 0.5142 - val_accuracy: 0.7341\n",
            "Epoch 9/150\n",
            "154/154 [==============================] - 1s 5ms/step - loss: 0.5101 - accuracy: 0.7343 - val_loss: 0.5136 - val_accuracy: 0.7341\n",
            "Epoch 10/150\n",
            "154/154 [==============================] - 1s 7ms/step - loss: 0.5096 - accuracy: 0.7343 - val_loss: 0.5134 - val_accuracy: 0.7341\n",
            "Epoch 11/150\n",
            "154/154 [==============================] - 1s 6ms/step - loss: 0.5094 - accuracy: 0.7343 - val_loss: 0.5133 - val_accuracy: 0.7341\n",
            "Epoch 12/150\n",
            "154/154 [==============================] - 1s 6ms/step - loss: 0.5093 - accuracy: 0.7343 - val_loss: 0.5133 - val_accuracy: 0.7341\n",
            "Epoch 13/150\n",
            "154/154 [==============================] - 1s 4ms/step - loss: 0.5092 - accuracy: 0.7343 - val_loss: 0.5133 - val_accuracy: 0.7341\n",
            "Epoch 14/150\n",
            "154/154 [==============================] - 1s 4ms/step - loss: 0.5092 - accuracy: 0.7343 - val_loss: 0.5133 - val_accuracy: 0.7341\n",
            "Epoch 15/150\n",
            "154/154 [==============================] - 1s 4ms/step - loss: 0.5093 - accuracy: 0.7343 - val_loss: 0.5133 - val_accuracy: 0.7341\n",
            "Epoch 16/150\n",
            "154/154 [==============================] - 1s 4ms/step - loss: 0.5090 - accuracy: 0.7343 - val_loss: 0.5134 - val_accuracy: 0.7341\n",
            "Epoch 17/150\n",
            "154/154 [==============================] - 1s 4ms/step - loss: 0.5093 - accuracy: 0.7343 - val_loss: 0.5133 - val_accuracy: 0.7341\n",
            "Epoch 18/150\n",
            "154/154 [==============================] - 1s 4ms/step - loss: 0.5092 - accuracy: 0.7343 - val_loss: 0.5133 - val_accuracy: 0.7341\n",
            "Epoch 19/150\n",
            "154/154 [==============================] - 1s 4ms/step - loss: 0.5091 - accuracy: 0.7343 - val_loss: 0.5133 - val_accuracy: 0.7578\n",
            "Epoch 20/150\n",
            "154/154 [==============================] - 1s 4ms/step - loss: 0.5092 - accuracy: 0.7379 - val_loss: 0.5133 - val_accuracy: 0.7578\n",
            "Epoch 21/150\n",
            "154/154 [==============================] - 1s 4ms/step - loss: 0.5092 - accuracy: 0.7434 - val_loss: 0.5135 - val_accuracy: 0.7341\n",
            "Epoch 22/150\n",
            "154/154 [==============================] - 1s 4ms/step - loss: 0.5093 - accuracy: 0.7353 - val_loss: 0.5133 - val_accuracy: 0.7578\n",
            "Epoch 23/150\n",
            "154/154 [==============================] - 1s 4ms/step - loss: 0.5090 - accuracy: 0.7515 - val_loss: 0.5134 - val_accuracy: 0.7341\n",
            "Epoch 24/150\n",
            "154/154 [==============================] - 1s 4ms/step - loss: 0.5093 - accuracy: 0.7361 - val_loss: 0.5133 - val_accuracy: 0.7341\n",
            "Epoch 25/150\n",
            "154/154 [==============================] - 1s 4ms/step - loss: 0.5091 - accuracy: 0.7383 - val_loss: 0.5133 - val_accuracy: 0.7578\n",
            "Epoch 26/150\n",
            "154/154 [==============================] - 1s 4ms/step - loss: 0.5093 - accuracy: 0.7462 - val_loss: 0.5133 - val_accuracy: 0.7341\n",
            "Epoch 27/150\n",
            "154/154 [==============================] - 1s 4ms/step - loss: 0.5093 - accuracy: 0.7412 - val_loss: 0.5133 - val_accuracy: 0.7578\n",
            "Epoch 28/150\n",
            "154/154 [==============================] - 1s 5ms/step - loss: 0.5091 - accuracy: 0.7430 - val_loss: 0.5133 - val_accuracy: 0.7341\n",
            "Epoch 29/150\n",
            "154/154 [==============================] - 1s 6ms/step - loss: 0.5092 - accuracy: 0.7426 - val_loss: 0.5133 - val_accuracy: 0.7341\n",
            "Epoch 30/150\n",
            "154/154 [==============================] - 1s 6ms/step - loss: 0.5091 - accuracy: 0.7355 - val_loss: 0.5134 - val_accuracy: 0.7578\n",
            "Epoch 31/150\n",
            "154/154 [==============================] - 1s 5ms/step - loss: 0.5090 - accuracy: 0.7517 - val_loss: 0.5134 - val_accuracy: 0.7341\n",
            "Epoch 32/150\n",
            "154/154 [==============================] - 1s 4ms/step - loss: 0.5092 - accuracy: 0.7371 - val_loss: 0.5133 - val_accuracy: 0.7341\n",
            "Epoch 33/150\n",
            "154/154 [==============================] - 1s 5ms/step - loss: 0.5092 - accuracy: 0.7347 - val_loss: 0.5133 - val_accuracy: 0.7578\n",
            "Epoch 34/150\n",
            "154/154 [==============================] - 1s 5ms/step - loss: 0.5092 - accuracy: 0.7397 - val_loss: 0.5133 - val_accuracy: 0.7578\n",
            "Epoch 35/150\n",
            "154/154 [==============================] - 1s 4ms/step - loss: 0.5092 - accuracy: 0.7464 - val_loss: 0.5133 - val_accuracy: 0.7341\n",
            "Epoch 36/150\n",
            "154/154 [==============================] - 1s 5ms/step - loss: 0.5091 - accuracy: 0.7464 - val_loss: 0.5135 - val_accuracy: 0.7341\n",
            "Epoch 37/150\n",
            "154/154 [==============================] - 1s 4ms/step - loss: 0.5089 - accuracy: 0.7381 - val_loss: 0.5137 - val_accuracy: 0.7578\n",
            "Epoch 38/150\n",
            "154/154 [==============================] - 1s 4ms/step - loss: 0.5093 - accuracy: 0.7550 - val_loss: 0.5133 - val_accuracy: 0.7341\n",
            "Epoch 39/150\n",
            "154/154 [==============================] - 1s 4ms/step - loss: 0.5092 - accuracy: 0.7416 - val_loss: 0.5133 - val_accuracy: 0.7578\n",
            "Epoch 40/150\n",
            "154/154 [==============================] - 1s 4ms/step - loss: 0.5091 - accuracy: 0.7462 - val_loss: 0.5133 - val_accuracy: 0.7341\n",
            "Epoch 41/150\n",
            "154/154 [==============================] - 1s 4ms/step - loss: 0.5091 - accuracy: 0.7387 - val_loss: 0.5134 - val_accuracy: 0.7578\n",
            "Epoch 42/150\n",
            "154/154 [==============================] - 1s 4ms/step - loss: 0.5091 - accuracy: 0.7517 - val_loss: 0.5134 - val_accuracy: 0.7341\n",
            "Epoch 43/150\n",
            "154/154 [==============================] - 1s 4ms/step - loss: 0.5092 - accuracy: 0.7343 - val_loss: 0.5133 - val_accuracy: 0.7341\n",
            "Epoch 44/150\n",
            "154/154 [==============================] - 1s 4ms/step - loss: 0.5092 - accuracy: 0.7489 - val_loss: 0.5133 - val_accuracy: 0.7341\n",
            "Epoch 45/150\n",
            "154/154 [==============================] - 1s 4ms/step - loss: 0.5093 - accuracy: 0.7416 - val_loss: 0.5133 - val_accuracy: 0.7341\n",
            "Epoch 46/150\n",
            "154/154 [==============================] - 1s 6ms/step - loss: 0.5091 - accuracy: 0.7434 - val_loss: 0.5133 - val_accuracy: 0.7578\n",
            "Epoch 47/150\n",
            "154/154 [==============================] - 1s 7ms/step - loss: 0.5092 - accuracy: 0.7511 - val_loss: 0.5133 - val_accuracy: 0.7578\n",
            "Epoch 48/150\n",
            "154/154 [==============================] - 1s 6ms/step - loss: 0.5091 - accuracy: 0.7385 - val_loss: 0.5133 - val_accuracy: 0.7578\n",
            "Epoch 49/150\n",
            "154/154 [==============================] - 1s 5ms/step - loss: 0.5092 - accuracy: 0.7473 - val_loss: 0.5133 - val_accuracy: 0.7578\n",
            "Epoch 50/150\n",
            "154/154 [==============================] - 1s 4ms/step - loss: 0.5093 - accuracy: 0.7503 - val_loss: 0.5134 - val_accuracy: 0.7341\n",
            "Epoch 51/150\n",
            "154/154 [==============================] - 1s 4ms/step - loss: 0.5092 - accuracy: 0.7410 - val_loss: 0.5133 - val_accuracy: 0.7341\n",
            "Epoch 52/150\n",
            "154/154 [==============================] - 1s 4ms/step - loss: 0.5090 - accuracy: 0.7471 - val_loss: 0.5135 - val_accuracy: 0.7341\n",
            "Epoch 53/150\n",
            "154/154 [==============================] - 1s 4ms/step - loss: 0.5092 - accuracy: 0.7406 - val_loss: 0.5134 - val_accuracy: 0.7578\n",
            "Epoch 54/150\n",
            "154/154 [==============================] - 1s 4ms/step - loss: 0.5095 - accuracy: 0.7466 - val_loss: 0.5133 - val_accuracy: 0.7578\n",
            "Epoch 55/150\n",
            "154/154 [==============================] - 1s 4ms/step - loss: 0.5090 - accuracy: 0.7560 - val_loss: 0.5136 - val_accuracy: 0.7341\n",
            "Epoch 56/150\n",
            "154/154 [==============================] - 1s 4ms/step - loss: 0.5092 - accuracy: 0.7397 - val_loss: 0.5133 - val_accuracy: 0.7341\n",
            "Epoch 57/150\n",
            "154/154 [==============================] - 1s 4ms/step - loss: 0.5093 - accuracy: 0.7377 - val_loss: 0.5133 - val_accuracy: 0.7341\n",
            "Epoch 58/150\n",
            "154/154 [==============================] - 1s 4ms/step - loss: 0.5092 - accuracy: 0.7428 - val_loss: 0.5133 - val_accuracy: 0.7578\n",
            "Epoch 59/150\n",
            "154/154 [==============================] - 1s 4ms/step - loss: 0.5093 - accuracy: 0.7426 - val_loss: 0.5133 - val_accuracy: 0.7341\n",
            "Epoch 60/150\n",
            "154/154 [==============================] - 1s 4ms/step - loss: 0.5091 - accuracy: 0.7507 - val_loss: 0.5134 - val_accuracy: 0.7341\n",
            "Epoch 61/150\n",
            "154/154 [==============================] - 1s 4ms/step - loss: 0.5092 - accuracy: 0.7338 - val_loss: 0.5133 - val_accuracy: 0.7341\n",
            "Epoch 62/150\n",
            "154/154 [==============================] - 1s 4ms/step - loss: 0.5091 - accuracy: 0.7471 - val_loss: 0.5133 - val_accuracy: 0.7578\n",
            "Epoch 63/150\n",
            "154/154 [==============================] - 1s 4ms/step - loss: 0.5091 - accuracy: 0.7452 - val_loss: 0.5135 - val_accuracy: 0.7341\n",
            "Epoch 64/150\n",
            "154/154 [==============================] - 1s 4ms/step - loss: 0.5093 - accuracy: 0.7434 - val_loss: 0.5133 - val_accuracy: 0.7578\n",
            "Epoch 65/150\n",
            "154/154 [==============================] - 1s 7ms/step - loss: 0.5092 - accuracy: 0.7381 - val_loss: 0.5133 - val_accuracy: 0.7578\n",
            "Epoch 66/150\n",
            "154/154 [==============================] - 1s 7ms/step - loss: 0.5092 - accuracy: 0.7523 - val_loss: 0.5133 - val_accuracy: 0.7341\n",
            "Epoch 67/150\n",
            "154/154 [==============================] - 1s 5ms/step - loss: 0.5092 - accuracy: 0.7454 - val_loss: 0.5134 - val_accuracy: 0.7341\n",
            "Epoch 68/150\n",
            "154/154 [==============================] - 1s 4ms/step - loss: 0.5091 - accuracy: 0.7473 - val_loss: 0.5135 - val_accuracy: 0.7341\n",
            "Epoch 69/150\n",
            "154/154 [==============================] - 1s 4ms/step - loss: 0.5093 - accuracy: 0.7341 - val_loss: 0.5133 - val_accuracy: 0.7578\n",
            "Epoch 70/150\n",
            "154/154 [==============================] - 1s 4ms/step - loss: 0.5091 - accuracy: 0.7527 - val_loss: 0.5133 - val_accuracy: 0.7341\n",
            "Epoch 71/150\n",
            "154/154 [==============================] - 1s 4ms/step - loss: 0.5093 - accuracy: 0.7440 - val_loss: 0.5134 - val_accuracy: 0.7578\n",
            "Epoch 72/150\n",
            "154/154 [==============================] - 1s 4ms/step - loss: 0.5093 - accuracy: 0.7440 - val_loss: 0.5133 - val_accuracy: 0.7578\n",
            "Epoch 73/150\n",
            "154/154 [==============================] - 1s 4ms/step - loss: 0.5093 - accuracy: 0.7418 - val_loss: 0.5134 - val_accuracy: 0.7578\n",
            "Epoch 74/150\n",
            "154/154 [==============================] - 1s 4ms/step - loss: 0.5091 - accuracy: 0.7485 - val_loss: 0.5133 - val_accuracy: 0.7578\n",
            "Epoch 75/150\n",
            "154/154 [==============================] - 1s 4ms/step - loss: 0.5092 - accuracy: 0.7438 - val_loss: 0.5133 - val_accuracy: 0.7578\n",
            "Epoch 76/150\n",
            "154/154 [==============================] - 1s 4ms/step - loss: 0.5093 - accuracy: 0.7515 - val_loss: 0.5133 - val_accuracy: 0.7578\n",
            "Epoch 77/150\n",
            "154/154 [==============================] - 1s 4ms/step - loss: 0.5092 - accuracy: 0.7416 - val_loss: 0.5133 - val_accuracy: 0.7341\n",
            "Epoch 78/150\n",
            "154/154 [==============================] - 1s 4ms/step - loss: 0.5091 - accuracy: 0.7444 - val_loss: 0.5134 - val_accuracy: 0.7578\n",
            "Epoch 79/150\n",
            "154/154 [==============================] - 1s 4ms/step - loss: 0.5093 - accuracy: 0.7489 - val_loss: 0.5133 - val_accuracy: 0.7578\n",
            "Epoch 80/150\n",
            "154/154 [==============================] - 1s 4ms/step - loss: 0.5092 - accuracy: 0.7408 - val_loss: 0.5133 - val_accuracy: 0.7578\n",
            "Epoch 81/150\n",
            "154/154 [==============================] - 1s 4ms/step - loss: 0.5092 - accuracy: 0.7483 - val_loss: 0.5133 - val_accuracy: 0.7341\n",
            "Epoch 82/150\n",
            "154/154 [==============================] - 1s 4ms/step - loss: 0.5091 - accuracy: 0.7414 - val_loss: 0.5133 - val_accuracy: 0.7578\n",
            "Epoch 83/150\n",
            "154/154 [==============================] - 1s 6ms/step - loss: 0.5092 - accuracy: 0.7521 - val_loss: 0.5134 - val_accuracy: 0.7341\n",
            "Epoch 84/150\n",
            "154/154 [==============================] - 1s 8ms/step - loss: 0.5093 - accuracy: 0.7403 - val_loss: 0.5133 - val_accuracy: 0.7341\n",
            "Epoch 85/150\n",
            "154/154 [==============================] - 1s 8ms/step - loss: 0.5092 - accuracy: 0.7395 - val_loss: 0.5133 - val_accuracy: 0.7578\n",
            "Epoch 86/150\n",
            "154/154 [==============================] - 1s 7ms/step - loss: 0.5092 - accuracy: 0.7513 - val_loss: 0.5133 - val_accuracy: 0.7578\n",
            "Epoch 87/150\n",
            "154/154 [==============================] - 1s 6ms/step - loss: 0.5092 - accuracy: 0.7351 - val_loss: 0.5133 - val_accuracy: 0.7578\n",
            "Epoch 88/150\n",
            "154/154 [==============================] - 1s 4ms/step - loss: 0.5092 - accuracy: 0.7485 - val_loss: 0.5133 - val_accuracy: 0.7578\n",
            "Epoch 89/150\n",
            "154/154 [==============================] - 1s 4ms/step - loss: 0.5092 - accuracy: 0.7452 - val_loss: 0.5133 - val_accuracy: 0.7578\n",
            "Epoch 90/150\n",
            "154/154 [==============================] - 1s 4ms/step - loss: 0.5092 - accuracy: 0.7420 - val_loss: 0.5133 - val_accuracy: 0.7578\n",
            "Epoch 91/150\n",
            "154/154 [==============================] - 1s 4ms/step - loss: 0.5093 - accuracy: 0.7509 - val_loss: 0.5133 - val_accuracy: 0.7341\n",
            "Epoch 92/150\n",
            "154/154 [==============================] - 1s 4ms/step - loss: 0.5093 - accuracy: 0.7412 - val_loss: 0.5133 - val_accuracy: 0.7578\n",
            "Epoch 93/150\n",
            "154/154 [==============================] - 1s 4ms/step - loss: 0.5092 - accuracy: 0.7513 - val_loss: 0.5133 - val_accuracy: 0.7341\n",
            "Epoch 94/150\n",
            "154/154 [==============================] - 1s 4ms/step - loss: 0.5092 - accuracy: 0.7414 - val_loss: 0.5133 - val_accuracy: 0.7341\n",
            "Epoch 95/150\n",
            "154/154 [==============================] - 1s 4ms/step - loss: 0.5091 - accuracy: 0.7416 - val_loss: 0.5134 - val_accuracy: 0.7578\n",
            "Epoch 96/150\n",
            "154/154 [==============================] - 1s 4ms/step - loss: 0.5092 - accuracy: 0.7527 - val_loss: 0.5133 - val_accuracy: 0.7341\n",
            "Epoch 97/150\n",
            "154/154 [==============================] - 1s 4ms/step - loss: 0.5092 - accuracy: 0.7418 - val_loss: 0.5133 - val_accuracy: 0.7578\n",
            "Epoch 98/150\n",
            "154/154 [==============================] - 1s 4ms/step - loss: 0.5092 - accuracy: 0.7454 - val_loss: 0.5133 - val_accuracy: 0.7341\n",
            "Epoch 99/150\n",
            "154/154 [==============================] - 1s 4ms/step - loss: 0.5091 - accuracy: 0.7422 - val_loss: 0.5133 - val_accuracy: 0.7341\n",
            "Epoch 100/150\n",
            "154/154 [==============================] - 1s 4ms/step - loss: 0.5092 - accuracy: 0.7440 - val_loss: 0.5133 - val_accuracy: 0.7578\n",
            "Epoch 101/150\n",
            "154/154 [==============================] - 1s 4ms/step - loss: 0.5092 - accuracy: 0.7408 - val_loss: 0.5133 - val_accuracy: 0.7578\n",
            "Epoch 102/150\n",
            "154/154 [==============================] - 1s 6ms/step - loss: 0.5090 - accuracy: 0.7399 - val_loss: 0.5135 - val_accuracy: 0.7578\n",
            "Epoch 103/150\n",
            "154/154 [==============================] - 1s 6ms/step - loss: 0.5093 - accuracy: 0.7505 - val_loss: 0.5133 - val_accuracy: 0.7341\n",
            "Epoch 104/150\n",
            "154/154 [==============================] - 1s 6ms/step - loss: 0.5091 - accuracy: 0.7430 - val_loss: 0.5134 - val_accuracy: 0.7341\n",
            "Epoch 105/150\n",
            "154/154 [==============================] - 1s 4ms/step - loss: 0.5091 - accuracy: 0.7513 - val_loss: 0.5135 - val_accuracy: 0.7341\n",
            "Epoch 106/150\n",
            "154/154 [==============================] - 1s 4ms/step - loss: 0.5093 - accuracy: 0.7412 - val_loss: 0.5133 - val_accuracy: 0.7341\n",
            "Epoch 107/150\n",
            "154/154 [==============================] - 1s 4ms/step - loss: 0.5092 - accuracy: 0.7408 - val_loss: 0.5133 - val_accuracy: 0.7578\n",
            "Epoch 108/150\n",
            "154/154 [==============================] - 1s 4ms/step - loss: 0.5091 - accuracy: 0.7401 - val_loss: 0.5134 - val_accuracy: 0.7578\n",
            "Epoch 109/150\n",
            "154/154 [==============================] - 1s 4ms/step - loss: 0.5091 - accuracy: 0.7503 - val_loss: 0.5133 - val_accuracy: 0.7341\n",
            "Epoch 110/150\n",
            "154/154 [==============================] - 1s 4ms/step - loss: 0.5092 - accuracy: 0.7483 - val_loss: 0.5133 - val_accuracy: 0.7578\n",
            "Epoch 111/150\n",
            "154/154 [==============================] - 1s 4ms/step - loss: 0.5092 - accuracy: 0.7460 - val_loss: 0.5133 - val_accuracy: 0.7578\n",
            "Epoch 112/150\n",
            "154/154 [==============================] - 1s 4ms/step - loss: 0.5092 - accuracy: 0.7464 - val_loss: 0.5133 - val_accuracy: 0.7578\n",
            "Epoch 113/150\n",
            "154/154 [==============================] - 1s 4ms/step - loss: 0.5091 - accuracy: 0.7517 - val_loss: 0.5138 - val_accuracy: 0.7341\n",
            "Epoch 114/150\n",
            "154/154 [==============================] - 1s 4ms/step - loss: 0.5094 - accuracy: 0.7444 - val_loss: 0.5133 - val_accuracy: 0.7341\n",
            "Epoch 115/150\n",
            "154/154 [==============================] - 1s 4ms/step - loss: 0.5092 - accuracy: 0.7434 - val_loss: 0.5133 - val_accuracy: 0.7578\n",
            "Epoch 116/150\n",
            "154/154 [==============================] - 1s 4ms/step - loss: 0.5091 - accuracy: 0.7456 - val_loss: 0.5134 - val_accuracy: 0.7341\n",
            "Epoch 117/150\n",
            "154/154 [==============================] - 1s 4ms/step - loss: 0.5091 - accuracy: 0.7450 - val_loss: 0.5133 - val_accuracy: 0.7578\n",
            "Epoch 118/150\n",
            "154/154 [==============================] - 1s 4ms/step - loss: 0.5093 - accuracy: 0.7473 - val_loss: 0.5134 - val_accuracy: 0.7341\n",
            "Epoch 119/150\n",
            "154/154 [==============================] - 1s 4ms/step - loss: 0.5092 - accuracy: 0.7408 - val_loss: 0.5133 - val_accuracy: 0.7578\n",
            "Epoch 120/150\n",
            "154/154 [==============================] - 1s 4ms/step - loss: 0.5092 - accuracy: 0.7469 - val_loss: 0.5133 - val_accuracy: 0.7578\n",
            "Epoch 121/150\n",
            "154/154 [==============================] - 1s 7ms/step - loss: 0.5091 - accuracy: 0.7416 - val_loss: 0.5134 - val_accuracy: 0.7578\n",
            "Epoch 122/150\n",
            "154/154 [==============================] - 1s 6ms/step - loss: 0.5091 - accuracy: 0.7477 - val_loss: 0.5133 - val_accuracy: 0.7578\n",
            "Epoch 123/150\n",
            "154/154 [==============================] - 1s 5ms/step - loss: 0.5092 - accuracy: 0.7471 - val_loss: 0.5133 - val_accuracy: 0.7578\n",
            "Epoch 124/150\n",
            "154/154 [==============================] - 1s 4ms/step - loss: 0.5092 - accuracy: 0.7454 - val_loss: 0.5133 - val_accuracy: 0.7578\n",
            "Epoch 125/150\n",
            "154/154 [==============================] - 1s 4ms/step - loss: 0.5093 - accuracy: 0.7440 - val_loss: 0.5134 - val_accuracy: 0.7341\n",
            "Epoch 126/150\n",
            "154/154 [==============================] - 1s 4ms/step - loss: 0.5090 - accuracy: 0.7381 - val_loss: 0.5134 - val_accuracy: 0.7578\n",
            "Epoch 127/150\n",
            "154/154 [==============================] - 1s 7ms/step - loss: 0.5092 - accuracy: 0.7554 - val_loss: 0.5134 - val_accuracy: 0.7341\n",
            "Epoch 128/150\n",
            "154/154 [==============================] - 1s 8ms/step - loss: 0.5093 - accuracy: 0.7341 - val_loss: 0.5133 - val_accuracy: 0.7341\n",
            "Epoch 129/150\n",
            "154/154 [==============================] - 1s 8ms/step - loss: 0.5092 - accuracy: 0.7464 - val_loss: 0.5133 - val_accuracy: 0.7578\n",
            "Epoch 130/150\n",
            "154/154 [==============================] - 1s 8ms/step - loss: 0.5092 - accuracy: 0.7393 - val_loss: 0.5133 - val_accuracy: 0.7578\n",
            "Epoch 131/150\n",
            "154/154 [==============================] - 1s 8ms/step - loss: 0.5091 - accuracy: 0.7511 - val_loss: 0.5133 - val_accuracy: 0.7341\n",
            "Epoch 132/150\n",
            "154/154 [==============================] - 1s 7ms/step - loss: 0.5093 - accuracy: 0.7477 - val_loss: 0.5134 - val_accuracy: 0.7341\n",
            "Epoch 133/150\n",
            "154/154 [==============================] - 2s 13ms/step - loss: 0.5092 - accuracy: 0.7428 - val_loss: 0.5133 - val_accuracy: 0.7578\n",
            "Epoch 134/150\n",
            "154/154 [==============================] - 2s 12ms/step - loss: 0.5091 - accuracy: 0.7469 - val_loss: 0.5133 - val_accuracy: 0.7578\n",
            "Epoch 135/150\n",
            "154/154 [==============================] - 1s 9ms/step - loss: 0.5093 - accuracy: 0.7383 - val_loss: 0.5133 - val_accuracy: 0.7578\n",
            "Epoch 136/150\n",
            "154/154 [==============================] - 1s 8ms/step - loss: 0.5091 - accuracy: 0.7483 - val_loss: 0.5133 - val_accuracy: 0.7578\n",
            "Epoch 137/150\n",
            "154/154 [==============================] - 1s 7ms/step - loss: 0.5091 - accuracy: 0.7408 - val_loss: 0.5133 - val_accuracy: 0.7578\n",
            "Epoch 138/150\n",
            "154/154 [==============================] - 1s 7ms/step - loss: 0.5093 - accuracy: 0.7385 - val_loss: 0.5133 - val_accuracy: 0.7578\n",
            "Epoch 139/150\n",
            "154/154 [==============================] - 1s 4ms/step - loss: 0.5091 - accuracy: 0.7436 - val_loss: 0.5134 - val_accuracy: 0.7341\n",
            "Epoch 140/150\n",
            "154/154 [==============================] - 1s 4ms/step - loss: 0.5091 - accuracy: 0.7475 - val_loss: 0.5133 - val_accuracy: 0.7341\n",
            "Epoch 141/150\n",
            "154/154 [==============================] - 1s 4ms/step - loss: 0.5092 - accuracy: 0.7418 - val_loss: 0.5133 - val_accuracy: 0.7578\n",
            "Epoch 142/150\n",
            "154/154 [==============================] - 1s 4ms/step - loss: 0.5092 - accuracy: 0.7509 - val_loss: 0.5133 - val_accuracy: 0.7578\n",
            "Epoch 143/150\n",
            "154/154 [==============================] - 1s 4ms/step - loss: 0.5091 - accuracy: 0.7517 - val_loss: 0.5133 - val_accuracy: 0.7578\n",
            "Epoch 144/150\n",
            "154/154 [==============================] - 1s 4ms/step - loss: 0.5091 - accuracy: 0.7428 - val_loss: 0.5133 - val_accuracy: 0.7578\n",
            "Epoch 145/150\n",
            "154/154 [==============================] - 1s 4ms/step - loss: 0.5092 - accuracy: 0.7446 - val_loss: 0.5133 - val_accuracy: 0.7578\n",
            "Epoch 146/150\n",
            "154/154 [==============================] - 1s 4ms/step - loss: 0.5092 - accuracy: 0.7450 - val_loss: 0.5133 - val_accuracy: 0.7578\n",
            "Epoch 147/150\n",
            "154/154 [==============================] - 1s 4ms/step - loss: 0.5092 - accuracy: 0.7489 - val_loss: 0.5134 - val_accuracy: 0.7341\n",
            "Epoch 148/150\n",
            "154/154 [==============================] - 1s 6ms/step - loss: 0.5092 - accuracy: 0.7466 - val_loss: 0.5133 - val_accuracy: 0.7341\n",
            "Epoch 149/150\n",
            "154/154 [==============================] - 1s 7ms/step - loss: 0.5092 - accuracy: 0.7503 - val_loss: 0.5133 - val_accuracy: 0.7578\n",
            "Epoch 150/150\n",
            "154/154 [==============================] - 1s 6ms/step - loss: 0.5092 - accuracy: 0.7473 - val_loss: 0.5133 - val_accuracy: 0.7341\n"
          ]
        }
      ]
    },
    {
      "cell_type": "markdown",
      "source": [
        "***mean validation accuracy***"
      ],
      "metadata": {
        "id": "NlfzGmJYZEAz"
      }
    },
    {
      "cell_type": "code",
      "source": [
        "np.mean(model.history.history['val_accuracy'])"
      ],
      "metadata": {
        "colab": {
          "base_uri": "https://localhost:8080/"
        },
        "id": "niAAyq9muBM-",
        "outputId": "d4dac478-75c5-4da5-ee21-3d52671e6f06"
      },
      "execution_count": 45,
      "outputs": [
        {
          "output_type": "execute_result",
          "data": {
            "text/plain": [
              "0.7456556049982707"
            ]
          },
          "metadata": {},
          "execution_count": 45
        }
      ]
    },
    {
      "cell_type": "markdown",
      "source": [
        "So, the mean validation accuracy comes out to be 74.56%\n",
        "\n",
        "<hr>"
      ],
      "metadata": {
        "id": "2fLTh0k0rM7s"
      }
    },
    {
      "cell_type": "markdown",
      "source": [
        "**v. Predict the values on the test set and build a confusion matrix**"
      ],
      "metadata": {
        "id": "GPrxXob0_NMN"
      }
    },
    {
      "cell_type": "code",
      "source": [
        "y_prob = model.predict(x_test)\n",
        "y_pred = y_prob.argmax(axis=1)\n",
        "from sklearn.metrics import accuracy_score\n",
        "from sklearn.metrics import confusion_matrix\n",
        "accuracy_score(y_test,y_pred)\n",
        "\n",
        "cm = tf.math.confusion_matrix(labels=y_test,predictions=y_pred)\n",
        "cm"
      ],
      "metadata": {
        "colab": {
          "base_uri": "https://localhost:8080/"
        },
        "id": "h5fbMtReoHIn",
        "outputId": "e42a3ede-b647-4457-ff08-6a277fdbba66"
      },
      "execution_count": 46,
      "outputs": [
        {
          "output_type": "stream",
          "name": "stdout",
          "text": [
            "66/66 [==============================] - 0s 2ms/step\n"
          ]
        },
        {
          "output_type": "execute_result",
          "data": {
            "text/plain": [
              "<tf.Tensor: shape=(2, 2), dtype=int32, numpy=\n",
              "array([[1549,    0],\n",
              "       [ 561,    0]], dtype=int32)>"
            ]
          },
          "metadata": {},
          "execution_count": 46
        }
      ]
    },
    {
      "cell_type": "code",
      "source": [
        "import seaborn as sn\n",
        "plt.figure(figsize = (10,7))\n",
        "sn.heatmap(cm, annot=True, fmt='d')\n",
        "plt.xlabel('Predicted')\n",
        "plt.ylabel('Truth')"
      ],
      "metadata": {
        "colab": {
          "base_uri": "https://localhost:8080/",
          "height": 636
        },
        "id": "6dfQ0703mT4M",
        "outputId": "9a3759a6-e776-4779-af0b-a87a4baaad91"
      },
      "execution_count": 47,
      "outputs": [
        {
          "output_type": "execute_result",
          "data": {
            "text/plain": [
              "Text(95.72222222222221, 0.5, 'Truth')"
            ]
          },
          "metadata": {},
          "execution_count": 47
        },
        {
          "output_type": "display_data",
          "data": {
            "text/plain": [
              "<Figure size 1000x700 with 2 Axes>"
            ],
            "image/png": "[encoded data removed]"
          },
          "metadata": {}
        }
      ]
    },
    {
      "cell_type": "code",
      "source": [
        "from sklearn.metrics import accuracy_score\n",
        "accuracy_score(y_test,y_pred)"
      ],
      "metadata": {
        "colab": {
          "base_uri": "https://localhost:8080/"
        },
        "id": "EmN189UToHlh",
        "outputId": "5fe391d9-f587-47d4-d85d-4d66892752b3"
      },
      "execution_count": 48,
      "outputs": [
        {
          "output_type": "execute_result",
          "data": {
            "text/plain": [
              "0.7341232227488151"
            ]
          },
          "metadata": {},
          "execution_count": 48
        }
      ]
    },
    {
      "cell_type": "markdown",
      "source": [
        "**vi. Plot the ‘Accuracy vs Epochs’ graph**"
      ],
      "metadata": {
        "id": "07rjZT9G_TKK"
      }
    },
    {
      "cell_type": "code",
      "source": [
        "plt.plot(history.history['accuracy'])\n",
        "plt.plot(history.history['val_accuracy'])"
      ],
      "metadata": {
        "colab": {
          "base_uri": "https://localhost:8080/",
          "height": 447
        },
        "id": "uZs3o-Nh_UvU",
        "outputId": "6af9aeda-65bd-4efb-92e1-53bccfc75534"
      },
      "execution_count": 49,
      "outputs": [
        {
          "output_type": "execute_result",
          "data": {
            "text/plain": [
              "[<matplotlib.lines.Line2D at 0x780314184ee0>]"
            ]
          },
          "metadata": {},
          "execution_count": 49
        },
        {
          "output_type": "display_data",
          "data": {
            "text/plain": [
              "<Figure size 640x480 with 1 Axes>"
            ],
            "image/png": "[encoded data removed]"
          },
          "metadata": {}
        }
      ]
    },
    {
      "cell_type": "markdown",
      "source": [
        "**b. Build the 2nd model using same target and feature variables:**"
      ],
      "metadata": {
        "id": "IhiW_MFZpRZx"
      }
    },
    {
      "cell_type": "markdown",
      "source": [
        "**i. Add a drop-out layer after the input layer with drop-out value of 0.3**"
      ],
      "metadata": {
        "id": "jPzY93ljpjAH"
      }
    },
    {
      "cell_type": "markdown",
      "source": [
        "**ii. Add a drop-out layer after the hidden layer with drop-out value of 0.2**"
      ],
      "metadata": {
        "id": "UTpvi5XgpmP6"
      }
    },
    {
      "cell_type": "code",
      "source": [
        "model = Sequential()\n",
        "model.add(Dense(12, input_dim=1, activation='relu'))\n",
        "model.add(Dropout(0.3))\n",
        "model.add(Dense(8, activation='relu'))\n",
        "model.add(Dropout(0.2))\n",
        "model.add(Dense(1, activation='sigmoid'))"
      ],
      "metadata": {
        "id": "AVWabr_Votpz"
      },
      "execution_count": 107,
      "outputs": []
    },
    {
      "cell_type": "markdown",
      "source": [
        "**iii. Predict the values on the test set and build a confusion matrix**"
      ],
      "metadata": {
        "id": "aqcijp6upsEJ"
      }
    },
    {
      "cell_type": "code",
      "source": [
        "model.compile(loss='binary_crossentropy', optimizer='adam', metrics=['acc'])\n",
        "hist = model.fit(x_train, y_train, epochs=150,validation_data=(x_test,y_test))"
      ],
      "metadata": {
        "colab": {
          "base_uri": "https://localhost:8080/"
        },
        "id": "FKHVI0yGpwfZ",
        "outputId": "95b22842-fc30-410d-98aa-444b028ae6b5"
      },
      "execution_count": 108,
      "outputs": [
        {
          "output_type": "stream",
          "name": "stdout",
          "text": [
            "Epoch 1/150\n",
            "154/154 [==============================] - 4s 8ms/step - loss: 0.5929 - acc: 0.7322 - val_loss: 0.5507 - val_acc: 0.7341\n",
            "Epoch 2/150\n",
            "154/154 [==============================] - 1s 5ms/step - loss: 0.5638 - acc: 0.7343 - val_loss: 0.5354 - val_acc: 0.7341\n",
            "Epoch 3/150\n",
            "154/154 [==============================] - 1s 5ms/step - loss: 0.5487 - acc: 0.7343 - val_loss: 0.5295 - val_acc: 0.7341\n",
            "Epoch 4/150\n",
            "154/154 [==============================] - 1s 5ms/step - loss: 0.5481 - acc: 0.7343 - val_loss: 0.5257 - val_acc: 0.7341\n",
            "Epoch 5/150\n",
            "154/154 [==============================] - 1s 7ms/step - loss: 0.5421 - acc: 0.7343 - val_loss: 0.5243 - val_acc: 0.7341\n",
            "Epoch 6/150\n",
            "154/154 [==============================] - 1s 7ms/step - loss: 0.5437 - acc: 0.7343 - val_loss: 0.5235 - val_acc: 0.7341\n",
            "Epoch 7/150\n",
            "154/154 [==============================] - 1s 5ms/step - loss: 0.5436 - acc: 0.7343 - val_loss: 0.5242 - val_acc: 0.7341\n",
            "Epoch 8/150\n",
            "154/154 [==============================] - 1s 4ms/step - loss: 0.5421 - acc: 0.7343 - val_loss: 0.5222 - val_acc: 0.7341\n",
            "Epoch 9/150\n",
            "154/154 [==============================] - 1s 4ms/step - loss: 0.5407 - acc: 0.7343 - val_loss: 0.5224 - val_acc: 0.7341\n",
            "Epoch 10/150\n",
            "154/154 [==============================] - 1s 4ms/step - loss: 0.5431 - acc: 0.7343 - val_loss: 0.5229 - val_acc: 0.7341\n",
            "Epoch 11/150\n",
            "154/154 [==============================] - 1s 4ms/step - loss: 0.5431 - acc: 0.7343 - val_loss: 0.5227 - val_acc: 0.7341\n",
            "Epoch 12/150\n",
            "154/154 [==============================] - 1s 4ms/step - loss: 0.5392 - acc: 0.7343 - val_loss: 0.5228 - val_acc: 0.7341\n",
            "Epoch 13/150\n",
            "154/154 [==============================] - 1s 4ms/step - loss: 0.5453 - acc: 0.7343 - val_loss: 0.5222 - val_acc: 0.7341\n",
            "Epoch 14/150\n",
            "154/154 [==============================] - 1s 4ms/step - loss: 0.5411 - acc: 0.7343 - val_loss: 0.5219 - val_acc: 0.7341\n",
            "Epoch 15/150\n",
            "154/154 [==============================] - 1s 5ms/step - loss: 0.5371 - acc: 0.7343 - val_loss: 0.5218 - val_acc: 0.7341\n",
            "Epoch 16/150\n",
            "154/154 [==============================] - 1s 7ms/step - loss: 0.5366 - acc: 0.7343 - val_loss: 0.5218 - val_acc: 0.7341\n",
            "Epoch 17/150\n",
            "154/154 [==============================] - 1s 7ms/step - loss: 0.5429 - acc: 0.7343 - val_loss: 0.5229 - val_acc: 0.7341\n",
            "Epoch 18/150\n",
            "154/154 [==============================] - 1s 5ms/step - loss: 0.5413 - acc: 0.7343 - val_loss: 0.5232 - val_acc: 0.7341\n",
            "Epoch 19/150\n",
            "154/154 [==============================] - 1s 4ms/step - loss: 0.5386 - acc: 0.7343 - val_loss: 0.5227 - val_acc: 0.7341\n",
            "Epoch 20/150\n",
            "154/154 [==============================] - 1s 4ms/step - loss: 0.5403 - acc: 0.7343 - val_loss: 0.5229 - val_acc: 0.7341\n",
            "Epoch 21/150\n",
            "154/154 [==============================] - 1s 4ms/step - loss: 0.5404 - acc: 0.7343 - val_loss: 0.5229 - val_acc: 0.7341\n",
            "Epoch 22/150\n",
            "154/154 [==============================] - 1s 4ms/step - loss: 0.5370 - acc: 0.7343 - val_loss: 0.5230 - val_acc: 0.7341\n",
            "Epoch 23/150\n",
            "154/154 [==============================] - 1s 4ms/step - loss: 0.5399 - acc: 0.7343 - val_loss: 0.5234 - val_acc: 0.7341\n",
            "Epoch 24/150\n",
            "154/154 [==============================] - 1s 4ms/step - loss: 0.5398 - acc: 0.7343 - val_loss: 0.5236 - val_acc: 0.7341\n",
            "Epoch 25/150\n",
            "154/154 [==============================] - 1s 4ms/step - loss: 0.5416 - acc: 0.7343 - val_loss: 0.5241 - val_acc: 0.7341\n",
            "Epoch 26/150\n",
            "154/154 [==============================] - 1s 4ms/step - loss: 0.5380 - acc: 0.7343 - val_loss: 0.5236 - val_acc: 0.7341\n",
            "Epoch 27/150\n",
            "154/154 [==============================] - 1s 4ms/step - loss: 0.5335 - acc: 0.7343 - val_loss: 0.5226 - val_acc: 0.7341\n",
            "Epoch 28/150\n",
            "154/154 [==============================] - 1s 4ms/step - loss: 0.5382 - acc: 0.7343 - val_loss: 0.5230 - val_acc: 0.7341\n",
            "Epoch 29/150\n",
            "154/154 [==============================] - 1s 4ms/step - loss: 0.5409 - acc: 0.7343 - val_loss: 0.5237 - val_acc: 0.7341\n",
            "Epoch 30/150\n",
            "154/154 [==============================] - 1s 4ms/step - loss: 0.5379 - acc: 0.7343 - val_loss: 0.5237 - val_acc: 0.7341\n",
            "Epoch 31/150\n",
            "154/154 [==============================] - 1s 4ms/step - loss: 0.5389 - acc: 0.7343 - val_loss: 0.5243 - val_acc: 0.7341\n",
            "Epoch 32/150\n",
            "154/154 [==============================] - 1s 5ms/step - loss: 0.5383 - acc: 0.7343 - val_loss: 0.5237 - val_acc: 0.7341\n",
            "Epoch 33/150\n",
            "154/154 [==============================] - 1s 6ms/step - loss: 0.5393 - acc: 0.7343 - val_loss: 0.5237 - val_acc: 0.7341\n",
            "Epoch 34/150\n",
            "154/154 [==============================] - 1s 6ms/step - loss: 0.5402 - acc: 0.7343 - val_loss: 0.5242 - val_acc: 0.7341\n",
            "Epoch 35/150\n",
            "154/154 [==============================] - 1s 7ms/step - loss: 0.5392 - acc: 0.7343 - val_loss: 0.5242 - val_acc: 0.7341\n",
            "Epoch 36/150\n",
            "154/154 [==============================] - 1s 4ms/step - loss: 0.5390 - acc: 0.7343 - val_loss: 0.5239 - val_acc: 0.7341\n",
            "Epoch 37/150\n",
            "154/154 [==============================] - 1s 4ms/step - loss: 0.5390 - acc: 0.7343 - val_loss: 0.5237 - val_acc: 0.7341\n",
            "Epoch 38/150\n",
            "154/154 [==============================] - 1s 5ms/step - loss: 0.5422 - acc: 0.7343 - val_loss: 0.5248 - val_acc: 0.7341\n",
            "Epoch 39/150\n",
            "154/154 [==============================] - 1s 4ms/step - loss: 0.5341 - acc: 0.7343 - val_loss: 0.5233 - val_acc: 0.7341\n",
            "Epoch 40/150\n",
            "154/154 [==============================] - 1s 4ms/step - loss: 0.5381 - acc: 0.7343 - val_loss: 0.5233 - val_acc: 0.7341\n",
            "Epoch 41/150\n",
            "154/154 [==============================] - 1s 4ms/step - loss: 0.5413 - acc: 0.7343 - val_loss: 0.5247 - val_acc: 0.7341\n",
            "Epoch 42/150\n",
            "154/154 [==============================] - 1s 4ms/step - loss: 0.5341 - acc: 0.7343 - val_loss: 0.5229 - val_acc: 0.7341\n",
            "Epoch 43/150\n",
            "154/154 [==============================] - 1s 4ms/step - loss: 0.5413 - acc: 0.7343 - val_loss: 0.5237 - val_acc: 0.7341\n",
            "Epoch 44/150\n",
            "154/154 [==============================] - 1s 4ms/step - loss: 0.5385 - acc: 0.7343 - val_loss: 0.5243 - val_acc: 0.7341\n",
            "Epoch 45/150\n",
            "154/154 [==============================] - 1s 5ms/step - loss: 0.5381 - acc: 0.7343 - val_loss: 0.5238 - val_acc: 0.7341\n",
            "Epoch 46/150\n",
            "154/154 [==============================] - 1s 4ms/step - loss: 0.5363 - acc: 0.7343 - val_loss: 0.5235 - val_acc: 0.7341\n",
            "Epoch 47/150\n",
            "154/154 [==============================] - 1s 5ms/step - loss: 0.5398 - acc: 0.7343 - val_loss: 0.5242 - val_acc: 0.7341\n",
            "Epoch 48/150\n",
            "154/154 [==============================] - 1s 8ms/step - loss: 0.5384 - acc: 0.7343 - val_loss: 0.5235 - val_acc: 0.7341\n",
            "Epoch 49/150\n",
            "154/154 [==============================] - 1s 9ms/step - loss: 0.5396 - acc: 0.7343 - val_loss: 0.5238 - val_acc: 0.7341\n",
            "Epoch 50/150\n",
            "154/154 [==============================] - 2s 11ms/step - loss: 0.5408 - acc: 0.7343 - val_loss: 0.5243 - val_acc: 0.7341\n",
            "Epoch 51/150\n",
            "154/154 [==============================] - 1s 9ms/step - loss: 0.5422 - acc: 0.7343 - val_loss: 0.5247 - val_acc: 0.7341\n",
            "Epoch 52/150\n",
            "154/154 [==============================] - 1s 8ms/step - loss: 0.5421 - acc: 0.7343 - val_loss: 0.5251 - val_acc: 0.7341\n",
            "Epoch 53/150\n",
            "154/154 [==============================] - 1s 5ms/step - loss: 0.5337 - acc: 0.7343 - val_loss: 0.5236 - val_acc: 0.7341\n",
            "Epoch 54/150\n",
            "154/154 [==============================] - 1s 4ms/step - loss: 0.5406 - acc: 0.7343 - val_loss: 0.5239 - val_acc: 0.7341\n",
            "Epoch 55/150\n",
            "154/154 [==============================] - 1s 4ms/step - loss: 0.5409 - acc: 0.7343 - val_loss: 0.5245 - val_acc: 0.7341\n",
            "Epoch 56/150\n",
            "154/154 [==============================] - 1s 4ms/step - loss: 0.5397 - acc: 0.7343 - val_loss: 0.5244 - val_acc: 0.7341\n",
            "Epoch 57/150\n",
            "154/154 [==============================] - 1s 4ms/step - loss: 0.5366 - acc: 0.7343 - val_loss: 0.5240 - val_acc: 0.7341\n",
            "Epoch 58/150\n",
            "154/154 [==============================] - 1s 4ms/step - loss: 0.5364 - acc: 0.7343 - val_loss: 0.5231 - val_acc: 0.7341\n",
            "Epoch 59/150\n",
            "154/154 [==============================] - 1s 5ms/step - loss: 0.5377 - acc: 0.7343 - val_loss: 0.5233 - val_acc: 0.7341\n",
            "Epoch 60/150\n",
            "154/154 [==============================] - 1s 4ms/step - loss: 0.5363 - acc: 0.7343 - val_loss: 0.5235 - val_acc: 0.7341\n",
            "Epoch 61/150\n",
            "154/154 [==============================] - 1s 4ms/step - loss: 0.5407 - acc: 0.7343 - val_loss: 0.5239 - val_acc: 0.7341\n",
            "Epoch 62/150\n",
            "154/154 [==============================] - 1s 4ms/step - loss: 0.5340 - acc: 0.7343 - val_loss: 0.5229 - val_acc: 0.7341\n",
            "Epoch 63/150\n",
            "154/154 [==============================] - 1s 4ms/step - loss: 0.5408 - acc: 0.7343 - val_loss: 0.5237 - val_acc: 0.7341\n",
            "Epoch 64/150\n",
            "154/154 [==============================] - 1s 4ms/step - loss: 0.5377 - acc: 0.7343 - val_loss: 0.5235 - val_acc: 0.7341\n",
            "Epoch 65/150\n",
            "154/154 [==============================] - 1s 4ms/step - loss: 0.5397 - acc: 0.7343 - val_loss: 0.5241 - val_acc: 0.7341\n",
            "Epoch 66/150\n",
            "154/154 [==============================] - 1s 6ms/step - loss: 0.5373 - acc: 0.7343 - val_loss: 0.5232 - val_acc: 0.7341\n",
            "Epoch 67/150\n",
            "154/154 [==============================] - 1s 6ms/step - loss: 0.5393 - acc: 0.7343 - val_loss: 0.5237 - val_acc: 0.7341\n",
            "Epoch 68/150\n",
            "154/154 [==============================] - 1s 7ms/step - loss: 0.5409 - acc: 0.7343 - val_loss: 0.5240 - val_acc: 0.7341\n",
            "Epoch 69/150\n",
            "154/154 [==============================] - 1s 4ms/step - loss: 0.5372 - acc: 0.7343 - val_loss: 0.5241 - val_acc: 0.7341\n",
            "Epoch 70/150\n",
            "154/154 [==============================] - 1s 4ms/step - loss: 0.5346 - acc: 0.7343 - val_loss: 0.5230 - val_acc: 0.7341\n",
            "Epoch 71/150\n",
            "154/154 [==============================] - 1s 5ms/step - loss: 0.5404 - acc: 0.7343 - val_loss: 0.5240 - val_acc: 0.7341\n",
            "Epoch 72/150\n",
            "154/154 [==============================] - 1s 4ms/step - loss: 0.5349 - acc: 0.7343 - val_loss: 0.5230 - val_acc: 0.7341\n",
            "Epoch 73/150\n",
            "154/154 [==============================] - 1s 4ms/step - loss: 0.5413 - acc: 0.7343 - val_loss: 0.5238 - val_acc: 0.7341\n",
            "Epoch 74/150\n",
            "154/154 [==============================] - 1s 4ms/step - loss: 0.5359 - acc: 0.7343 - val_loss: 0.5235 - val_acc: 0.7341\n",
            "Epoch 75/150\n",
            "154/154 [==============================] - 1s 4ms/step - loss: 0.5386 - acc: 0.7343 - val_loss: 0.5237 - val_acc: 0.7341\n",
            "Epoch 76/150\n",
            "154/154 [==============================] - 1s 4ms/step - loss: 0.5370 - acc: 0.7343 - val_loss: 0.5234 - val_acc: 0.7341\n",
            "Epoch 77/150\n",
            "154/154 [==============================] - 1s 5ms/step - loss: 0.5360 - acc: 0.7343 - val_loss: 0.5231 - val_acc: 0.7341\n",
            "Epoch 78/150\n",
            "154/154 [==============================] - 1s 4ms/step - loss: 0.5414 - acc: 0.7343 - val_loss: 0.5245 - val_acc: 0.7341\n",
            "Epoch 79/150\n",
            "154/154 [==============================] - 1s 4ms/step - loss: 0.5345 - acc: 0.7343 - val_loss: 0.5230 - val_acc: 0.7341\n",
            "Epoch 80/150\n",
            "154/154 [==============================] - 1s 5ms/step - loss: 0.5328 - acc: 0.7343 - val_loss: 0.5226 - val_acc: 0.7341\n",
            "Epoch 81/150\n",
            "154/154 [==============================] - 1s 5ms/step - loss: 0.5393 - acc: 0.7343 - val_loss: 0.5230 - val_acc: 0.7341\n",
            "Epoch 82/150\n",
            "154/154 [==============================] - 1s 4ms/step - loss: 0.5385 - acc: 0.7343 - val_loss: 0.5232 - val_acc: 0.7341\n",
            "Epoch 83/150\n",
            "154/154 [==============================] - 1s 6ms/step - loss: 0.5407 - acc: 0.7343 - val_loss: 0.5236 - val_acc: 0.7341\n",
            "Epoch 84/150\n",
            "154/154 [==============================] - 1s 6ms/step - loss: 0.5406 - acc: 0.7343 - val_loss: 0.5246 - val_acc: 0.7341\n",
            "Epoch 85/150\n",
            "154/154 [==============================] - 1s 6ms/step - loss: 0.5327 - acc: 0.7343 - val_loss: 0.5232 - val_acc: 0.7341\n",
            "Epoch 86/150\n",
            "154/154 [==============================] - 1s 6ms/step - loss: 0.5392 - acc: 0.7343 - val_loss: 0.5233 - val_acc: 0.7341\n",
            "Epoch 87/150\n",
            "154/154 [==============================] - 1s 5ms/step - loss: 0.5398 - acc: 0.7343 - val_loss: 0.5236 - val_acc: 0.7341\n",
            "Epoch 88/150\n",
            "154/154 [==============================] - 1s 4ms/step - loss: 0.5346 - acc: 0.7343 - val_loss: 0.5230 - val_acc: 0.7341\n",
            "Epoch 89/150\n",
            "154/154 [==============================] - 1s 4ms/step - loss: 0.5391 - acc: 0.7343 - val_loss: 0.5235 - val_acc: 0.7341\n",
            "Epoch 90/150\n",
            "154/154 [==============================] - 1s 4ms/step - loss: 0.5392 - acc: 0.7343 - val_loss: 0.5237 - val_acc: 0.7341\n",
            "Epoch 91/150\n",
            "154/154 [==============================] - 1s 4ms/step - loss: 0.5354 - acc: 0.7343 - val_loss: 0.5231 - val_acc: 0.7341\n",
            "Epoch 92/150\n",
            "154/154 [==============================] - 1s 4ms/step - loss: 0.5380 - acc: 0.7343 - val_loss: 0.5235 - val_acc: 0.7341\n",
            "Epoch 93/150\n",
            "154/154 [==============================] - 1s 4ms/step - loss: 0.5368 - acc: 0.7343 - val_loss: 0.5235 - val_acc: 0.7341\n",
            "Epoch 94/150\n",
            "154/154 [==============================] - 1s 4ms/step - loss: 0.5346 - acc: 0.7343 - val_loss: 0.5227 - val_acc: 0.7341\n",
            "Epoch 95/150\n",
            "154/154 [==============================] - 1s 4ms/step - loss: 0.5387 - acc: 0.7343 - val_loss: 0.5239 - val_acc: 0.7341\n",
            "Epoch 96/150\n",
            "154/154 [==============================] - 1s 4ms/step - loss: 0.5367 - acc: 0.7343 - val_loss: 0.5235 - val_acc: 0.7341\n",
            "Epoch 97/150\n",
            "154/154 [==============================] - 1s 4ms/step - loss: 0.5410 - acc: 0.7343 - val_loss: 0.5241 - val_acc: 0.7341\n",
            "Epoch 98/150\n",
            "154/154 [==============================] - 1s 4ms/step - loss: 0.5397 - acc: 0.7343 - val_loss: 0.5240 - val_acc: 0.7341\n",
            "Epoch 99/150\n",
            "154/154 [==============================] - 1s 4ms/step - loss: 0.5419 - acc: 0.7343 - val_loss: 0.5241 - val_acc: 0.7341\n",
            "Epoch 100/150\n",
            "154/154 [==============================] - 1s 4ms/step - loss: 0.5361 - acc: 0.7343 - val_loss: 0.5233 - val_acc: 0.7341\n",
            "Epoch 101/150\n",
            "154/154 [==============================] - 1s 6ms/step - loss: 0.5366 - acc: 0.7343 - val_loss: 0.5235 - val_acc: 0.7341\n",
            "Epoch 102/150\n",
            "154/154 [==============================] - 1s 6ms/step - loss: 0.5388 - acc: 0.7343 - val_loss: 0.5239 - val_acc: 0.7341\n",
            "Epoch 103/150\n",
            "154/154 [==============================] - 1s 7ms/step - loss: 0.5373 - acc: 0.7343 - val_loss: 0.5237 - val_acc: 0.7341\n",
            "Epoch 104/150\n",
            "154/154 [==============================] - 1s 5ms/step - loss: 0.5401 - acc: 0.7343 - val_loss: 0.5235 - val_acc: 0.7341\n",
            "Epoch 105/150\n",
            "154/154 [==============================] - 1s 4ms/step - loss: 0.5394 - acc: 0.7343 - val_loss: 0.5237 - val_acc: 0.7341\n",
            "Epoch 106/150\n",
            "154/154 [==============================] - 1s 5ms/step - loss: 0.5379 - acc: 0.7343 - val_loss: 0.5236 - val_acc: 0.7341\n",
            "Epoch 107/150\n",
            "154/154 [==============================] - 1s 4ms/step - loss: 0.5363 - acc: 0.7343 - val_loss: 0.5234 - val_acc: 0.7341\n",
            "Epoch 108/150\n",
            "154/154 [==============================] - 1s 4ms/step - loss: 0.5378 - acc: 0.7343 - val_loss: 0.5230 - val_acc: 0.7341\n",
            "Epoch 109/150\n",
            "154/154 [==============================] - 1s 4ms/step - loss: 0.5346 - acc: 0.7343 - val_loss: 0.5228 - val_acc: 0.7341\n",
            "Epoch 110/150\n",
            "154/154 [==============================] - 1s 4ms/step - loss: 0.5377 - acc: 0.7343 - val_loss: 0.5225 - val_acc: 0.7341\n",
            "Epoch 111/150\n",
            "154/154 [==============================] - 1s 4ms/step - loss: 0.5364 - acc: 0.7343 - val_loss: 0.5228 - val_acc: 0.7341\n",
            "Epoch 112/150\n",
            "154/154 [==============================] - 1s 7ms/step - loss: 0.5385 - acc: 0.7343 - val_loss: 0.5231 - val_acc: 0.7341\n",
            "Epoch 113/150\n",
            "154/154 [==============================] - 1s 8ms/step - loss: 0.5399 - acc: 0.7343 - val_loss: 0.5234 - val_acc: 0.7341\n",
            "Epoch 114/150\n",
            "154/154 [==============================] - 1s 7ms/step - loss: 0.5376 - acc: 0.7343 - val_loss: 0.5230 - val_acc: 0.7341\n",
            "Epoch 115/150\n",
            "154/154 [==============================] - 1s 6ms/step - loss: 0.5393 - acc: 0.7343 - val_loss: 0.5233 - val_acc: 0.7341\n",
            "Epoch 116/150\n",
            "154/154 [==============================] - 1s 10ms/step - loss: 0.5370 - acc: 0.7343 - val_loss: 0.5232 - val_acc: 0.7341\n",
            "Epoch 117/150\n",
            "154/154 [==============================] - 1s 9ms/step - loss: 0.5434 - acc: 0.7343 - val_loss: 0.5238 - val_acc: 0.7341\n",
            "Epoch 118/150\n",
            "154/154 [==============================] - 2s 10ms/step - loss: 0.5374 - acc: 0.7343 - val_loss: 0.5236 - val_acc: 0.7341\n",
            "Epoch 119/150\n",
            "154/154 [==============================] - 2s 10ms/step - loss: 0.5391 - acc: 0.7343 - val_loss: 0.5236 - val_acc: 0.7341\n",
            "Epoch 120/150\n",
            "154/154 [==============================] - 1s 8ms/step - loss: 0.5357 - acc: 0.7343 - val_loss: 0.5235 - val_acc: 0.7341\n",
            "Epoch 121/150\n",
            "154/154 [==============================] - 1s 8ms/step - loss: 0.5375 - acc: 0.7343 - val_loss: 0.5233 - val_acc: 0.7341\n",
            "Epoch 122/150\n",
            "154/154 [==============================] - 1s 8ms/step - loss: 0.5416 - acc: 0.7343 - val_loss: 0.5247 - val_acc: 0.7341\n",
            "Epoch 123/150\n",
            "154/154 [==============================] - 1s 7ms/step - loss: 0.5374 - acc: 0.7343 - val_loss: 0.5239 - val_acc: 0.7341\n",
            "Epoch 124/150\n",
            "154/154 [==============================] - 1s 5ms/step - loss: 0.5383 - acc: 0.7343 - val_loss: 0.5234 - val_acc: 0.7341\n",
            "Epoch 125/150\n",
            "154/154 [==============================] - 1s 4ms/step - loss: 0.5381 - acc: 0.7343 - val_loss: 0.5231 - val_acc: 0.7341\n",
            "Epoch 126/150\n",
            "154/154 [==============================] - 1s 4ms/step - loss: 0.5376 - acc: 0.7343 - val_loss: 0.5228 - val_acc: 0.7341\n",
            "Epoch 127/150\n",
            "154/154 [==============================] - 1s 4ms/step - loss: 0.5418 - acc: 0.7343 - val_loss: 0.5241 - val_acc: 0.7341\n",
            "Epoch 128/150\n",
            "154/154 [==============================] - 1s 5ms/step - loss: 0.5416 - acc: 0.7343 - val_loss: 0.5242 - val_acc: 0.7341\n",
            "Epoch 129/150\n",
            "154/154 [==============================] - 1s 6ms/step - loss: 0.5363 - acc: 0.7343 - val_loss: 0.5232 - val_acc: 0.7341\n",
            "Epoch 130/150\n",
            "154/154 [==============================] - 1s 7ms/step - loss: 0.5377 - acc: 0.7343 - val_loss: 0.5239 - val_acc: 0.7341\n",
            "Epoch 131/150\n",
            "154/154 [==============================] - 1s 7ms/step - loss: 0.5376 - acc: 0.7343 - val_loss: 0.5232 - val_acc: 0.7341\n",
            "Epoch 132/150\n",
            "154/154 [==============================] - 1s 5ms/step - loss: 0.5378 - acc: 0.7343 - val_loss: 0.5228 - val_acc: 0.7341\n",
            "Epoch 133/150\n",
            "154/154 [==============================] - 1s 4ms/step - loss: 0.5361 - acc: 0.7343 - val_loss: 0.5227 - val_acc: 0.7341\n",
            "Epoch 134/150\n",
            "154/154 [==============================] - 1s 4ms/step - loss: 0.5371 - acc: 0.7343 - val_loss: 0.5235 - val_acc: 0.7341\n",
            "Epoch 135/150\n",
            "154/154 [==============================] - 1s 4ms/step - loss: 0.5395 - acc: 0.7343 - val_loss: 0.5236 - val_acc: 0.7341\n",
            "Epoch 136/150\n",
            "154/154 [==============================] - 1s 4ms/step - loss: 0.5393 - acc: 0.7343 - val_loss: 0.5235 - val_acc: 0.7341\n",
            "Epoch 137/150\n",
            "154/154 [==============================] - 1s 5ms/step - loss: 0.5361 - acc: 0.7343 - val_loss: 0.5230 - val_acc: 0.7341\n",
            "Epoch 138/150\n",
            "154/154 [==============================] - 1s 4ms/step - loss: 0.5399 - acc: 0.7343 - val_loss: 0.5237 - val_acc: 0.7341\n",
            "Epoch 139/150\n",
            "154/154 [==============================] - 1s 4ms/step - loss: 0.5394 - acc: 0.7343 - val_loss: 0.5236 - val_acc: 0.7341\n",
            "Epoch 140/150\n",
            "154/154 [==============================] - 1s 4ms/step - loss: 0.5393 - acc: 0.7343 - val_loss: 0.5232 - val_acc: 0.7341\n",
            "Epoch 141/150\n",
            "154/154 [==============================] - 1s 4ms/step - loss: 0.5370 - acc: 0.7343 - val_loss: 0.5230 - val_acc: 0.7341\n",
            "Epoch 142/150\n",
            "154/154 [==============================] - 1s 4ms/step - loss: 0.5377 - acc: 0.7343 - val_loss: 0.5233 - val_acc: 0.7341\n",
            "Epoch 143/150\n",
            "154/154 [==============================] - 1s 4ms/step - loss: 0.5389 - acc: 0.7343 - val_loss: 0.5233 - val_acc: 0.7341\n",
            "Epoch 144/150\n",
            "154/154 [==============================] - 1s 4ms/step - loss: 0.5389 - acc: 0.7343 - val_loss: 0.5239 - val_acc: 0.7341\n",
            "Epoch 145/150\n",
            "154/154 [==============================] - 1s 4ms/step - loss: 0.5408 - acc: 0.7343 - val_loss: 0.5240 - val_acc: 0.7341\n",
            "Epoch 146/150\n",
            "154/154 [==============================] - 1s 4ms/step - loss: 0.5398 - acc: 0.7343 - val_loss: 0.5240 - val_acc: 0.7341\n",
            "Epoch 147/150\n",
            "154/154 [==============================] - 1s 7ms/step - loss: 0.5405 - acc: 0.7343 - val_loss: 0.5237 - val_acc: 0.7341\n",
            "Epoch 148/150\n",
            "154/154 [==============================] - 1s 7ms/step - loss: 0.5406 - acc: 0.7343 - val_loss: 0.5246 - val_acc: 0.7341\n",
            "Epoch 149/150\n",
            "154/154 [==============================] - 1s 5ms/step - loss: 0.5402 - acc: 0.7343 - val_loss: 0.5243 - val_acc: 0.7341\n",
            "Epoch 150/150\n",
            "154/154 [==============================] - 1s 4ms/step - loss: 0.5358 - acc: 0.7343 - val_loss: 0.5231 - val_acc: 0.7341\n"
          ]
        }
      ]
    },
    {
      "cell_type": "markdown",
      "source": [
        "***mean validation accuracy***"
      ],
      "metadata": {
        "id": "BC7XKdThbQi1"
      }
    },
    {
      "cell_type": "code",
      "source": [
        "np.mean(model.history.history['val_acc'])"
      ],
      "metadata": {
        "colab": {
          "base_uri": "https://localhost:8080/"
        },
        "id": "jQuCHQmxbT50",
        "outputId": "f730a90c-5c27-41d7-cd22-adc7fa3edc2d"
      },
      "execution_count": 118,
      "outputs": [
        {
          "output_type": "execute_result",
          "data": {
            "text/plain": [
              "0.7341232299804688"
            ]
          },
          "metadata": {},
          "execution_count": 118
        }
      ]
    },
    {
      "cell_type": "markdown",
      "source": [
        "So, the mean validation accuracy comes out to be 73.41%\n",
        "\n",
        "<hr>"
      ],
      "metadata": {
        "id": "3x7937VvrDgJ"
      }
    },
    {
      "cell_type": "code",
      "source": [
        "y_predictions = np.argmax(model.predict(x_test),axis=1)\n",
        "from sklearn.metrics import confusion_matrix\n",
        "cm1 = confusion_matrix(y_test,y_predictions)\n",
        "cm1"
      ],
      "metadata": {
        "colab": {
          "base_uri": "https://localhost:8080/"
        },
        "id": "HRAkqohyprS-",
        "outputId": "16973159-0d16-4ce0-f658-ecdfd246c606"
      },
      "execution_count": 119,
      "outputs": [
        {
          "output_type": "stream",
          "name": "stdout",
          "text": [
            "66/66 [==============================] - 0s 4ms/step\n"
          ]
        },
        {
          "output_type": "execute_result",
          "data": {
            "text/plain": [
              "array([[1549,    0],\n",
              "       [ 561,    0]])"
            ]
          },
          "metadata": {},
          "execution_count": 119
        }
      ]
    },
    {
      "cell_type": "code",
      "source": [
        "import seaborn as sn\n",
        "plt.figure(figsize = (10,7))\n",
        "sn.heatmap(cm1, annot=True, fmt='d')\n",
        "plt.xlabel('Predicted')\n",
        "plt.ylabel('Truth')"
      ],
      "metadata": {
        "colab": {
          "base_uri": "https://localhost:8080/",
          "height": 636
        },
        "id": "ZZB6JEqMyREZ",
        "outputId": "f770a38c-3af5-4a47-cbb6-7582b0d52761"
      },
      "execution_count": 120,
      "outputs": [
        {
          "output_type": "execute_result",
          "data": {
            "text/plain": [
              "Text(95.72222222222221, 0.5, 'Truth')"
            ]
          },
          "metadata": {},
          "execution_count": 120
        },
        {
          "output_type": "display_data",
          "data": {
            "text/plain": [
              "<Figure size 1000x700 with 2 Axes>"
            ],
            "image/png": "[encoded data removed]"
          },
          "metadata": {}
        }
      ]
    },
    {
      "cell_type": "code",
      "source": [
        "from sklearn.metrics import accuracy_score\n",
        "accuracy_score(y_test,y_predictions)"
      ],
      "metadata": {
        "id": "KM2Yk2pvu5Gw",
        "colab": {
          "base_uri": "https://localhost:8080/"
        },
        "outputId": "9b76ed7b-7cca-4c5b-f72a-e21436b35a6e"
      },
      "execution_count": 121,
      "outputs": [
        {
          "output_type": "execute_result",
          "data": {
            "text/plain": [
              "0.7341232227488151"
            ]
          },
          "metadata": {},
          "execution_count": 121
        }
      ]
    },
    {
      "cell_type": "markdown",
      "source": [
        "**iv. Plot the ‘Accuracy vs Epochs’ graph**"
      ],
      "metadata": {
        "id": "0kGt6-7QpxPF"
      }
    },
    {
      "cell_type": "code",
      "source": [
        "plt.ylim(0.72,0.75)\n",
        "plt.plot(hist.history['acc'],color='r')\n",
        "plt.plot(hist.history['val_acc'],color='g')"
      ],
      "metadata": {
        "colab": {
          "base_uri": "https://localhost:8080/",
          "height": 452
        },
        "id": "OZdJaZO1pI6C",
        "outputId": "1a02bdf8-7004-4d47-f3c1-f6e5b72fa989"
      },
      "execution_count": 129,
      "outputs": [
        {
          "output_type": "execute_result",
          "data": {
            "text/plain": [
              "[<matplotlib.lines.Line2D at 0x7803002eb280>]"
            ]
          },
          "metadata": {},
          "execution_count": 129
        },
        {
          "output_type": "display_data",
          "data": {
            "text/plain": [
              "<Figure size 640x480 with 1 Axes>"
            ],
            "image/png": "[encoded data removed]"
          },
          "metadata": {}
        }
      ]
    },
    {
      "cell_type": "markdown",
      "source": [
        "### **c. Build the 3rd model using ‘Tenure’, ’Monthly Charges’ & ‘Total Charges’ as the features and ‘Churn’ as the dependent/target column:**"
      ],
      "metadata": {
        "id": "4lQNW_gH_Jgu"
      }
    },
    {
      "cell_type": "code",
      "source": [
        "X=df2[['MonthlyCharges','tenure','TotalCharges']]#Features\n",
        "Y=df2[['Churn']]#Target"
      ],
      "metadata": {
        "id": "V2UbGqSaAAcX"
      },
      "execution_count": 50,
      "outputs": []
    },
    {
      "cell_type": "code",
      "source": [
        "from sklearn.model_selection import train_test_split\n",
        "X_train,X_test,Y_train,Y_test = train_test_split(X,Y,test_size=0.30,random_state=42)"
      ],
      "metadata": {
        "id": "mMQh_oltAQhw"
      },
      "execution_count": 51,
      "outputs": []
    },
    {
      "cell_type": "markdown",
      "source": [
        "**i. The visible/input layer should have 12 nodes with ‘Relu’ as activation function.**"
      ],
      "metadata": {
        "id": "479jGAqH_S8x"
      }
    },
    {
      "cell_type": "markdown",
      "source": [
        "**ii. This model would have 1 hidden layer with 8 nodes and ‘Relu’ as activation function**"
      ],
      "metadata": {
        "id": "PlpQjKIq_Zgr"
      }
    },
    {
      "cell_type": "code",
      "source": [
        "model = Sequential()\n",
        "model.add(Dense(12, input_dim=3, activation='relu'))\n",
        "model.add(Dense(8, activation='relu'))\n",
        "model.add(Dense(1, activation='sigmoid'))"
      ],
      "metadata": {
        "id": "rJgREOAGATzo"
      },
      "execution_count": 68,
      "outputs": []
    },
    {
      "cell_type": "markdown",
      "source": [
        "**iii. Use ‘Adam’ as the optimization algorithm**"
      ],
      "metadata": {
        "id": "JTkyYr6h_bRG"
      }
    },
    {
      "cell_type": "code",
      "source": [
        "model.compile(loss='binary_crossentropy', optimizer='adam', metrics=['acc'])"
      ],
      "metadata": {
        "id": "QQsOaQ0VAYFG"
      },
      "execution_count": 69,
      "outputs": []
    },
    {
      "cell_type": "markdown",
      "source": [
        "**iv. Fit the model on the train set, with number of epochs to be 150**"
      ],
      "metadata": {
        "id": "ZIimKhMk_a_Y"
      }
    },
    {
      "cell_type": "code",
      "source": [
        "History = model.fit(X_train, Y_train, epochs=150,validation_data=(X_test,Y_test))"
      ],
      "metadata": {
        "colab": {
          "base_uri": "https://localhost:8080/"
        },
        "id": "HVinWVKGAijL",
        "outputId": "5a79a6f8-af28-490f-ae08-7dca373d52af"
      },
      "execution_count": 87,
      "outputs": [
        {
          "output_type": "stream",
          "name": "stdout",
          "text": [
            "Epoch 1/150\n",
            "154/154 [==============================] - 1s 8ms/step - loss: 0.4443 - acc: 0.7909 - val_loss: 0.4606 - val_acc: 0.7758\n",
            "Epoch 2/150\n",
            "154/154 [==============================] - 1s 6ms/step - loss: 0.4452 - acc: 0.7897 - val_loss: 0.4593 - val_acc: 0.7829\n",
            "Epoch 3/150\n",
            "154/154 [==============================] - 1s 7ms/step - loss: 0.4438 - acc: 0.7903 - val_loss: 0.4650 - val_acc: 0.7806\n",
            "Epoch 4/150\n",
            "154/154 [==============================] - 1s 4ms/step - loss: 0.4447 - acc: 0.7883 - val_loss: 0.4607 - val_acc: 0.7754\n",
            "Epoch 5/150\n",
            "154/154 [==============================] - 1s 4ms/step - loss: 0.4443 - acc: 0.7915 - val_loss: 0.4611 - val_acc: 0.7796\n",
            "Epoch 6/150\n",
            "154/154 [==============================] - 1s 6ms/step - loss: 0.4438 - acc: 0.7938 - val_loss: 0.4595 - val_acc: 0.7796\n",
            "Epoch 7/150\n",
            "154/154 [==============================] - 1s 7ms/step - loss: 0.4442 - acc: 0.7891 - val_loss: 0.4594 - val_acc: 0.7829\n",
            "Epoch 8/150\n",
            "154/154 [==============================] - 1s 7ms/step - loss: 0.4443 - acc: 0.7922 - val_loss: 0.4593 - val_acc: 0.7801\n",
            "Epoch 9/150\n",
            "154/154 [==============================] - 1s 5ms/step - loss: 0.4435 - acc: 0.7891 - val_loss: 0.4605 - val_acc: 0.7735\n",
            "Epoch 10/150\n",
            "154/154 [==============================] - 1s 4ms/step - loss: 0.4443 - acc: 0.7905 - val_loss: 0.4592 - val_acc: 0.7834\n",
            "Epoch 11/150\n",
            "154/154 [==============================] - 1s 4ms/step - loss: 0.4445 - acc: 0.7934 - val_loss: 0.4595 - val_acc: 0.7801\n",
            "Epoch 12/150\n",
            "154/154 [==============================] - 1s 4ms/step - loss: 0.4446 - acc: 0.7899 - val_loss: 0.4595 - val_acc: 0.7839\n",
            "Epoch 13/150\n",
            "154/154 [==============================] - 1s 4ms/step - loss: 0.4438 - acc: 0.7934 - val_loss: 0.4594 - val_acc: 0.7839\n",
            "Epoch 14/150\n",
            "154/154 [==============================] - 1s 4ms/step - loss: 0.4436 - acc: 0.7893 - val_loss: 0.4613 - val_acc: 0.7777\n",
            "Epoch 15/150\n",
            "154/154 [==============================] - 1s 4ms/step - loss: 0.4440 - acc: 0.7922 - val_loss: 0.4591 - val_acc: 0.7815\n",
            "Epoch 16/150\n",
            "154/154 [==============================] - 1s 4ms/step - loss: 0.4449 - acc: 0.7918 - val_loss: 0.4596 - val_acc: 0.7787\n",
            "Epoch 17/150\n",
            "154/154 [==============================] - 1s 4ms/step - loss: 0.4438 - acc: 0.7903 - val_loss: 0.4603 - val_acc: 0.7749\n",
            "Epoch 18/150\n",
            "154/154 [==============================] - 1s 4ms/step - loss: 0.4440 - acc: 0.7938 - val_loss: 0.4595 - val_acc: 0.7787\n",
            "Epoch 19/150\n",
            "154/154 [==============================] - 1s 4ms/step - loss: 0.4441 - acc: 0.7915 - val_loss: 0.4599 - val_acc: 0.7777\n",
            "Epoch 20/150\n",
            "154/154 [==============================] - 1s 4ms/step - loss: 0.4436 - acc: 0.7934 - val_loss: 0.4593 - val_acc: 0.7777\n",
            "Epoch 21/150\n",
            "154/154 [==============================] - 1s 4ms/step - loss: 0.4437 - acc: 0.7920 - val_loss: 0.4595 - val_acc: 0.7806\n",
            "Epoch 22/150\n",
            "154/154 [==============================] - 1s 4ms/step - loss: 0.4430 - acc: 0.7909 - val_loss: 0.4623 - val_acc: 0.7754\n",
            "Epoch 23/150\n",
            "154/154 [==============================] - 1s 4ms/step - loss: 0.4441 - acc: 0.7891 - val_loss: 0.4610 - val_acc: 0.7773\n",
            "Epoch 24/150\n",
            "154/154 [==============================] - 1s 5ms/step - loss: 0.4429 - acc: 0.7928 - val_loss: 0.4600 - val_acc: 0.7844\n",
            "Epoch 25/150\n",
            "154/154 [==============================] - 1s 6ms/step - loss: 0.4439 - acc: 0.7915 - val_loss: 0.4593 - val_acc: 0.7777\n",
            "Epoch 26/150\n",
            "154/154 [==============================] - 1s 7ms/step - loss: 0.4432 - acc: 0.7901 - val_loss: 0.4595 - val_acc: 0.7782\n",
            "Epoch 27/150\n",
            "154/154 [==============================] - 1s 5ms/step - loss: 0.4431 - acc: 0.7911 - val_loss: 0.4597 - val_acc: 0.7777\n",
            "Epoch 28/150\n",
            "154/154 [==============================] - 1s 4ms/step - loss: 0.4437 - acc: 0.7928 - val_loss: 0.4611 - val_acc: 0.7801\n",
            "Epoch 29/150\n",
            "154/154 [==============================] - 1s 4ms/step - loss: 0.4435 - acc: 0.7897 - val_loss: 0.4604 - val_acc: 0.7754\n",
            "Epoch 30/150\n",
            "154/154 [==============================] - 1s 4ms/step - loss: 0.4440 - acc: 0.7915 - val_loss: 0.4591 - val_acc: 0.7863\n",
            "Epoch 31/150\n",
            "154/154 [==============================] - 1s 4ms/step - loss: 0.4434 - acc: 0.7928 - val_loss: 0.4591 - val_acc: 0.7839\n",
            "Epoch 32/150\n",
            "154/154 [==============================] - 1s 4ms/step - loss: 0.4443 - acc: 0.7926 - val_loss: 0.4600 - val_acc: 0.7754\n",
            "Epoch 33/150\n",
            "154/154 [==============================] - 1s 4ms/step - loss: 0.4433 - acc: 0.7915 - val_loss: 0.4643 - val_acc: 0.7730\n",
            "Epoch 34/150\n",
            "154/154 [==============================] - 1s 4ms/step - loss: 0.4446 - acc: 0.7920 - val_loss: 0.4593 - val_acc: 0.7815\n",
            "Epoch 35/150\n",
            "154/154 [==============================] - 1s 4ms/step - loss: 0.4432 - acc: 0.7911 - val_loss: 0.4592 - val_acc: 0.7801\n",
            "Epoch 36/150\n",
            "154/154 [==============================] - 1s 4ms/step - loss: 0.4436 - acc: 0.7887 - val_loss: 0.4589 - val_acc: 0.7844\n",
            "Epoch 37/150\n",
            "154/154 [==============================] - 1s 4ms/step - loss: 0.4440 - acc: 0.7897 - val_loss: 0.4617 - val_acc: 0.7806\n",
            "Epoch 38/150\n",
            "154/154 [==============================] - 1s 4ms/step - loss: 0.4430 - acc: 0.7897 - val_loss: 0.4590 - val_acc: 0.7858\n",
            "Epoch 39/150\n",
            "154/154 [==============================] - 1s 4ms/step - loss: 0.4437 - acc: 0.7926 - val_loss: 0.4595 - val_acc: 0.7791\n",
            "Epoch 40/150\n",
            "154/154 [==============================] - 1s 4ms/step - loss: 0.4439 - acc: 0.7915 - val_loss: 0.4591 - val_acc: 0.7787\n",
            "Epoch 41/150\n",
            "154/154 [==============================] - 1s 4ms/step - loss: 0.4432 - acc: 0.7913 - val_loss: 0.4594 - val_acc: 0.7787\n",
            "Epoch 42/150\n",
            "154/154 [==============================] - 1s 4ms/step - loss: 0.4440 - acc: 0.7909 - val_loss: 0.4594 - val_acc: 0.7810\n",
            "Epoch 43/150\n",
            "154/154 [==============================] - 1s 6ms/step - loss: 0.4433 - acc: 0.7911 - val_loss: 0.4598 - val_acc: 0.7810\n",
            "Epoch 44/150\n",
            "154/154 [==============================] - 1s 7ms/step - loss: 0.4443 - acc: 0.7891 - val_loss: 0.4589 - val_acc: 0.7844\n",
            "Epoch 45/150\n",
            "154/154 [==============================] - 1s 6ms/step - loss: 0.4432 - acc: 0.7893 - val_loss: 0.4618 - val_acc: 0.7739\n",
            "Epoch 46/150\n",
            "154/154 [==============================] - 1s 4ms/step - loss: 0.4436 - acc: 0.7909 - val_loss: 0.4588 - val_acc: 0.7839\n",
            "Epoch 47/150\n",
            "154/154 [==============================] - 1s 4ms/step - loss: 0.4436 - acc: 0.7903 - val_loss: 0.4591 - val_acc: 0.7791\n",
            "Epoch 48/150\n",
            "154/154 [==============================] - 1s 4ms/step - loss: 0.4435 - acc: 0.7938 - val_loss: 0.4597 - val_acc: 0.7749\n",
            "Epoch 49/150\n",
            "154/154 [==============================] - 1s 4ms/step - loss: 0.4436 - acc: 0.7932 - val_loss: 0.4592 - val_acc: 0.7791\n",
            "Epoch 50/150\n",
            "154/154 [==============================] - 1s 4ms/step - loss: 0.4433 - acc: 0.7930 - val_loss: 0.4594 - val_acc: 0.7773\n",
            "Epoch 51/150\n",
            "154/154 [==============================] - 1s 4ms/step - loss: 0.4434 - acc: 0.7928 - val_loss: 0.4598 - val_acc: 0.7768\n",
            "Epoch 52/150\n",
            "154/154 [==============================] - 1s 4ms/step - loss: 0.4436 - acc: 0.7893 - val_loss: 0.4589 - val_acc: 0.7844\n",
            "Epoch 53/150\n",
            "154/154 [==============================] - 1s 4ms/step - loss: 0.4444 - acc: 0.7920 - val_loss: 0.4590 - val_acc: 0.7839\n",
            "Epoch 54/150\n",
            "154/154 [==============================] - 1s 4ms/step - loss: 0.4430 - acc: 0.7948 - val_loss: 0.4591 - val_acc: 0.7829\n",
            "Epoch 55/150\n",
            "154/154 [==============================] - 1s 4ms/step - loss: 0.4430 - acc: 0.7918 - val_loss: 0.4589 - val_acc: 0.7844\n",
            "Epoch 56/150\n",
            "154/154 [==============================] - 1s 4ms/step - loss: 0.4435 - acc: 0.7918 - val_loss: 0.4590 - val_acc: 0.7848\n",
            "Epoch 57/150\n",
            "154/154 [==============================] - 1s 4ms/step - loss: 0.4437 - acc: 0.7928 - val_loss: 0.4593 - val_acc: 0.7773\n",
            "Epoch 58/150\n",
            "154/154 [==============================] - 1s 4ms/step - loss: 0.4435 - acc: 0.7936 - val_loss: 0.4600 - val_acc: 0.7758\n",
            "Epoch 59/150\n",
            "154/154 [==============================] - 1s 4ms/step - loss: 0.4444 - acc: 0.7920 - val_loss: 0.4592 - val_acc: 0.7829\n",
            "Epoch 60/150\n",
            "154/154 [==============================] - 1s 4ms/step - loss: 0.4442 - acc: 0.7913 - val_loss: 0.4591 - val_acc: 0.7773\n",
            "Epoch 61/150\n",
            "154/154 [==============================] - 1s 6ms/step - loss: 0.4443 - acc: 0.7903 - val_loss: 0.4596 - val_acc: 0.7796\n",
            "Epoch 62/150\n",
            "154/154 [==============================] - 1s 7ms/step - loss: 0.4431 - acc: 0.7944 - val_loss: 0.4606 - val_acc: 0.7773\n",
            "Epoch 63/150\n",
            "154/154 [==============================] - 1s 7ms/step - loss: 0.4443 - acc: 0.7942 - val_loss: 0.4604 - val_acc: 0.7796\n",
            "Epoch 64/150\n",
            "154/154 [==============================] - 1s 4ms/step - loss: 0.4441 - acc: 0.7911 - val_loss: 0.4603 - val_acc: 0.7763\n",
            "Epoch 65/150\n",
            "154/154 [==============================] - 1s 4ms/step - loss: 0.4434 - acc: 0.7948 - val_loss: 0.4604 - val_acc: 0.7801\n",
            "Epoch 66/150\n",
            "154/154 [==============================] - 1s 4ms/step - loss: 0.4433 - acc: 0.7891 - val_loss: 0.4599 - val_acc: 0.7796\n",
            "Epoch 67/150\n",
            "154/154 [==============================] - 1s 4ms/step - loss: 0.4433 - acc: 0.7924 - val_loss: 0.4595 - val_acc: 0.7773\n",
            "Epoch 68/150\n",
            "154/154 [==============================] - 1s 4ms/step - loss: 0.4431 - acc: 0.7915 - val_loss: 0.4588 - val_acc: 0.7853\n",
            "Epoch 69/150\n",
            "154/154 [==============================] - 1s 4ms/step - loss: 0.4431 - acc: 0.7899 - val_loss: 0.4596 - val_acc: 0.7763\n",
            "Epoch 70/150\n",
            "154/154 [==============================] - 1s 4ms/step - loss: 0.4449 - acc: 0.7881 - val_loss: 0.4590 - val_acc: 0.7844\n",
            "Epoch 71/150\n",
            "154/154 [==============================] - 1s 4ms/step - loss: 0.4430 - acc: 0.7907 - val_loss: 0.4595 - val_acc: 0.7791\n",
            "Epoch 72/150\n",
            "154/154 [==============================] - 1s 4ms/step - loss: 0.4435 - acc: 0.7938 - val_loss: 0.4599 - val_acc: 0.7763\n",
            "Epoch 73/150\n",
            "154/154 [==============================] - 1s 4ms/step - loss: 0.4434 - acc: 0.7889 - val_loss: 0.4644 - val_acc: 0.7720\n",
            "Epoch 74/150\n",
            "154/154 [==============================] - 1s 4ms/step - loss: 0.4433 - acc: 0.7897 - val_loss: 0.4588 - val_acc: 0.7853\n",
            "Epoch 75/150\n",
            "154/154 [==============================] - 1s 4ms/step - loss: 0.4441 - acc: 0.7924 - val_loss: 0.4615 - val_acc: 0.7773\n",
            "Epoch 76/150\n",
            "154/154 [==============================] - 1s 4ms/step - loss: 0.4432 - acc: 0.7926 - val_loss: 0.4589 - val_acc: 0.7820\n",
            "Epoch 77/150\n",
            "154/154 [==============================] - 1s 4ms/step - loss: 0.4432 - acc: 0.7924 - val_loss: 0.4590 - val_acc: 0.7848\n",
            "Epoch 78/150\n",
            "154/154 [==============================] - 1s 4ms/step - loss: 0.4432 - acc: 0.7920 - val_loss: 0.4603 - val_acc: 0.7796\n",
            "Epoch 79/150\n",
            "154/154 [==============================] - 1s 5ms/step - loss: 0.4437 - acc: 0.7879 - val_loss: 0.4592 - val_acc: 0.7848\n",
            "Epoch 80/150\n",
            "154/154 [==============================] - 1s 7ms/step - loss: 0.4437 - acc: 0.7905 - val_loss: 0.4622 - val_acc: 0.7768\n",
            "Epoch 81/150\n",
            "154/154 [==============================] - 1s 7ms/step - loss: 0.4432 - acc: 0.7911 - val_loss: 0.4597 - val_acc: 0.7777\n",
            "Epoch 82/150\n",
            "154/154 [==============================] - 1s 4ms/step - loss: 0.4433 - acc: 0.7893 - val_loss: 0.4597 - val_acc: 0.7796\n",
            "Epoch 83/150\n",
            "154/154 [==============================] - 1s 4ms/step - loss: 0.4432 - acc: 0.7922 - val_loss: 0.4604 - val_acc: 0.7777\n",
            "Epoch 84/150\n",
            "154/154 [==============================] - 1s 4ms/step - loss: 0.4428 - acc: 0.7915 - val_loss: 0.4591 - val_acc: 0.7815\n",
            "Epoch 85/150\n",
            "154/154 [==============================] - 1s 4ms/step - loss: 0.4434 - acc: 0.7934 - val_loss: 0.4586 - val_acc: 0.7839\n",
            "Epoch 86/150\n",
            "154/154 [==============================] - 1s 4ms/step - loss: 0.4437 - acc: 0.7903 - val_loss: 0.4588 - val_acc: 0.7829\n",
            "Epoch 87/150\n",
            "154/154 [==============================] - 1s 4ms/step - loss: 0.4428 - acc: 0.7913 - val_loss: 0.4588 - val_acc: 0.7844\n",
            "Epoch 88/150\n",
            "154/154 [==============================] - 1s 4ms/step - loss: 0.4426 - acc: 0.7930 - val_loss: 0.4622 - val_acc: 0.7801\n",
            "Epoch 89/150\n",
            "154/154 [==============================] - 1s 4ms/step - loss: 0.4448 - acc: 0.7873 - val_loss: 0.4605 - val_acc: 0.7796\n",
            "Epoch 90/150\n",
            "154/154 [==============================] - 1s 5ms/step - loss: 0.4431 - acc: 0.7938 - val_loss: 0.4591 - val_acc: 0.7806\n",
            "Epoch 91/150\n",
            "154/154 [==============================] - 1s 4ms/step - loss: 0.4431 - acc: 0.7926 - val_loss: 0.4588 - val_acc: 0.7806\n",
            "Epoch 92/150\n",
            "154/154 [==============================] - 1s 4ms/step - loss: 0.4434 - acc: 0.7913 - val_loss: 0.4588 - val_acc: 0.7839\n",
            "Epoch 93/150\n",
            "154/154 [==============================] - 1s 4ms/step - loss: 0.4429 - acc: 0.7918 - val_loss: 0.4617 - val_acc: 0.7768\n",
            "Epoch 94/150\n",
            "154/154 [==============================] - 1s 4ms/step - loss: 0.4434 - acc: 0.7913 - val_loss: 0.4594 - val_acc: 0.7801\n",
            "Epoch 95/150\n",
            "154/154 [==============================] - 1s 4ms/step - loss: 0.4432 - acc: 0.7901 - val_loss: 0.4611 - val_acc: 0.7796\n",
            "Epoch 96/150\n",
            "154/154 [==============================] - 1s 4ms/step - loss: 0.4438 - acc: 0.7891 - val_loss: 0.4652 - val_acc: 0.7806\n",
            "Epoch 97/150\n",
            "154/154 [==============================] - 1s 5ms/step - loss: 0.4434 - acc: 0.7909 - val_loss: 0.4592 - val_acc: 0.7791\n",
            "Epoch 98/150\n",
            "154/154 [==============================] - 1s 7ms/step - loss: 0.4425 - acc: 0.7911 - val_loss: 0.4604 - val_acc: 0.7787\n",
            "Epoch 99/150\n",
            "154/154 [==============================] - 1s 6ms/step - loss: 0.4430 - acc: 0.7922 - val_loss: 0.4588 - val_acc: 0.7810\n",
            "Epoch 100/150\n",
            "154/154 [==============================] - 1s 5ms/step - loss: 0.4431 - acc: 0.7924 - val_loss: 0.4597 - val_acc: 0.7796\n",
            "Epoch 101/150\n",
            "154/154 [==============================] - 1s 4ms/step - loss: 0.4440 - acc: 0.7903 - val_loss: 0.4608 - val_acc: 0.7791\n",
            "Epoch 102/150\n",
            "154/154 [==============================] - 1s 4ms/step - loss: 0.4433 - acc: 0.7913 - val_loss: 0.4588 - val_acc: 0.7801\n",
            "Epoch 103/150\n",
            "154/154 [==============================] - 1s 4ms/step - loss: 0.4433 - acc: 0.7926 - val_loss: 0.4649 - val_acc: 0.7739\n",
            "Epoch 104/150\n",
            "154/154 [==============================] - 1s 4ms/step - loss: 0.4447 - acc: 0.7895 - val_loss: 0.4608 - val_acc: 0.7773\n",
            "Epoch 105/150\n",
            "154/154 [==============================] - 1s 4ms/step - loss: 0.4433 - acc: 0.7911 - val_loss: 0.4588 - val_acc: 0.7810\n",
            "Epoch 106/150\n",
            "154/154 [==============================] - 1s 4ms/step - loss: 0.4439 - acc: 0.7932 - val_loss: 0.4591 - val_acc: 0.7834\n",
            "Epoch 107/150\n",
            "154/154 [==============================] - 1s 4ms/step - loss: 0.4427 - acc: 0.7915 - val_loss: 0.4586 - val_acc: 0.7863\n",
            "Epoch 108/150\n",
            "154/154 [==============================] - 1s 4ms/step - loss: 0.4434 - acc: 0.7918 - val_loss: 0.4592 - val_acc: 0.7806\n",
            "Epoch 109/150\n",
            "154/154 [==============================] - 1s 4ms/step - loss: 0.4434 - acc: 0.7940 - val_loss: 0.4585 - val_acc: 0.7839\n",
            "Epoch 110/150\n",
            "154/154 [==============================] - 1s 4ms/step - loss: 0.4432 - acc: 0.7940 - val_loss: 0.4590 - val_acc: 0.7810\n",
            "Epoch 111/150\n",
            "154/154 [==============================] - 1s 4ms/step - loss: 0.4433 - acc: 0.7926 - val_loss: 0.4611 - val_acc: 0.7763\n",
            "Epoch 112/150\n",
            "154/154 [==============================] - 1s 4ms/step - loss: 0.4431 - acc: 0.7930 - val_loss: 0.4593 - val_acc: 0.7791\n",
            "Epoch 113/150\n",
            "154/154 [==============================] - 1s 4ms/step - loss: 0.4430 - acc: 0.7911 - val_loss: 0.4584 - val_acc: 0.7829\n",
            "Epoch 114/150\n",
            "154/154 [==============================] - 1s 4ms/step - loss: 0.4436 - acc: 0.7928 - val_loss: 0.4584 - val_acc: 0.7844\n",
            "Epoch 115/150\n",
            "154/154 [==============================] - 1s 4ms/step - loss: 0.4437 - acc: 0.7934 - val_loss: 0.4587 - val_acc: 0.7806\n",
            "Epoch 116/150\n",
            "154/154 [==============================] - 1s 6ms/step - loss: 0.4431 - acc: 0.7928 - val_loss: 0.4584 - val_acc: 0.7829\n",
            "Epoch 117/150\n",
            "154/154 [==============================] - 1s 7ms/step - loss: 0.4430 - acc: 0.7922 - val_loss: 0.4594 - val_acc: 0.7815\n",
            "Epoch 118/150\n",
            "154/154 [==============================] - 1s 7ms/step - loss: 0.4439 - acc: 0.7907 - val_loss: 0.4586 - val_acc: 0.7848\n",
            "Epoch 119/150\n",
            "154/154 [==============================] - 1s 4ms/step - loss: 0.4432 - acc: 0.7915 - val_loss: 0.4589 - val_acc: 0.7806\n",
            "Epoch 120/150\n",
            "154/154 [==============================] - 1s 4ms/step - loss: 0.4431 - acc: 0.7924 - val_loss: 0.4588 - val_acc: 0.7806\n",
            "Epoch 121/150\n",
            "154/154 [==============================] - 1s 4ms/step - loss: 0.4431 - acc: 0.7942 - val_loss: 0.4616 - val_acc: 0.7801\n",
            "Epoch 122/150\n",
            "154/154 [==============================] - 1s 4ms/step - loss: 0.4438 - acc: 0.7909 - val_loss: 0.4585 - val_acc: 0.7844\n",
            "Epoch 123/150\n",
            "154/154 [==============================] - 1s 4ms/step - loss: 0.4431 - acc: 0.7903 - val_loss: 0.4587 - val_acc: 0.7844\n",
            "Epoch 124/150\n",
            "154/154 [==============================] - 1s 4ms/step - loss: 0.4430 - acc: 0.7913 - val_loss: 0.4594 - val_acc: 0.7810\n",
            "Epoch 125/150\n",
            "154/154 [==============================] - 1s 4ms/step - loss: 0.4433 - acc: 0.7913 - val_loss: 0.4589 - val_acc: 0.7796\n",
            "Epoch 126/150\n",
            "154/154 [==============================] - 1s 4ms/step - loss: 0.4432 - acc: 0.7895 - val_loss: 0.4600 - val_acc: 0.7810\n",
            "Epoch 127/150\n",
            "154/154 [==============================] - 1s 4ms/step - loss: 0.4430 - acc: 0.7897 - val_loss: 0.4587 - val_acc: 0.7815\n",
            "Epoch 128/150\n",
            "154/154 [==============================] - 1s 4ms/step - loss: 0.4446 - acc: 0.7924 - val_loss: 0.4586 - val_acc: 0.7839\n",
            "Epoch 129/150\n",
            "154/154 [==============================] - 1s 4ms/step - loss: 0.4432 - acc: 0.7932 - val_loss: 0.4585 - val_acc: 0.7829\n",
            "Epoch 130/150\n",
            "154/154 [==============================] - 1s 4ms/step - loss: 0.4435 - acc: 0.7909 - val_loss: 0.4585 - val_acc: 0.7834\n",
            "Epoch 131/150\n",
            "154/154 [==============================] - 1s 4ms/step - loss: 0.4431 - acc: 0.7922 - val_loss: 0.4601 - val_acc: 0.7768\n",
            "Epoch 132/150\n",
            "154/154 [==============================] - 1s 4ms/step - loss: 0.4439 - acc: 0.7901 - val_loss: 0.4589 - val_acc: 0.7796\n",
            "Epoch 133/150\n",
            "154/154 [==============================] - 1s 4ms/step - loss: 0.4428 - acc: 0.7915 - val_loss: 0.4587 - val_acc: 0.7806\n",
            "Epoch 134/150\n",
            "154/154 [==============================] - 1s 6ms/step - loss: 0.4433 - acc: 0.7913 - val_loss: 0.4597 - val_acc: 0.7763\n",
            "Epoch 135/150\n",
            "154/154 [==============================] - 1s 6ms/step - loss: 0.4433 - acc: 0.7899 - val_loss: 0.4591 - val_acc: 0.7787\n",
            "Epoch 136/150\n",
            "154/154 [==============================] - 1s 6ms/step - loss: 0.4430 - acc: 0.7922 - val_loss: 0.4584 - val_acc: 0.7825\n",
            "Epoch 137/150\n",
            "154/154 [==============================] - 1s 5ms/step - loss: 0.4439 - acc: 0.7913 - val_loss: 0.4584 - val_acc: 0.7810\n",
            "Epoch 138/150\n",
            "154/154 [==============================] - 1s 4ms/step - loss: 0.4422 - acc: 0.7915 - val_loss: 0.4624 - val_acc: 0.7801\n",
            "Epoch 139/150\n",
            "154/154 [==============================] - 1s 4ms/step - loss: 0.4432 - acc: 0.7915 - val_loss: 0.4584 - val_acc: 0.7839\n",
            "Epoch 140/150\n",
            "154/154 [==============================] - 1s 4ms/step - loss: 0.4425 - acc: 0.7909 - val_loss: 0.4604 - val_acc: 0.7782\n",
            "Epoch 141/150\n",
            "154/154 [==============================] - 1s 4ms/step - loss: 0.4435 - acc: 0.7930 - val_loss: 0.4584 - val_acc: 0.7853\n",
            "Epoch 142/150\n",
            "154/154 [==============================] - 1s 4ms/step - loss: 0.4432 - acc: 0.7938 - val_loss: 0.4596 - val_acc: 0.7782\n",
            "Epoch 143/150\n",
            "154/154 [==============================] - 1s 4ms/step - loss: 0.4430 - acc: 0.7930 - val_loss: 0.4604 - val_acc: 0.7820\n",
            "Epoch 144/150\n",
            "154/154 [==============================] - 1s 4ms/step - loss: 0.4439 - acc: 0.7930 - val_loss: 0.4598 - val_acc: 0.7782\n",
            "Epoch 145/150\n",
            "154/154 [==============================] - 1s 4ms/step - loss: 0.4437 - acc: 0.7911 - val_loss: 0.4586 - val_acc: 0.7825\n",
            "Epoch 146/150\n",
            "154/154 [==============================] - 1s 4ms/step - loss: 0.4437 - acc: 0.7938 - val_loss: 0.4583 - val_acc: 0.7829\n",
            "Epoch 147/150\n",
            "154/154 [==============================] - 1s 4ms/step - loss: 0.4429 - acc: 0.7922 - val_loss: 0.4591 - val_acc: 0.7801\n",
            "Epoch 148/150\n",
            "154/154 [==============================] - 1s 8ms/step - loss: 0.4429 - acc: 0.7922 - val_loss: 0.4597 - val_acc: 0.7796\n",
            "Epoch 149/150\n",
            "154/154 [==============================] - 1s 4ms/step - loss: 0.4434 - acc: 0.7930 - val_loss: 0.4585 - val_acc: 0.7829\n",
            "Epoch 150/150\n",
            "154/154 [==============================] - 1s 4ms/step - loss: 0.4431 - acc: 0.7924 - val_loss: 0.4584 - val_acc: 0.7806\n"
          ]
        }
      ]
    },
    {
      "cell_type": "markdown",
      "source": [
        "***mean validation accuracy***"
      ],
      "metadata": {
        "id": "VyBslaU1aDTj"
      }
    },
    {
      "cell_type": "code",
      "source": [
        "np.mean(model.history.history['val_acc'])"
      ],
      "metadata": {
        "id": "M0Qj2nPkCt2C",
        "colab": {
          "base_uri": "https://localhost:8080/"
        },
        "outputId": "8a0980b0-2987-4f80-8be6-f49a7bd5c08c"
      },
      "execution_count": 88,
      "outputs": [
        {
          "output_type": "execute_result",
          "data": {
            "text/plain": [
              "0.7802811960379282"
            ]
          },
          "metadata": {},
          "execution_count": 88
        }
      ]
    },
    {
      "cell_type": "markdown",
      "source": [
        "So, the mean validation accuracy comes out to be 78.03%\n",
        "\n",
        "<hr>"
      ],
      "metadata": {
        "id": "EEBr8aO7qxf4"
      }
    },
    {
      "cell_type": "markdown",
      "source": [
        "**v. Predict the values on the test set and build a confusion matrix**"
      ],
      "metadata": {
        "id": "kP0-Suma_avQ"
      }
    },
    {
      "cell_type": "code",
      "source": [
        "Y_predictions = np.argmax(model.predict(X_test),axis=1)\n",
        "from sklearn.metrics import confusion_matrix\n",
        "cm2 = confusion_matrix(Y_test,Y_predictions)\n",
        "cm2\n"
      ],
      "metadata": {
        "colab": {
          "base_uri": "https://localhost:8080/"
        },
        "id": "EAnNBePkcQNE",
        "outputId": "8c8a20d2-5d5b-4f62-f8dc-d8e5d127a216"
      },
      "execution_count": 94,
      "outputs": [
        {
          "output_type": "stream",
          "name": "stdout",
          "text": [
            "66/66 [==============================] - 0s 2ms/step\n"
          ]
        },
        {
          "output_type": "execute_result",
          "data": {
            "text/plain": [
              "array([[1549,    0],\n",
              "       [ 561,    0]])"
            ]
          },
          "metadata": {},
          "execution_count": 94
        }
      ]
    },
    {
      "cell_type": "code",
      "source": [
        "import seaborn as sn\n",
        "plt.figure(figsize = (10,7))\n",
        "sn.heatmap(cm2, annot=True, fmt='d',cmap=plt.cm.Blues)\n",
        "plt.xlabel('Predicted')\n",
        "plt.ylabel('Truth')"
      ],
      "metadata": {
        "colab": {
          "base_uri": "https://localhost:8080/",
          "height": 636
        },
        "id": "5z1gv-xBCVJ-",
        "outputId": "117d5ad7-025e-43ab-a6a9-11f6b5efb72c"
      },
      "execution_count": 95,
      "outputs": [
        {
          "output_type": "execute_result",
          "data": {
            "text/plain": [
              "Text(95.72222222222221, 0.5, 'Truth')"
            ]
          },
          "metadata": {},
          "execution_count": 95
        },
        {
          "output_type": "display_data",
          "data": {
            "text/plain": [
              "<Figure size 1000x700 with 2 Axes>"
            ],
            "image/png": "[encoded data removed]"
          },
          "metadata": {}
        }
      ]
    },
    {
      "cell_type": "code",
      "source": [
        "from sklearn.metrics import accuracy_score\n",
        "accuracy_score(Y_test,Y_predictions)"
      ],
      "metadata": {
        "colab": {
          "base_uri": "https://localhost:8080/"
        },
        "id": "Hq8280tgCa52",
        "outputId": "c67f5928-c8c4-4402-f137-ebf507970152"
      },
      "execution_count": 96,
      "outputs": [
        {
          "output_type": "execute_result",
          "data": {
            "text/plain": [
              "0.7341232227488151"
            ]
          },
          "metadata": {},
          "execution_count": 96
        }
      ]
    },
    {
      "cell_type": "markdown",
      "source": [
        "**vi. Plot the ‘Accuracy vs Epochs’ graph**"
      ],
      "metadata": {
        "id": "J7_e7zMg_agr"
      }
    },
    {
      "cell_type": "code",
      "source": [
        "plt.ylim(0.72,0.80)\n",
        "plt.plot(History.history['acc'],color='r')\n",
        "plt.plot(History.history['val_acc'],color='g')"
      ],
      "metadata": {
        "colab": {
          "base_uri": "https://localhost:8080/",
          "height": 452
        },
        "id": "OO_WFM6049U7",
        "outputId": "01cfbd69-ae6b-4af5-fd31-4e9c73241791"
      },
      "execution_count": 101,
      "outputs": [
        {
          "output_type": "execute_result",
          "data": {
            "text/plain": [
              "[<matplotlib.lines.Line2D at 0x780313453cd0>]"
            ]
          },
          "metadata": {},
          "execution_count": 101
        },
        {
          "output_type": "display_data",
          "data": {
            "text/plain": [
              "<Figure size 640x480 with 1 Axes>"
            ],
            "image/png": "[encoded data removed]"
          },
          "metadata": {}
        }
      ]
    },
    {
      "cell_type": "markdown",
      "source": [
        "**<hr>**\n",
        "\n",
        "## **Conclusion:**\n",
        "### **The first model gave us a mean validation accuracy of 74.56%, the second model had accuracy of 73.41% and the third model had a mean validation accuracy of 78.03%.**\n",
        "\n",
        "**<hr>**"
      ],
      "metadata": {
        "id": "xmQxjgQhrYF4"
      }
    }
  ]
}